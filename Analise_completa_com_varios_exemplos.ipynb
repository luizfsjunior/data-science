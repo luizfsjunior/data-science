{
  "nbformat": 4,
  "nbformat_minor": 0,
  "metadata": {
    "colab": {
      "provenance": [],
      "collapsed_sections": [],
      "authorship_tag": "ABX9TyP3nfSLQiIwHoAU2TQqe9vE",
      "include_colab_link": true
    },
    "kernelspec": {
      "name": "python3",
      "display_name": "Python 3"
    },
    "language_info": {
      "name": "python"
    },
    "accelerator": "GPU",
    "gpuClass": "standard"
  },
  "cells": [
    {
      "cell_type": "markdown",
      "metadata": {
        "id": "view-in-github",
        "colab_type": "text"
      },
      "source": [
        "<a href=\"https://colab.research.google.com/github/luizfsjunior/data-science/blob/main/Analise_completa_com_varios_exemplos.ipynb\" target=\"_parent\"><img src=\"https://colab.research.google.com/assets/colab-badge.svg\" alt=\"Open In Colab\"/></a>"
      ]
    },
    {
      "cell_type": "code",
      "source": [
        "import numpy as np\n",
        "series = [[23,45,12,679], [14,48,69,38]]\n",
        "new_series = np.array(series)\n",
        "print(new_series.ndim)\n",
        "print(new_series.shape)"
      ],
      "metadata": {
        "colab": {
          "base_uri": "https://localhost:8080/"
        },
        "id": "x1_gWcYol7NG",
        "outputId": "cd6e1a9a-ae8e-48e9-9065-581ae5d4f248"
      },
      "execution_count": null,
      "outputs": [
        {
          "output_type": "stream",
          "name": "stdout",
          "text": [
            "2\n",
            "(2, 4)\n"
          ]
        }
      ]
    },
    {
      "cell_type": "code",
      "source": [
        "teste3 = np.eye(5)\n",
        "teste3[teste3 == 0] = -1\n",
        "print(teste3)"
      ],
      "metadata": {
        "colab": {
          "base_uri": "https://localhost:8080/"
        },
        "id": "H6_6fHwZmT5O",
        "outputId": "b1b6218f-d02a-41f5-b9f4-5b2f2bc4faff"
      },
      "execution_count": null,
      "outputs": [
        {
          "output_type": "stream",
          "name": "stdout",
          "text": [
            "[[ 1. -1. -1. -1. -1.]\n",
            " [-1.  1. -1. -1. -1.]\n",
            " [-1. -1.  1. -1. -1.]\n",
            " [-1. -1. -1.  1. -1.]\n",
            " [-1. -1. -1. -1.  1.]]\n"
          ]
        }
      ]
    },
    {
      "cell_type": "code",
      "source": [
        "import numpy as np\n",
        "dataset = np.array(['paul', 'jacob', 'vince', 'paul', 'miky', 'larence', 'warren'])\n",
        "print(dataset == 'paul')"
      ],
      "metadata": {
        "colab": {
          "base_uri": "https://localhost:8080/"
        },
        "id": "X-KEbOcYm9sG",
        "outputId": "ddfaeb83-808b-4aa9-a545-8913ec958fa1"
      },
      "execution_count": null,
      "outputs": [
        {
          "output_type": "stream",
          "name": "stdout",
          "text": [
            "[ True False False  True False False False]\n"
          ]
        }
      ]
    },
    {
      "cell_type": "code",
      "source": [
        "import numpy as np\n",
        "A = np.arange(1, 16).reshape(3,5)\n",
        "print(A[A % 2 == 0][0:4])\n"
      ],
      "metadata": {
        "colab": {
          "base_uri": "https://localhost:8080/"
        },
        "id": "DkLL9VXHnEdl",
        "outputId": "8105974c-fde7-48f9-d503-e6cc642a841c"
      },
      "execution_count": null,
      "outputs": [
        {
          "output_type": "stream",
          "name": "stdout",
          "text": [
            "[2 4 6 8]\n"
          ]
        }
      ]
    },
    {
      "cell_type": "code",
      "source": [
        "teste = np.array([0, 1, 2, 3, 4, 5, 6, 7, 8, 9])\n",
        "\n",
        "teste[-2::-2] = -1\n",
        "print(teste)"
      ],
      "metadata": {
        "colab": {
          "base_uri": "https://localhost:8080/"
        },
        "id": "eqOhru9CnL-u",
        "outputId": "81dd1c94-2731-42bf-f288-dd7f601c242a"
      },
      "execution_count": null,
      "outputs": [
        {
          "output_type": "stream",
          "name": "stdout",
          "text": [
            "[-1  1 -1  3 -1  5 -1  7 -1  9]\n"
          ]
        }
      ]
    },
    {
      "cell_type": "markdown",
      "source": [
        "#1) Construir um notebook que apresente uma análise exploratória das variáveis do conjunto de dados abaixo utilizando os métodos de estatística descritiva"
      ],
      "metadata": {
        "id": "00FCGS_rYcbY"
      }
    },
    {
      "cell_type": "code",
      "execution_count": null,
      "metadata": {
        "colab": {
          "base_uri": "https://localhost:8080/",
          "height": 423
        },
        "id": "gWzIJcrYYZoi",
        "outputId": "5641b3af-cf1f-4d2c-b938-fbb8d10fc547"
      },
      "outputs": [
        {
          "output_type": "execute_result",
          "data": {
            "text/plain": [
              "                Mfr Name                 Carline  Eng Displ  Cylinders  \\\n",
              "0           aston martin              Vantage V8        4.0          8   \n",
              "1    Volkswagen Group of                  Chiron        8.0         16   \n",
              "2         General Motors                CORVETTE        6.2          8   \n",
              "3         General Motors                CORVETTE        6.2          8   \n",
              "4         General Motors                CORVETTE        6.2          8   \n",
              "..                   ...                     ...        ...        ...   \n",
              "713               Toyota             4RUNNER 4WD        4.0          6   \n",
              "714               Toyota  LAND CRUISER WAGON 4WD        5.7          8   \n",
              "715               Toyota             SEQUOIA 4WD        5.7          8   \n",
              "716                Volvo                XC90 AWD        2.0          4   \n",
              "717                Volvo                XC90 AWD        2.0          4   \n",
              "\n",
              "    Transmission  CityMPG  HwyMPG  CombMPG  # Gears  \n",
              "0       Auto(S8)       18      25       21        8  \n",
              "1    Auto(AM-S7)        9      14       11        7  \n",
              "2       Auto(S8)       12      20       15        8  \n",
              "3       Auto(S8)       15      25       18        8  \n",
              "4       Auto(S8)       14      23       17        8  \n",
              "..           ...      ...     ...      ...      ...  \n",
              "713     Auto(S5)       17      20       18        5  \n",
              "714     Auto(S8)       13      18       15        8  \n",
              "715     Auto(S6)       13      17       14        6  \n",
              "716     Auto(S8)       19      26       22        8  \n",
              "717     Auto(S8)       20      27       23        8  \n",
              "\n",
              "[718 rows x 9 columns]"
            ],
            "text/html": [
              "\n",
              "  <div id=\"df-f3a6a890-b1ad-4919-99f2-049cbff1e2bd\">\n",
              "    <div class=\"colab-df-container\">\n",
              "      <div>\n",
              "<style scoped>\n",
              "    .dataframe tbody tr th:only-of-type {\n",
              "        vertical-align: middle;\n",
              "    }\n",
              "\n",
              "    .dataframe tbody tr th {\n",
              "        vertical-align: top;\n",
              "    }\n",
              "\n",
              "    .dataframe thead th {\n",
              "        text-align: right;\n",
              "    }\n",
              "</style>\n",
              "<table border=\"1\" class=\"dataframe\">\n",
              "  <thead>\n",
              "    <tr style=\"text-align: right;\">\n",
              "      <th></th>\n",
              "      <th>Mfr Name</th>\n",
              "      <th>Carline</th>\n",
              "      <th>Eng Displ</th>\n",
              "      <th>Cylinders</th>\n",
              "      <th>Transmission</th>\n",
              "      <th>CityMPG</th>\n",
              "      <th>HwyMPG</th>\n",
              "      <th>CombMPG</th>\n",
              "      <th># Gears</th>\n",
              "    </tr>\n",
              "  </thead>\n",
              "  <tbody>\n",
              "    <tr>\n",
              "      <th>0</th>\n",
              "      <td>aston martin</td>\n",
              "      <td>Vantage V8</td>\n",
              "      <td>4.0</td>\n",
              "      <td>8</td>\n",
              "      <td>Auto(S8)</td>\n",
              "      <td>18</td>\n",
              "      <td>25</td>\n",
              "      <td>21</td>\n",
              "      <td>8</td>\n",
              "    </tr>\n",
              "    <tr>\n",
              "      <th>1</th>\n",
              "      <td>Volkswagen Group of</td>\n",
              "      <td>Chiron</td>\n",
              "      <td>8.0</td>\n",
              "      <td>16</td>\n",
              "      <td>Auto(AM-S7)</td>\n",
              "      <td>9</td>\n",
              "      <td>14</td>\n",
              "      <td>11</td>\n",
              "      <td>7</td>\n",
              "    </tr>\n",
              "    <tr>\n",
              "      <th>2</th>\n",
              "      <td>General Motors</td>\n",
              "      <td>CORVETTE</td>\n",
              "      <td>6.2</td>\n",
              "      <td>8</td>\n",
              "      <td>Auto(S8)</td>\n",
              "      <td>12</td>\n",
              "      <td>20</td>\n",
              "      <td>15</td>\n",
              "      <td>8</td>\n",
              "    </tr>\n",
              "    <tr>\n",
              "      <th>3</th>\n",
              "      <td>General Motors</td>\n",
              "      <td>CORVETTE</td>\n",
              "      <td>6.2</td>\n",
              "      <td>8</td>\n",
              "      <td>Auto(S8)</td>\n",
              "      <td>15</td>\n",
              "      <td>25</td>\n",
              "      <td>18</td>\n",
              "      <td>8</td>\n",
              "    </tr>\n",
              "    <tr>\n",
              "      <th>4</th>\n",
              "      <td>General Motors</td>\n",
              "      <td>CORVETTE</td>\n",
              "      <td>6.2</td>\n",
              "      <td>8</td>\n",
              "      <td>Auto(S8)</td>\n",
              "      <td>14</td>\n",
              "      <td>23</td>\n",
              "      <td>17</td>\n",
              "      <td>8</td>\n",
              "    </tr>\n",
              "    <tr>\n",
              "      <th>...</th>\n",
              "      <td>...</td>\n",
              "      <td>...</td>\n",
              "      <td>...</td>\n",
              "      <td>...</td>\n",
              "      <td>...</td>\n",
              "      <td>...</td>\n",
              "      <td>...</td>\n",
              "      <td>...</td>\n",
              "      <td>...</td>\n",
              "    </tr>\n",
              "    <tr>\n",
              "      <th>713</th>\n",
              "      <td>Toyota</td>\n",
              "      <td>4RUNNER 4WD</td>\n",
              "      <td>4.0</td>\n",
              "      <td>6</td>\n",
              "      <td>Auto(S5)</td>\n",
              "      <td>17</td>\n",
              "      <td>20</td>\n",
              "      <td>18</td>\n",
              "      <td>5</td>\n",
              "    </tr>\n",
              "    <tr>\n",
              "      <th>714</th>\n",
              "      <td>Toyota</td>\n",
              "      <td>LAND CRUISER WAGON 4WD</td>\n",
              "      <td>5.7</td>\n",
              "      <td>8</td>\n",
              "      <td>Auto(S8)</td>\n",
              "      <td>13</td>\n",
              "      <td>18</td>\n",
              "      <td>15</td>\n",
              "      <td>8</td>\n",
              "    </tr>\n",
              "    <tr>\n",
              "      <th>715</th>\n",
              "      <td>Toyota</td>\n",
              "      <td>SEQUOIA 4WD</td>\n",
              "      <td>5.7</td>\n",
              "      <td>8</td>\n",
              "      <td>Auto(S6)</td>\n",
              "      <td>13</td>\n",
              "      <td>17</td>\n",
              "      <td>14</td>\n",
              "      <td>6</td>\n",
              "    </tr>\n",
              "    <tr>\n",
              "      <th>716</th>\n",
              "      <td>Volvo</td>\n",
              "      <td>XC90 AWD</td>\n",
              "      <td>2.0</td>\n",
              "      <td>4</td>\n",
              "      <td>Auto(S8)</td>\n",
              "      <td>19</td>\n",
              "      <td>26</td>\n",
              "      <td>22</td>\n",
              "      <td>8</td>\n",
              "    </tr>\n",
              "    <tr>\n",
              "      <th>717</th>\n",
              "      <td>Volvo</td>\n",
              "      <td>XC90 AWD</td>\n",
              "      <td>2.0</td>\n",
              "      <td>4</td>\n",
              "      <td>Auto(S8)</td>\n",
              "      <td>20</td>\n",
              "      <td>27</td>\n",
              "      <td>23</td>\n",
              "      <td>8</td>\n",
              "    </tr>\n",
              "  </tbody>\n",
              "</table>\n",
              "<p>718 rows × 9 columns</p>\n",
              "</div>\n",
              "      <button class=\"colab-df-convert\" onclick=\"convertToInteractive('df-f3a6a890-b1ad-4919-99f2-049cbff1e2bd')\"\n",
              "              title=\"Convert this dataframe to an interactive table.\"\n",
              "              style=\"display:none;\">\n",
              "        \n",
              "  <svg xmlns=\"http://www.w3.org/2000/svg\" height=\"24px\"viewBox=\"0 0 24 24\"\n",
              "       width=\"24px\">\n",
              "    <path d=\"M0 0h24v24H0V0z\" fill=\"none\"/>\n",
              "    <path d=\"M18.56 5.44l.94 2.06.94-2.06 2.06-.94-2.06-.94-.94-2.06-.94 2.06-2.06.94zm-11 1L8.5 8.5l.94-2.06 2.06-.94-2.06-.94L8.5 2.5l-.94 2.06-2.06.94zm10 10l.94 2.06.94-2.06 2.06-.94-2.06-.94-.94-2.06-.94 2.06-2.06.94z\"/><path d=\"M17.41 7.96l-1.37-1.37c-.4-.4-.92-.59-1.43-.59-.52 0-1.04.2-1.43.59L10.3 9.45l-7.72 7.72c-.78.78-.78 2.05 0 2.83L4 21.41c.39.39.9.59 1.41.59.51 0 1.02-.2 1.41-.59l7.78-7.78 2.81-2.81c.8-.78.8-2.07 0-2.86zM5.41 20L4 18.59l7.72-7.72 1.47 1.35L5.41 20z\"/>\n",
              "  </svg>\n",
              "      </button>\n",
              "      \n",
              "  <style>\n",
              "    .colab-df-container {\n",
              "      display:flex;\n",
              "      flex-wrap:wrap;\n",
              "      gap: 12px;\n",
              "    }\n",
              "\n",
              "    .colab-df-convert {\n",
              "      background-color: #E8F0FE;\n",
              "      border: none;\n",
              "      border-radius: 50%;\n",
              "      cursor: pointer;\n",
              "      display: none;\n",
              "      fill: #1967D2;\n",
              "      height: 32px;\n",
              "      padding: 0 0 0 0;\n",
              "      width: 32px;\n",
              "    }\n",
              "\n",
              "    .colab-df-convert:hover {\n",
              "      background-color: #E2EBFA;\n",
              "      box-shadow: 0px 1px 2px rgba(60, 64, 67, 0.3), 0px 1px 3px 1px rgba(60, 64, 67, 0.15);\n",
              "      fill: #174EA6;\n",
              "    }\n",
              "\n",
              "    [theme=dark] .colab-df-convert {\n",
              "      background-color: #3B4455;\n",
              "      fill: #D2E3FC;\n",
              "    }\n",
              "\n",
              "    [theme=dark] .colab-df-convert:hover {\n",
              "      background-color: #434B5C;\n",
              "      box-shadow: 0px 1px 3px 1px rgba(0, 0, 0, 0.15);\n",
              "      filter: drop-shadow(0px 1px 2px rgba(0, 0, 0, 0.3));\n",
              "      fill: #FFFFFF;\n",
              "    }\n",
              "  </style>\n",
              "\n",
              "      <script>\n",
              "        const buttonEl =\n",
              "          document.querySelector('#df-f3a6a890-b1ad-4919-99f2-049cbff1e2bd button.colab-df-convert');\n",
              "        buttonEl.style.display =\n",
              "          google.colab.kernel.accessAllowed ? 'block' : 'none';\n",
              "\n",
              "        async function convertToInteractive(key) {\n",
              "          const element = document.querySelector('#df-f3a6a890-b1ad-4919-99f2-049cbff1e2bd');\n",
              "          const dataTable =\n",
              "            await google.colab.kernel.invokeFunction('convertToInteractive',\n",
              "                                                     [key], {});\n",
              "          if (!dataTable) return;\n",
              "\n",
              "          const docLinkHtml = 'Like what you see? Visit the ' +\n",
              "            '<a target=\"_blank\" href=https://colab.research.google.com/notebooks/data_table.ipynb>data table notebook</a>'\n",
              "            + ' to learn more about interactive tables.';\n",
              "          element.innerHTML = '';\n",
              "          dataTable['output_type'] = 'display_data';\n",
              "          await google.colab.output.renderOutput(dataTable, element);\n",
              "          const docLink = document.createElement('div');\n",
              "          docLink.innerHTML = docLinkHtml;\n",
              "          element.appendChild(docLink);\n",
              "        }\n",
              "      </script>\n",
              "    </div>\n",
              "  </div>\n",
              "  "
            ]
          },
          "metadata": {},
          "execution_count": 17
        }
      ],
      "source": [
        "import pandas as pd\n",
        "import numpy as np\n",
        "import statistics\n",
        "from sklearn.compose import make_column_transformer\n",
        "from sklearn.preprocessing import  StandardScaler, OneHotEncoder\n",
        "fuel = pd.read_csv('/content/FuelEfficiency.csv', na_values=['?'])\n",
        "fuel\n"
      ]
    },
    {
      "cell_type": "code",
      "source": [
        "if fuel.isnull().values.any()== True:\n",
        "  print(\"Há dados vazios\")\n",
        "else:\n",
        "  print(\"Não há dados vazios\")\n"
      ],
      "metadata": {
        "colab": {
          "base_uri": "https://localhost:8080/"
        },
        "id": "tmra8MkNYcPp",
        "outputId": "abe42b16-3136-4f83-c16b-ac998ed9e1de"
      },
      "execution_count": null,
      "outputs": [
        {
          "output_type": "stream",
          "name": "stdout",
          "text": [
            "Não há dados vazios\n"
          ]
        }
      ]
    },
    {
      "cell_type": "code",
      "source": [
        "fuel.describe()"
      ],
      "metadata": {
        "colab": {
          "base_uri": "https://localhost:8080/",
          "height": 300
        },
        "id": "vpbdVDGwZk4H",
        "outputId": "7852a494-8a16-4477-f3e3-da0a875cb32a"
      },
      "execution_count": null,
      "outputs": [
        {
          "output_type": "execute_result",
          "data": {
            "text/plain": [
              "        Eng Displ   Cylinders     CityMPG      HwyMPG     CombMPG     # Gears\n",
              "count  718.000000  718.000000  718.000000  718.000000  718.000000  718.000000\n",
              "mean     3.092061    5.493036   20.442897   27.760446   23.139276    7.147632\n",
              "std      1.344572    1.752251    5.298504    5.607924    5.368443    1.507929\n",
              "min      1.400000    3.000000    9.000000   14.000000   11.000000    1.000000\n",
              "25%      2.000000    4.000000   17.000000   24.000000   19.000000    6.000000\n",
              "50%      3.000000    6.000000   20.000000   27.000000   23.000000    7.000000\n",
              "75%      3.600000    6.000000   23.000000   31.000000   26.000000    8.000000\n",
              "max      8.000000   16.000000   57.000000   59.000000   58.000000   10.000000"
            ],
            "text/html": [
              "\n",
              "  <div id=\"df-b5b6c56c-538a-40ba-9c64-03dd77cafa60\">\n",
              "    <div class=\"colab-df-container\">\n",
              "      <div>\n",
              "<style scoped>\n",
              "    .dataframe tbody tr th:only-of-type {\n",
              "        vertical-align: middle;\n",
              "    }\n",
              "\n",
              "    .dataframe tbody tr th {\n",
              "        vertical-align: top;\n",
              "    }\n",
              "\n",
              "    .dataframe thead th {\n",
              "        text-align: right;\n",
              "    }\n",
              "</style>\n",
              "<table border=\"1\" class=\"dataframe\">\n",
              "  <thead>\n",
              "    <tr style=\"text-align: right;\">\n",
              "      <th></th>\n",
              "      <th>Eng Displ</th>\n",
              "      <th>Cylinders</th>\n",
              "      <th>CityMPG</th>\n",
              "      <th>HwyMPG</th>\n",
              "      <th>CombMPG</th>\n",
              "      <th># Gears</th>\n",
              "    </tr>\n",
              "  </thead>\n",
              "  <tbody>\n",
              "    <tr>\n",
              "      <th>count</th>\n",
              "      <td>718.000000</td>\n",
              "      <td>718.000000</td>\n",
              "      <td>718.000000</td>\n",
              "      <td>718.000000</td>\n",
              "      <td>718.000000</td>\n",
              "      <td>718.000000</td>\n",
              "    </tr>\n",
              "    <tr>\n",
              "      <th>mean</th>\n",
              "      <td>3.092061</td>\n",
              "      <td>5.493036</td>\n",
              "      <td>20.442897</td>\n",
              "      <td>27.760446</td>\n",
              "      <td>23.139276</td>\n",
              "      <td>7.147632</td>\n",
              "    </tr>\n",
              "    <tr>\n",
              "      <th>std</th>\n",
              "      <td>1.344572</td>\n",
              "      <td>1.752251</td>\n",
              "      <td>5.298504</td>\n",
              "      <td>5.607924</td>\n",
              "      <td>5.368443</td>\n",
              "      <td>1.507929</td>\n",
              "    </tr>\n",
              "    <tr>\n",
              "      <th>min</th>\n",
              "      <td>1.400000</td>\n",
              "      <td>3.000000</td>\n",
              "      <td>9.000000</td>\n",
              "      <td>14.000000</td>\n",
              "      <td>11.000000</td>\n",
              "      <td>1.000000</td>\n",
              "    </tr>\n",
              "    <tr>\n",
              "      <th>25%</th>\n",
              "      <td>2.000000</td>\n",
              "      <td>4.000000</td>\n",
              "      <td>17.000000</td>\n",
              "      <td>24.000000</td>\n",
              "      <td>19.000000</td>\n",
              "      <td>6.000000</td>\n",
              "    </tr>\n",
              "    <tr>\n",
              "      <th>50%</th>\n",
              "      <td>3.000000</td>\n",
              "      <td>6.000000</td>\n",
              "      <td>20.000000</td>\n",
              "      <td>27.000000</td>\n",
              "      <td>23.000000</td>\n",
              "      <td>7.000000</td>\n",
              "    </tr>\n",
              "    <tr>\n",
              "      <th>75%</th>\n",
              "      <td>3.600000</td>\n",
              "      <td>6.000000</td>\n",
              "      <td>23.000000</td>\n",
              "      <td>31.000000</td>\n",
              "      <td>26.000000</td>\n",
              "      <td>8.000000</td>\n",
              "    </tr>\n",
              "    <tr>\n",
              "      <th>max</th>\n",
              "      <td>8.000000</td>\n",
              "      <td>16.000000</td>\n",
              "      <td>57.000000</td>\n",
              "      <td>59.000000</td>\n",
              "      <td>58.000000</td>\n",
              "      <td>10.000000</td>\n",
              "    </tr>\n",
              "  </tbody>\n",
              "</table>\n",
              "</div>\n",
              "      <button class=\"colab-df-convert\" onclick=\"convertToInteractive('df-b5b6c56c-538a-40ba-9c64-03dd77cafa60')\"\n",
              "              title=\"Convert this dataframe to an interactive table.\"\n",
              "              style=\"display:none;\">\n",
              "        \n",
              "  <svg xmlns=\"http://www.w3.org/2000/svg\" height=\"24px\"viewBox=\"0 0 24 24\"\n",
              "       width=\"24px\">\n",
              "    <path d=\"M0 0h24v24H0V0z\" fill=\"none\"/>\n",
              "    <path d=\"M18.56 5.44l.94 2.06.94-2.06 2.06-.94-2.06-.94-.94-2.06-.94 2.06-2.06.94zm-11 1L8.5 8.5l.94-2.06 2.06-.94-2.06-.94L8.5 2.5l-.94 2.06-2.06.94zm10 10l.94 2.06.94-2.06 2.06-.94-2.06-.94-.94-2.06-.94 2.06-2.06.94z\"/><path d=\"M17.41 7.96l-1.37-1.37c-.4-.4-.92-.59-1.43-.59-.52 0-1.04.2-1.43.59L10.3 9.45l-7.72 7.72c-.78.78-.78 2.05 0 2.83L4 21.41c.39.39.9.59 1.41.59.51 0 1.02-.2 1.41-.59l7.78-7.78 2.81-2.81c.8-.78.8-2.07 0-2.86zM5.41 20L4 18.59l7.72-7.72 1.47 1.35L5.41 20z\"/>\n",
              "  </svg>\n",
              "      </button>\n",
              "      \n",
              "  <style>\n",
              "    .colab-df-container {\n",
              "      display:flex;\n",
              "      flex-wrap:wrap;\n",
              "      gap: 12px;\n",
              "    }\n",
              "\n",
              "    .colab-df-convert {\n",
              "      background-color: #E8F0FE;\n",
              "      border: none;\n",
              "      border-radius: 50%;\n",
              "      cursor: pointer;\n",
              "      display: none;\n",
              "      fill: #1967D2;\n",
              "      height: 32px;\n",
              "      padding: 0 0 0 0;\n",
              "      width: 32px;\n",
              "    }\n",
              "\n",
              "    .colab-df-convert:hover {\n",
              "      background-color: #E2EBFA;\n",
              "      box-shadow: 0px 1px 2px rgba(60, 64, 67, 0.3), 0px 1px 3px 1px rgba(60, 64, 67, 0.15);\n",
              "      fill: #174EA6;\n",
              "    }\n",
              "\n",
              "    [theme=dark] .colab-df-convert {\n",
              "      background-color: #3B4455;\n",
              "      fill: #D2E3FC;\n",
              "    }\n",
              "\n",
              "    [theme=dark] .colab-df-convert:hover {\n",
              "      background-color: #434B5C;\n",
              "      box-shadow: 0px 1px 3px 1px rgba(0, 0, 0, 0.15);\n",
              "      filter: drop-shadow(0px 1px 2px rgba(0, 0, 0, 0.3));\n",
              "      fill: #FFFFFF;\n",
              "    }\n",
              "  </style>\n",
              "\n",
              "      <script>\n",
              "        const buttonEl =\n",
              "          document.querySelector('#df-b5b6c56c-538a-40ba-9c64-03dd77cafa60 button.colab-df-convert');\n",
              "        buttonEl.style.display =\n",
              "          google.colab.kernel.accessAllowed ? 'block' : 'none';\n",
              "\n",
              "        async function convertToInteractive(key) {\n",
              "          const element = document.querySelector('#df-b5b6c56c-538a-40ba-9c64-03dd77cafa60');\n",
              "          const dataTable =\n",
              "            await google.colab.kernel.invokeFunction('convertToInteractive',\n",
              "                                                     [key], {});\n",
              "          if (!dataTable) return;\n",
              "\n",
              "          const docLinkHtml = 'Like what you see? Visit the ' +\n",
              "            '<a target=\"_blank\" href=https://colab.research.google.com/notebooks/data_table.ipynb>data table notebook</a>'\n",
              "            + ' to learn more about interactive tables.';\n",
              "          element.innerHTML = '';\n",
              "          dataTable['output_type'] = 'display_data';\n",
              "          await google.colab.output.renderOutput(dataTable, element);\n",
              "          const docLink = document.createElement('div');\n",
              "          docLink.innerHTML = docLinkHtml;\n",
              "          element.appendChild(docLink);\n",
              "        }\n",
              "      </script>\n",
              "    </div>\n",
              "  </div>\n",
              "  "
            ]
          },
          "metadata": {},
          "execution_count": 19
        }
      ]
    },
    {
      "cell_type": "code",
      "source": [
        "fuel_dados = fuel.copy()\n",
        "fuel_dados = fuel_dados.drop(columns=['Mfr Name', 'Carline', 'Transmission'])\n",
        "fuel_dados"
      ],
      "metadata": {
        "colab": {
          "base_uri": "https://localhost:8080/",
          "height": 423
        },
        "id": "Wv6YsNfRa98Y",
        "outputId": "fd44248f-9eb7-40f9-c1f7-062376f7ffd0"
      },
      "execution_count": null,
      "outputs": [
        {
          "output_type": "execute_result",
          "data": {
            "text/plain": [
              "     Eng Displ  Cylinders  CityMPG  HwyMPG  CombMPG  # Gears\n",
              "0          4.0          8       18      25       21        8\n",
              "1          8.0         16        9      14       11        7\n",
              "2          6.2          8       12      20       15        8\n",
              "3          6.2          8       15      25       18        8\n",
              "4          6.2          8       14      23       17        8\n",
              "..         ...        ...      ...     ...      ...      ...\n",
              "713        4.0          6       17      20       18        5\n",
              "714        5.7          8       13      18       15        8\n",
              "715        5.7          8       13      17       14        6\n",
              "716        2.0          4       19      26       22        8\n",
              "717        2.0          4       20      27       23        8\n",
              "\n",
              "[718 rows x 6 columns]"
            ],
            "text/html": [
              "\n",
              "  <div id=\"df-15c34da9-0351-4b40-b3b1-61d6747f5892\">\n",
              "    <div class=\"colab-df-container\">\n",
              "      <div>\n",
              "<style scoped>\n",
              "    .dataframe tbody tr th:only-of-type {\n",
              "        vertical-align: middle;\n",
              "    }\n",
              "\n",
              "    .dataframe tbody tr th {\n",
              "        vertical-align: top;\n",
              "    }\n",
              "\n",
              "    .dataframe thead th {\n",
              "        text-align: right;\n",
              "    }\n",
              "</style>\n",
              "<table border=\"1\" class=\"dataframe\">\n",
              "  <thead>\n",
              "    <tr style=\"text-align: right;\">\n",
              "      <th></th>\n",
              "      <th>Eng Displ</th>\n",
              "      <th>Cylinders</th>\n",
              "      <th>CityMPG</th>\n",
              "      <th>HwyMPG</th>\n",
              "      <th>CombMPG</th>\n",
              "      <th># Gears</th>\n",
              "    </tr>\n",
              "  </thead>\n",
              "  <tbody>\n",
              "    <tr>\n",
              "      <th>0</th>\n",
              "      <td>4.0</td>\n",
              "      <td>8</td>\n",
              "      <td>18</td>\n",
              "      <td>25</td>\n",
              "      <td>21</td>\n",
              "      <td>8</td>\n",
              "    </tr>\n",
              "    <tr>\n",
              "      <th>1</th>\n",
              "      <td>8.0</td>\n",
              "      <td>16</td>\n",
              "      <td>9</td>\n",
              "      <td>14</td>\n",
              "      <td>11</td>\n",
              "      <td>7</td>\n",
              "    </tr>\n",
              "    <tr>\n",
              "      <th>2</th>\n",
              "      <td>6.2</td>\n",
              "      <td>8</td>\n",
              "      <td>12</td>\n",
              "      <td>20</td>\n",
              "      <td>15</td>\n",
              "      <td>8</td>\n",
              "    </tr>\n",
              "    <tr>\n",
              "      <th>3</th>\n",
              "      <td>6.2</td>\n",
              "      <td>8</td>\n",
              "      <td>15</td>\n",
              "      <td>25</td>\n",
              "      <td>18</td>\n",
              "      <td>8</td>\n",
              "    </tr>\n",
              "    <tr>\n",
              "      <th>4</th>\n",
              "      <td>6.2</td>\n",
              "      <td>8</td>\n",
              "      <td>14</td>\n",
              "      <td>23</td>\n",
              "      <td>17</td>\n",
              "      <td>8</td>\n",
              "    </tr>\n",
              "    <tr>\n",
              "      <th>...</th>\n",
              "      <td>...</td>\n",
              "      <td>...</td>\n",
              "      <td>...</td>\n",
              "      <td>...</td>\n",
              "      <td>...</td>\n",
              "      <td>...</td>\n",
              "    </tr>\n",
              "    <tr>\n",
              "      <th>713</th>\n",
              "      <td>4.0</td>\n",
              "      <td>6</td>\n",
              "      <td>17</td>\n",
              "      <td>20</td>\n",
              "      <td>18</td>\n",
              "      <td>5</td>\n",
              "    </tr>\n",
              "    <tr>\n",
              "      <th>714</th>\n",
              "      <td>5.7</td>\n",
              "      <td>8</td>\n",
              "      <td>13</td>\n",
              "      <td>18</td>\n",
              "      <td>15</td>\n",
              "      <td>8</td>\n",
              "    </tr>\n",
              "    <tr>\n",
              "      <th>715</th>\n",
              "      <td>5.7</td>\n",
              "      <td>8</td>\n",
              "      <td>13</td>\n",
              "      <td>17</td>\n",
              "      <td>14</td>\n",
              "      <td>6</td>\n",
              "    </tr>\n",
              "    <tr>\n",
              "      <th>716</th>\n",
              "      <td>2.0</td>\n",
              "      <td>4</td>\n",
              "      <td>19</td>\n",
              "      <td>26</td>\n",
              "      <td>22</td>\n",
              "      <td>8</td>\n",
              "    </tr>\n",
              "    <tr>\n",
              "      <th>717</th>\n",
              "      <td>2.0</td>\n",
              "      <td>4</td>\n",
              "      <td>20</td>\n",
              "      <td>27</td>\n",
              "      <td>23</td>\n",
              "      <td>8</td>\n",
              "    </tr>\n",
              "  </tbody>\n",
              "</table>\n",
              "<p>718 rows × 6 columns</p>\n",
              "</div>\n",
              "      <button class=\"colab-df-convert\" onclick=\"convertToInteractive('df-15c34da9-0351-4b40-b3b1-61d6747f5892')\"\n",
              "              title=\"Convert this dataframe to an interactive table.\"\n",
              "              style=\"display:none;\">\n",
              "        \n",
              "  <svg xmlns=\"http://www.w3.org/2000/svg\" height=\"24px\"viewBox=\"0 0 24 24\"\n",
              "       width=\"24px\">\n",
              "    <path d=\"M0 0h24v24H0V0z\" fill=\"none\"/>\n",
              "    <path d=\"M18.56 5.44l.94 2.06.94-2.06 2.06-.94-2.06-.94-.94-2.06-.94 2.06-2.06.94zm-11 1L8.5 8.5l.94-2.06 2.06-.94-2.06-.94L8.5 2.5l-.94 2.06-2.06.94zm10 10l.94 2.06.94-2.06 2.06-.94-2.06-.94-.94-2.06-.94 2.06-2.06.94z\"/><path d=\"M17.41 7.96l-1.37-1.37c-.4-.4-.92-.59-1.43-.59-.52 0-1.04.2-1.43.59L10.3 9.45l-7.72 7.72c-.78.78-.78 2.05 0 2.83L4 21.41c.39.39.9.59 1.41.59.51 0 1.02-.2 1.41-.59l7.78-7.78 2.81-2.81c.8-.78.8-2.07 0-2.86zM5.41 20L4 18.59l7.72-7.72 1.47 1.35L5.41 20z\"/>\n",
              "  </svg>\n",
              "      </button>\n",
              "      \n",
              "  <style>\n",
              "    .colab-df-container {\n",
              "      display:flex;\n",
              "      flex-wrap:wrap;\n",
              "      gap: 12px;\n",
              "    }\n",
              "\n",
              "    .colab-df-convert {\n",
              "      background-color: #E8F0FE;\n",
              "      border: none;\n",
              "      border-radius: 50%;\n",
              "      cursor: pointer;\n",
              "      display: none;\n",
              "      fill: #1967D2;\n",
              "      height: 32px;\n",
              "      padding: 0 0 0 0;\n",
              "      width: 32px;\n",
              "    }\n",
              "\n",
              "    .colab-df-convert:hover {\n",
              "      background-color: #E2EBFA;\n",
              "      box-shadow: 0px 1px 2px rgba(60, 64, 67, 0.3), 0px 1px 3px 1px rgba(60, 64, 67, 0.15);\n",
              "      fill: #174EA6;\n",
              "    }\n",
              "\n",
              "    [theme=dark] .colab-df-convert {\n",
              "      background-color: #3B4455;\n",
              "      fill: #D2E3FC;\n",
              "    }\n",
              "\n",
              "    [theme=dark] .colab-df-convert:hover {\n",
              "      background-color: #434B5C;\n",
              "      box-shadow: 0px 1px 3px 1px rgba(0, 0, 0, 0.15);\n",
              "      filter: drop-shadow(0px 1px 2px rgba(0, 0, 0, 0.3));\n",
              "      fill: #FFFFFF;\n",
              "    }\n",
              "  </style>\n",
              "\n",
              "      <script>\n",
              "        const buttonEl =\n",
              "          document.querySelector('#df-15c34da9-0351-4b40-b3b1-61d6747f5892 button.colab-df-convert');\n",
              "        buttonEl.style.display =\n",
              "          google.colab.kernel.accessAllowed ? 'block' : 'none';\n",
              "\n",
              "        async function convertToInteractive(key) {\n",
              "          const element = document.querySelector('#df-15c34da9-0351-4b40-b3b1-61d6747f5892');\n",
              "          const dataTable =\n",
              "            await google.colab.kernel.invokeFunction('convertToInteractive',\n",
              "                                                     [key], {});\n",
              "          if (!dataTable) return;\n",
              "\n",
              "          const docLinkHtml = 'Like what you see? Visit the ' +\n",
              "            '<a target=\"_blank\" href=https://colab.research.google.com/notebooks/data_table.ipynb>data table notebook</a>'\n",
              "            + ' to learn more about interactive tables.';\n",
              "          element.innerHTML = '';\n",
              "          dataTable['output_type'] = 'display_data';\n",
              "          await google.colab.output.renderOutput(dataTable, element);\n",
              "          const docLink = document.createElement('div');\n",
              "          docLink.innerHTML = docLinkHtml;\n",
              "          element.appendChild(docLink);\n",
              "        }\n",
              "      </script>\n",
              "    </div>\n",
              "  </div>\n",
              "  "
            ]
          },
          "metadata": {},
          "execution_count": 20
        }
      ]
    },
    {
      "cell_type": "markdown",
      "source": [
        "##Média"
      ],
      "metadata": {
        "id": "MJ7uilLEaCaf"
      }
    },
    {
      "cell_type": "code",
      "source": [
        "np.mean(fuel_dados)"
      ],
      "metadata": {
        "colab": {
          "base_uri": "https://localhost:8080/"
        },
        "id": "QoMnckU5ZopX",
        "outputId": "951a06b2-6611-406a-a49f-3ae20db476a1"
      },
      "execution_count": null,
      "outputs": [
        {
          "output_type": "execute_result",
          "data": {
            "text/plain": [
              "Eng Displ     3.092061\n",
              "Cylinders     5.493036\n",
              "CityMPG      20.442897\n",
              "HwyMPG       27.760446\n",
              "CombMPG      23.139276\n",
              "# Gears       7.147632\n",
              "dtype: float64"
            ]
          },
          "metadata": {},
          "execution_count": 21
        }
      ]
    },
    {
      "cell_type": "markdown",
      "source": [
        "##Mediana"
      ],
      "metadata": {
        "id": "Px3ZKklWc1vw"
      }
    },
    {
      "cell_type": "code",
      "source": [
        "np.median(fuel_dados['Eng Displ'])"
      ],
      "metadata": {
        "colab": {
          "base_uri": "https://localhost:8080/"
        },
        "id": "W3A-ON62aB5P",
        "outputId": "af977f75-b4f8-4e33-de78-48e1379c9a8d"
      },
      "execution_count": null,
      "outputs": [
        {
          "output_type": "execute_result",
          "data": {
            "text/plain": [
              "3.0"
            ]
          },
          "metadata": {},
          "execution_count": 23
        }
      ]
    },
    {
      "cell_type": "code",
      "source": [
        "np.median(fuel_dados['Cylinders'])"
      ],
      "metadata": {
        "colab": {
          "base_uri": "https://localhost:8080/"
        },
        "id": "furAu-hVd9sJ",
        "outputId": "18f56bbf-6568-42e9-8346-fa8b9154d8ac"
      },
      "execution_count": null,
      "outputs": [
        {
          "output_type": "execute_result",
          "data": {
            "text/plain": [
              "6.0"
            ]
          },
          "metadata": {},
          "execution_count": 24
        }
      ]
    },
    {
      "cell_type": "code",
      "source": [
        "np.median(fuel_dados['CityMPG'])"
      ],
      "metadata": {
        "colab": {
          "base_uri": "https://localhost:8080/"
        },
        "id": "rZLDTovFd-dp",
        "outputId": "359984d5-9d5b-4a04-c480-e0260dea5d38"
      },
      "execution_count": null,
      "outputs": [
        {
          "output_type": "execute_result",
          "data": {
            "text/plain": [
              "20.0"
            ]
          },
          "metadata": {},
          "execution_count": 25
        }
      ]
    },
    {
      "cell_type": "code",
      "source": [
        "np.median(fuel_dados['HwyMPG'])"
      ],
      "metadata": {
        "colab": {
          "base_uri": "https://localhost:8080/"
        },
        "id": "IWHiOobMd_Rg",
        "outputId": "a60337b8-882f-4fa6-ab68-1585d1f30996"
      },
      "execution_count": null,
      "outputs": [
        {
          "output_type": "execute_result",
          "data": {
            "text/plain": [
              "27.0"
            ]
          },
          "metadata": {},
          "execution_count": 26
        }
      ]
    },
    {
      "cell_type": "code",
      "source": [
        "np.median(fuel_dados['CombMPG'])"
      ],
      "metadata": {
        "colab": {
          "base_uri": "https://localhost:8080/"
        },
        "id": "eY3O9cu-eAHo",
        "outputId": "6ae3f67d-f6c9-4616-8ad1-519d0461a97e"
      },
      "execution_count": null,
      "outputs": [
        {
          "output_type": "execute_result",
          "data": {
            "text/plain": [
              "23.0"
            ]
          },
          "metadata": {},
          "execution_count": 27
        }
      ]
    },
    {
      "cell_type": "code",
      "source": [
        "np.median(fuel_dados['# Gears'])"
      ],
      "metadata": {
        "colab": {
          "base_uri": "https://localhost:8080/"
        },
        "id": "RfRR8VS6eCax",
        "outputId": "e9f35197-8f3a-4482-c9ba-a58cbe5a6a01"
      },
      "execution_count": null,
      "outputs": [
        {
          "output_type": "execute_result",
          "data": {
            "text/plain": [
              "7.0"
            ]
          },
          "metadata": {},
          "execution_count": 28
        }
      ]
    },
    {
      "cell_type": "markdown",
      "source": [
        "##Moda"
      ],
      "metadata": {
        "id": "E62RlFmKeHpI"
      }
    },
    {
      "cell_type": "code",
      "source": [
        "statistics.mode(fuel_dados['Eng Displ'])"
      ],
      "metadata": {
        "colab": {
          "base_uri": "https://localhost:8080/"
        },
        "id": "l9Pq0k9FeFYw",
        "outputId": "4b1164f0-685b-4409-fb93-09b067705bce"
      },
      "execution_count": null,
      "outputs": [
        {
          "output_type": "execute_result",
          "data": {
            "text/plain": [
              "2.0"
            ]
          },
          "metadata": {},
          "execution_count": 29
        }
      ]
    },
    {
      "cell_type": "code",
      "source": [
        "statistics.mode(fuel_dados['Cylinders'])"
      ],
      "metadata": {
        "colab": {
          "base_uri": "https://localhost:8080/"
        },
        "id": "vRqWo0rXeSYR",
        "outputId": "b25b0b3b-cfa9-4ead-f7b6-05e47b8d873f"
      },
      "execution_count": null,
      "outputs": [
        {
          "output_type": "execute_result",
          "data": {
            "text/plain": [
              "4"
            ]
          },
          "metadata": {},
          "execution_count": 30
        }
      ]
    },
    {
      "cell_type": "code",
      "source": [
        "statistics.mode(fuel_dados['CityMPG'])"
      ],
      "metadata": {
        "colab": {
          "base_uri": "https://localhost:8080/"
        },
        "id": "Vp4rZ1r_eSvA",
        "outputId": "7ef40e8d-f8d3-411a-ea74-1145a7481a07"
      },
      "execution_count": null,
      "outputs": [
        {
          "output_type": "execute_result",
          "data": {
            "text/plain": [
              "21"
            ]
          },
          "metadata": {},
          "execution_count": 31
        }
      ]
    },
    {
      "cell_type": "code",
      "source": [
        "statistics.mode(fuel_dados['HwyMPG'])"
      ],
      "metadata": {
        "colab": {
          "base_uri": "https://localhost:8080/"
        },
        "id": "PPFiPoYweTIY",
        "outputId": "cf5e39b3-fe1c-48dc-85c8-e56f626f25c7"
      },
      "execution_count": null,
      "outputs": [
        {
          "output_type": "execute_result",
          "data": {
            "text/plain": [
              "29"
            ]
          },
          "metadata": {},
          "execution_count": 32
        }
      ]
    },
    {
      "cell_type": "code",
      "source": [
        "statistics.mode(fuel_dados['CombMPG'])"
      ],
      "metadata": {
        "colab": {
          "base_uri": "https://localhost:8080/"
        },
        "id": "wUWo127BeThg",
        "outputId": "de1e8612-7b59-4a9a-baa6-0f5903a75408"
      },
      "execution_count": null,
      "outputs": [
        {
          "output_type": "execute_result",
          "data": {
            "text/plain": [
              "24"
            ]
          },
          "metadata": {},
          "execution_count": 33
        }
      ]
    },
    {
      "cell_type": "code",
      "source": [
        "statistics.mode(fuel_dados['# Gears'])"
      ],
      "metadata": {
        "colab": {
          "base_uri": "https://localhost:8080/"
        },
        "id": "rlvb_qmbeT14",
        "outputId": "38fd8e56-aa73-4440-d84c-039d0994a0d6"
      },
      "execution_count": null,
      "outputs": [
        {
          "output_type": "execute_result",
          "data": {
            "text/plain": [
              "8"
            ]
          },
          "metadata": {},
          "execution_count": 34
        }
      ]
    },
    {
      "cell_type": "markdown",
      "source": [
        "##Variância"
      ],
      "metadata": {
        "id": "PPPYqvFAepRg"
      }
    },
    {
      "cell_type": "code",
      "source": [
        "fuel_dados.var()"
      ],
      "metadata": {
        "colab": {
          "base_uri": "https://localhost:8080/"
        },
        "id": "W4hPLCHger7w",
        "outputId": "2c98eb47-32aa-425e-c0df-0426240daf4e"
      },
      "execution_count": null,
      "outputs": [
        {
          "output_type": "execute_result",
          "data": {
            "text/plain": [
              "Eng Displ     1.807873\n",
              "Cylinders     3.070384\n",
              "CityMPG      28.074141\n",
              "HwyMPG       31.448810\n",
              "CombMPG      28.820185\n",
              "# Gears       2.273851\n",
              "dtype: float64"
            ]
          },
          "metadata": {},
          "execution_count": 35
        }
      ]
    },
    {
      "cell_type": "markdown",
      "source": [
        "##Desvio padrão"
      ],
      "metadata": {
        "id": "vC0btaQteyS4"
      }
    },
    {
      "cell_type": "code",
      "source": [
        "fuel_dados.std()"
      ],
      "metadata": {
        "colab": {
          "base_uri": "https://localhost:8080/"
        },
        "id": "5MCZL2tIexwo",
        "outputId": "a9904cae-be97-4018-b061-8db5d023f13a"
      },
      "execution_count": null,
      "outputs": [
        {
          "output_type": "execute_result",
          "data": {
            "text/plain": [
              "Eng Displ    1.344572\n",
              "Cylinders    1.752251\n",
              "CityMPG      5.298504\n",
              "HwyMPG       5.607924\n",
              "CombMPG      5.368443\n",
              "# Gears      1.507929\n",
              "dtype: float64"
            ]
          },
          "metadata": {},
          "execution_count": 36
        }
      ]
    },
    {
      "cell_type": "markdown",
      "source": [
        "##Correlação"
      ],
      "metadata": {
        "id": "R8bOf7yre7bB"
      }
    },
    {
      "cell_type": "code",
      "source": [
        "enc = OneHotEncoder(drop = 'first', sparse = False)\n",
        "ct = make_column_transformer(\n",
        "      (enc,[0]), (enc,[1]),(enc,[4]), remainder = 'passthrough')\n",
        "fuel = ct.fit_transform(fuel)\n",
        "import seaborn as sns\n",
        "corrMatrix = fuel_dados.corr()\n",
        "sns.heatmap(corrMatrix, annot=True)"
      ],
      "metadata": {
        "colab": {
          "base_uri": "https://localhost:8080/",
          "height": 328
        },
        "id": "P64dbwKTfHpx",
        "outputId": "26d05a4d-6a07-4495-9a03-0af99145e89f"
      },
      "execution_count": null,
      "outputs": [
        {
          "output_type": "execute_result",
          "data": {
            "text/plain": [
              "<matplotlib.axes._subplots.AxesSubplot at 0x7f1caa2d2090>"
            ]
          },
          "metadata": {},
          "execution_count": 37
        },
        {
          "output_type": "display_data",
          "data": {
            "text/plain": [
              "<Figure size 432x288 with 2 Axes>"
            ],
            "image/png": "[encoded data removed]"
          },
          "metadata": {
            "needs_background": "light"
          }
        }
      ]
    },
    {
      "cell_type": "markdown",
      "source": [
        "#2)Construir um notebook  para realizar a classificação (malígno/benigno) do conjunto de dados Breast_cancer."
      ],
      "metadata": {
        "id": "2raoENkMgpH4"
      }
    },
    {
      "cell_type": "code",
      "source": [
        "from sklearn.datasets import load_breast_cancer\n",
        "from sklearn.model_selection import train_test_split\n",
        "cancer = load_breast_cancer()\n",
        "cancer.data.shape\n",
        "(569, 30)\n",
        "print(cancer.feature_names)"
      ],
      "metadata": {
        "colab": {
          "base_uri": "https://localhost:8080/"
        },
        "id": "nQ3sbeQsgtBZ",
        "outputId": "d6ae0be5-30f3-4e43-e7bb-e2f8cc497621"
      },
      "execution_count": null,
      "outputs": [
        {
          "output_type": "stream",
          "name": "stdout",
          "text": [
            "['mean radius' 'mean texture' 'mean perimeter' 'mean area'\n",
            " 'mean smoothness' 'mean compactness' 'mean concavity'\n",
            " 'mean concave points' 'mean symmetry' 'mean fractal dimension'\n",
            " 'radius error' 'texture error' 'perimeter error' 'area error'\n",
            " 'smoothness error' 'compactness error' 'concavity error'\n",
            " 'concave points error' 'symmetry error' 'fractal dimension error'\n",
            " 'worst radius' 'worst texture' 'worst perimeter' 'worst area'\n",
            " 'worst smoothness' 'worst compactness' 'worst concavity'\n",
            " 'worst concave points' 'worst symmetry' 'worst fractal dimension']\n"
          ]
        }
      ]
    },
    {
      "cell_type": "code",
      "source": [
        "print(cancer.target_names)"
      ],
      "metadata": {
        "colab": {
          "base_uri": "https://localhost:8080/"
        },
        "id": "pD3jRRA2hlMi",
        "outputId": "8ca00c45-df7c-4137-d268-3730934704c3"
      },
      "execution_count": null,
      "outputs": [
        {
          "output_type": "stream",
          "name": "stdout",
          "text": [
            "['malignant' 'benign']\n"
          ]
        }
      ]
    },
    {
      "cell_type": "code",
      "source": [
        "x_train, x_test, y_train, y_test = train_test_split(cancer.data,cancer.target,test_size=0.25, random_state=42)\n",
        "x_train.shape, x_test.shape, y_train.shape, y_test.shape"
      ],
      "metadata": {
        "colab": {
          "base_uri": "https://localhost:8080/"
        },
        "id": "SYSht1DPipZQ",
        "outputId": "9c3fec52-afdb-4f7a-9dd5-b563715a4583"
      },
      "execution_count": null,
      "outputs": [
        {
          "output_type": "execute_result",
          "data": {
            "text/plain": [
              "((426, 30), (143, 30), (426,), (143,))"
            ]
          },
          "metadata": {},
          "execution_count": 40
        }
      ]
    },
    {
      "cell_type": "code",
      "source": [
        "sc = StandardScaler()\n",
        "x_train= sc.fit_transform(x_train)\n",
        "x_test = sc.transform(x_test)"
      ],
      "metadata": {
        "id": "V3LXxoRUjDDQ"
      },
      "execution_count": null,
      "outputs": []
    },
    {
      "cell_type": "markdown",
      "source": [
        "##Regressão Logística"
      ],
      "metadata": {
        "id": "wCkGa-bajScI"
      }
    },
    {
      "cell_type": "code",
      "source": [
        "import matplotlib.pyplot as plt\n",
        "from sklearn.linear_model import LogisticRegression\n",
        "from sklearn.metrics import ConfusionMatrixDisplay\n",
        "from sklearn import metrics\n",
        "\n",
        "logreg = LogisticRegression(solver = 'liblinear')\n",
        "logreg.fit(x_train,y_train)\n",
        "classificacoes_logreg = logreg.predict(x_test) \n",
        "acertos_LogReg = metrics.accuracy_score(y_test,classificacoes_logreg) \n",
        "print('Taxa de acerto = ',round(acertos_LogReg*100,2),\"%\\n\")\n",
        "print('Matriz de confusão:\\n')\n",
        "cm_logreg = ConfusionMatrixDisplay.from_estimator(logreg, x_test, y_test)\n",
        "plt.show()"
      ],
      "metadata": {
        "colab": {
          "base_uri": "https://localhost:8080/",
          "height": 353
        },
        "id": "ltwFRUwmjSEx",
        "outputId": "1a54a1b0-4ac1-4c66-ba22-997c3805afc5"
      },
      "execution_count": null,
      "outputs": [
        {
          "output_type": "stream",
          "name": "stdout",
          "text": [
            "Taxa de acerto =  97.9 %\n",
            "\n",
            "Matriz de confusão:\n",
            "\n"
          ]
        },
        {
          "output_type": "display_data",
          "data": {
            "text/plain": [
              "<Figure size 432x288 with 2 Axes>"
            ],
            "image/png": "[encoded data removed]"
          },
          "metadata": {
            "needs_background": "light"
          }
        }
      ]
    },
    {
      "cell_type": "markdown",
      "source": [
        "##KNN - K-Nearest Neighbors (k-vizinhos mais próximos):"
      ],
      "metadata": {
        "id": "GnQ3fB0xjc7B"
      }
    },
    {
      "cell_type": "code",
      "source": [
        "from sklearn.neighbors import KNeighborsClassifier\n",
        "\n",
        "knn = KNeighborsClassifier(n_neighbors=35) \n",
        "knn.fit(x_train,y_train)\n",
        "classificacoes_knn = knn.predict(x_test)\n",
        "acertos_knn = metrics.accuracy_score(y_test,classificacoes_knn)\n",
        "print('Taxa de acerto = ',round(acertos_knn*100,2),\"%\\n\")\n",
        "print('Matriz de confusão:\\n')\n",
        "cm_knn = ConfusionMatrixDisplay.from_estimator(knn, x_test, y_test)\n",
        "plt.show()"
      ],
      "metadata": {
        "colab": {
          "base_uri": "https://localhost:8080/",
          "height": 353
        },
        "id": "mccBQO_Zjjgy",
        "outputId": "3b404018-3424-46d3-84d4-ae3a17153e30"
      },
      "execution_count": null,
      "outputs": [
        {
          "output_type": "stream",
          "name": "stdout",
          "text": [
            "Taxa de acerto =  96.5 %\n",
            "\n",
            "Matriz de confusão:\n",
            "\n"
          ]
        },
        {
          "output_type": "display_data",
          "data": {
            "text/plain": [
              "<Figure size 432x288 with 2 Axes>"
            ],
            "image/png": "[encoded data removed]"
          },
          "metadata": {
            "needs_background": "light"
          }
        }
      ]
    },
    {
      "cell_type": "markdown",
      "source": [
        "##SVM - Support Vector Machines (Máquinas de Vetores de Suporte ):"
      ],
      "metadata": {
        "id": "7L7Ok-1UjncA"
      }
    },
    {
      "cell_type": "code",
      "source": [
        "from sklearn import svm\n",
        "\n",
        "svm = svm.SVC()\n",
        "svm.fit(x_train, y_train)\n",
        "classificacoes_svm = svm.predict(x_test)\n",
        "acertos_svm = metrics.accuracy_score(y_test, classificacoes_svm)\n",
        "print('Taxa de acerto = ',round(acertos_svm*100,2),\"%\\n\")\n",
        "print('Matriz de confusão:\\n')\n",
        "cm_svm = ConfusionMatrixDisplay.from_estimator(svm, x_test, y_test)\n",
        "plt.show()"
      ],
      "metadata": {
        "colab": {
          "base_uri": "https://localhost:8080/",
          "height": 353
        },
        "id": "HSqvrx5fjrZY",
        "outputId": "4530536f-0ed0-4c68-c6c0-7b7ba766b0cd"
      },
      "execution_count": null,
      "outputs": [
        {
          "output_type": "stream",
          "name": "stdout",
          "text": [
            "Taxa de acerto =  97.2 %\n",
            "\n",
            "Matriz de confusão:\n",
            "\n"
          ]
        },
        {
          "output_type": "display_data",
          "data": {
            "text/plain": [
              "<Figure size 432x288 with 2 Axes>"
            ],
            "image/png": "[encoded data removed]"
          },
          "metadata": {
            "needs_background": "light"
          }
        }
      ]
    },
    {
      "cell_type": "markdown",
      "source": [
        "##Random Forest:"
      ],
      "metadata": {
        "id": "ayH_mudzju4I"
      }
    },
    {
      "cell_type": "code",
      "source": [
        "from sklearn.ensemble import RandomForestClassifier\n",
        "\n",
        "rf = RandomForestClassifier(n_estimators = 25, random_state = 42)\n",
        "rf.fit(x_train, y_train)\n",
        "classificacoes_rf = rf.predict(x_test)\n",
        "acertos_rf = metrics.accuracy_score(y_test, classificacoes_rf)\n",
        "print('Taxa de acerto = ',round(acertos_rf*100,2),\"%\\n\")\n",
        "print('Matriz de confusão:\\n')\n",
        "cm_rf = ConfusionMatrixDisplay.from_estimator(rf, x_test, y_test)\n",
        "plt.show()"
      ],
      "metadata": {
        "colab": {
          "base_uri": "https://localhost:8080/",
          "height": 353
        },
        "id": "4TPHt4RqjvQJ",
        "outputId": "71d23cad-5805-4033-f7fc-062a86673f73"
      },
      "execution_count": null,
      "outputs": [
        {
          "output_type": "stream",
          "name": "stdout",
          "text": [
            "Taxa de acerto =  97.2 %\n",
            "\n",
            "Matriz de confusão:\n",
            "\n"
          ]
        },
        {
          "output_type": "display_data",
          "data": {
            "text/plain": [
              "<Figure size 432x288 with 2 Axes>"
            ],
            "image/png": "[encoded data removed]"
          },
          "metadata": {
            "needs_background": "light"
          }
        }
      ]
    },
    {
      "cell_type": "markdown",
      "source": [
        "##Rede Neural de Perceptrons Multicamadas"
      ],
      "metadata": {
        "id": "XavbvvCYjzEo"
      }
    },
    {
      "cell_type": "code",
      "source": [
        "from keras.layers import Dense\n",
        "from keras.models import Sequential\n",
        "from sklearn.model_selection import cross_val_score"
      ],
      "metadata": {
        "id": "dNA8tQPwthGi"
      },
      "execution_count": null,
      "outputs": []
    },
    {
      "cell_type": "code",
      "source": [
        "model = Sequential()\n",
        "model.add(Dense(16, input_dim=30, kernel_initializer = 'he_uniform', activation='relu'))\n",
        "model.add(Dense(16, kernel_initializer = 'he_uniform', activation='relu'))\n",
        "model.add(Dense(16, kernel_initializer = 'he_uniform', activation='relu'))\n",
        "model.add(Dense(1, activation='sigmoid'))\n",
        "\n",
        "model.summary()"
      ],
      "metadata": {
        "colab": {
          "base_uri": "https://localhost:8080/"
        },
        "id": "O8Y6qDu5kYMK",
        "outputId": "ed8945e0-da9a-4f37-8dac-937510aead4f"
      },
      "execution_count": null,
      "outputs": [
        {
          "output_type": "stream",
          "name": "stdout",
          "text": [
            "Model: \"sequential_7\"\n",
            "_________________________________________________________________\n",
            " Layer (type)                Output Shape              Param #   \n",
            "=================================================================\n",
            " dense_26 (Dense)            (None, 16)                496       \n",
            "                                                                 \n",
            " dense_27 (Dense)            (None, 16)                272       \n",
            "                                                                 \n",
            " dense_28 (Dense)            (None, 16)                272       \n",
            "                                                                 \n",
            " dense_29 (Dense)            (None, 1)                 17        \n",
            "                                                                 \n",
            "=================================================================\n",
            "Total params: 1,057\n",
            "Trainable params: 1,057\n",
            "Non-trainable params: 0\n",
            "_________________________________________________________________\n"
          ]
        }
      ]
    },
    {
      "cell_type": "code",
      "source": [
        "model.compile(optimizer='adam', loss='binary_crossentropy', metrics=['accuracy'])"
      ],
      "metadata": {
        "id": "5AbVua3HkpaZ"
      },
      "execution_count": null,
      "outputs": []
    },
    {
      "cell_type": "code",
      "source": [
        "history = model.fit(x_train, y_train, epochs=100, batch_size = 10, validation_data=(x_test, y_test))"
      ],
      "metadata": {
        "colab": {
          "base_uri": "https://localhost:8080/"
        },
        "id": "mtJk65oUkzTi",
        "outputId": "d39dceb9-d2f4-45c3-b283-41cab93482f8"
      },
      "execution_count": null,
      "outputs": [
        {
          "output_type": "stream",
          "name": "stdout",
          "text": [
            "Epoch 1/100\n",
            "43/43 [==============================] - 1s 8ms/step - loss: 0.5541 - accuracy: 0.7207 - val_loss: 0.4719 - val_accuracy: 0.8531\n",
            "Epoch 2/100\n",
            "43/43 [==============================] - 0s 5ms/step - loss: 0.3748 - accuracy: 0.9061 - val_loss: 0.3093 - val_accuracy: 0.9091\n",
            "Epoch 3/100\n",
            "43/43 [==============================] - 0s 5ms/step - loss: 0.2541 - accuracy: 0.9272 - val_loss: 0.2057 - val_accuracy: 0.9441\n",
            "Epoch 4/100\n",
            "43/43 [==============================] - 0s 5ms/step - loss: 0.1935 - accuracy: 0.9343 - val_loss: 0.1528 - val_accuracy: 0.9510\n",
            "Epoch 5/100\n",
            "43/43 [==============================] - 0s 4ms/step - loss: 0.1519 - accuracy: 0.9413 - val_loss: 0.1236 - val_accuracy: 0.9510\n",
            "Epoch 6/100\n",
            "43/43 [==============================] - 0s 5ms/step - loss: 0.1228 - accuracy: 0.9460 - val_loss: 0.1037 - val_accuracy: 0.9510\n",
            "Epoch 7/100\n",
            "43/43 [==============================] - 0s 5ms/step - loss: 0.1052 - accuracy: 0.9577 - val_loss: 0.0892 - val_accuracy: 0.9580\n",
            "Epoch 8/100\n",
            "43/43 [==============================] - 0s 4ms/step - loss: 0.0917 - accuracy: 0.9671 - val_loss: 0.0796 - val_accuracy: 0.9580\n",
            "Epoch 9/100\n",
            "43/43 [==============================] - 0s 4ms/step - loss: 0.0823 - accuracy: 0.9718 - val_loss: 0.0738 - val_accuracy: 0.9580\n",
            "Epoch 10/100\n",
            "43/43 [==============================] - 0s 5ms/step - loss: 0.0733 - accuracy: 0.9789 - val_loss: 0.0706 - val_accuracy: 0.9650\n",
            "Epoch 11/100\n",
            "43/43 [==============================] - 0s 4ms/step - loss: 0.0661 - accuracy: 0.9789 - val_loss: 0.0665 - val_accuracy: 0.9720\n",
            "Epoch 12/100\n",
            "43/43 [==============================] - 0s 4ms/step - loss: 0.0596 - accuracy: 0.9812 - val_loss: 0.0629 - val_accuracy: 0.9790\n",
            "Epoch 13/100\n",
            "43/43 [==============================] - 0s 4ms/step - loss: 0.0536 - accuracy: 0.9836 - val_loss: 0.0609 - val_accuracy: 0.9790\n",
            "Epoch 14/100\n",
            "43/43 [==============================] - 0s 5ms/step - loss: 0.0453 - accuracy: 0.9836 - val_loss: 0.0615 - val_accuracy: 0.9790\n",
            "Epoch 15/100\n",
            "43/43 [==============================] - 0s 4ms/step - loss: 0.0411 - accuracy: 0.9859 - val_loss: 0.0598 - val_accuracy: 0.9790\n",
            "Epoch 16/100\n",
            "43/43 [==============================] - 0s 5ms/step - loss: 0.0363 - accuracy: 0.9906 - val_loss: 0.0608 - val_accuracy: 0.9790\n",
            "Epoch 17/100\n",
            "43/43 [==============================] - 0s 5ms/step - loss: 0.0324 - accuracy: 0.9930 - val_loss: 0.0583 - val_accuracy: 0.9790\n",
            "Epoch 18/100\n",
            "43/43 [==============================] - 0s 4ms/step - loss: 0.0285 - accuracy: 0.9953 - val_loss: 0.0607 - val_accuracy: 0.9790\n",
            "Epoch 19/100\n",
            "43/43 [==============================] - 0s 5ms/step - loss: 0.0252 - accuracy: 0.9930 - val_loss: 0.0615 - val_accuracy: 0.9790\n",
            "Epoch 20/100\n",
            "43/43 [==============================] - 0s 4ms/step - loss: 0.0232 - accuracy: 0.9953 - val_loss: 0.0646 - val_accuracy: 0.9790\n",
            "Epoch 21/100\n",
            "43/43 [==============================] - 0s 4ms/step - loss: 0.0211 - accuracy: 0.9953 - val_loss: 0.0661 - val_accuracy: 0.9790\n",
            "Epoch 22/100\n",
            "43/43 [==============================] - 0s 5ms/step - loss: 0.0180 - accuracy: 0.9977 - val_loss: 0.0668 - val_accuracy: 0.9790\n",
            "Epoch 23/100\n",
            "43/43 [==============================] - 0s 4ms/step - loss: 0.0168 - accuracy: 0.9930 - val_loss: 0.0716 - val_accuracy: 0.9790\n",
            "Epoch 24/100\n",
            "43/43 [==============================] - 0s 4ms/step - loss: 0.0154 - accuracy: 0.9977 - val_loss: 0.0708 - val_accuracy: 0.9790\n",
            "Epoch 25/100\n",
            "43/43 [==============================] - 0s 4ms/step - loss: 0.0138 - accuracy: 0.9977 - val_loss: 0.0733 - val_accuracy: 0.9790\n",
            "Epoch 26/100\n",
            "43/43 [==============================] - 0s 5ms/step - loss: 0.0144 - accuracy: 0.9953 - val_loss: 0.0766 - val_accuracy: 0.9790\n",
            "Epoch 27/100\n",
            "43/43 [==============================] - 0s 5ms/step - loss: 0.0125 - accuracy: 1.0000 - val_loss: 0.0773 - val_accuracy: 0.9790\n",
            "Epoch 28/100\n",
            "43/43 [==============================] - 0s 4ms/step - loss: 0.0110 - accuracy: 0.9977 - val_loss: 0.0801 - val_accuracy: 0.9790\n",
            "Epoch 29/100\n",
            "43/43 [==============================] - 0s 4ms/step - loss: 0.0090 - accuracy: 1.0000 - val_loss: 0.0806 - val_accuracy: 0.9790\n",
            "Epoch 30/100\n",
            "43/43 [==============================] - 0s 4ms/step - loss: 0.0092 - accuracy: 0.9977 - val_loss: 0.0828 - val_accuracy: 0.9790\n",
            "Epoch 31/100\n",
            "43/43 [==============================] - 0s 4ms/step - loss: 0.0092 - accuracy: 1.0000 - val_loss: 0.0840 - val_accuracy: 0.9790\n",
            "Epoch 32/100\n",
            "43/43 [==============================] - 0s 4ms/step - loss: 0.0073 - accuracy: 1.0000 - val_loss: 0.0869 - val_accuracy: 0.9790\n",
            "Epoch 33/100\n",
            "43/43 [==============================] - 0s 5ms/step - loss: 0.0068 - accuracy: 0.9977 - val_loss: 0.0919 - val_accuracy: 0.9790\n",
            "Epoch 34/100\n",
            "43/43 [==============================] - 0s 5ms/step - loss: 0.0068 - accuracy: 1.0000 - val_loss: 0.0923 - val_accuracy: 0.9790\n",
            "Epoch 35/100\n",
            "43/43 [==============================] - 0s 5ms/step - loss: 0.0059 - accuracy: 1.0000 - val_loss: 0.0919 - val_accuracy: 0.9790\n",
            "Epoch 36/100\n",
            "43/43 [==============================] - 0s 4ms/step - loss: 0.0054 - accuracy: 1.0000 - val_loss: 0.0961 - val_accuracy: 0.9790\n",
            "Epoch 37/100\n",
            "43/43 [==============================] - 0s 4ms/step - loss: 0.0048 - accuracy: 1.0000 - val_loss: 0.0955 - val_accuracy: 0.9790\n",
            "Epoch 38/100\n",
            "43/43 [==============================] - 0s 4ms/step - loss: 0.0049 - accuracy: 1.0000 - val_loss: 0.0975 - val_accuracy: 0.9790\n",
            "Epoch 39/100\n",
            "43/43 [==============================] - 0s 4ms/step - loss: 0.0043 - accuracy: 1.0000 - val_loss: 0.0992 - val_accuracy: 0.9790\n",
            "Epoch 40/100\n",
            "43/43 [==============================] - 0s 5ms/step - loss: 0.0040 - accuracy: 1.0000 - val_loss: 0.1023 - val_accuracy: 0.9720\n",
            "Epoch 41/100\n",
            "43/43 [==============================] - 0s 4ms/step - loss: 0.0036 - accuracy: 1.0000 - val_loss: 0.1014 - val_accuracy: 0.9790\n",
            "Epoch 42/100\n",
            "43/43 [==============================] - 0s 4ms/step - loss: 0.0035 - accuracy: 1.0000 - val_loss: 0.1047 - val_accuracy: 0.9720\n",
            "Epoch 43/100\n",
            "43/43 [==============================] - 0s 4ms/step - loss: 0.0030 - accuracy: 1.0000 - val_loss: 0.1030 - val_accuracy: 0.9790\n",
            "Epoch 44/100\n",
            "43/43 [==============================] - 0s 5ms/step - loss: 0.0033 - accuracy: 1.0000 - val_loss: 0.1038 - val_accuracy: 0.9790\n",
            "Epoch 45/100\n",
            "43/43 [==============================] - 0s 4ms/step - loss: 0.0028 - accuracy: 1.0000 - val_loss: 0.1092 - val_accuracy: 0.9720\n",
            "Epoch 46/100\n",
            "43/43 [==============================] - 0s 5ms/step - loss: 0.0025 - accuracy: 1.0000 - val_loss: 0.1097 - val_accuracy: 0.9720\n",
            "Epoch 47/100\n",
            "43/43 [==============================] - 0s 4ms/step - loss: 0.0024 - accuracy: 1.0000 - val_loss: 0.1106 - val_accuracy: 0.9720\n",
            "Epoch 48/100\n",
            "43/43 [==============================] - 0s 4ms/step - loss: 0.0022 - accuracy: 1.0000 - val_loss: 0.1118 - val_accuracy: 0.9720\n",
            "Epoch 49/100\n",
            "43/43 [==============================] - 0s 5ms/step - loss: 0.0022 - accuracy: 1.0000 - val_loss: 0.1114 - val_accuracy: 0.9720\n",
            "Epoch 50/100\n",
            "43/43 [==============================] - 0s 4ms/step - loss: 0.0020 - accuracy: 1.0000 - val_loss: 0.1160 - val_accuracy: 0.9720\n",
            "Epoch 51/100\n",
            "43/43 [==============================] - 0s 4ms/step - loss: 0.0018 - accuracy: 1.0000 - val_loss: 0.1145 - val_accuracy: 0.9720\n",
            "Epoch 52/100\n",
            "43/43 [==============================] - 0s 4ms/step - loss: 0.0017 - accuracy: 1.0000 - val_loss: 0.1176 - val_accuracy: 0.9720\n",
            "Epoch 53/100\n",
            "43/43 [==============================] - 0s 5ms/step - loss: 0.0017 - accuracy: 1.0000 - val_loss: 0.1184 - val_accuracy: 0.9720\n",
            "Epoch 54/100\n",
            "43/43 [==============================] - 0s 5ms/step - loss: 0.0015 - accuracy: 1.0000 - val_loss: 0.1182 - val_accuracy: 0.9720\n",
            "Epoch 55/100\n",
            "43/43 [==============================] - 0s 4ms/step - loss: 0.0015 - accuracy: 1.0000 - val_loss: 0.1206 - val_accuracy: 0.9720\n",
            "Epoch 56/100\n",
            "43/43 [==============================] - 0s 4ms/step - loss: 0.0015 - accuracy: 1.0000 - val_loss: 0.1206 - val_accuracy: 0.9720\n",
            "Epoch 57/100\n",
            "43/43 [==============================] - 0s 4ms/step - loss: 0.0013 - accuracy: 1.0000 - val_loss: 0.1229 - val_accuracy: 0.9720\n",
            "Epoch 58/100\n",
            "43/43 [==============================] - 0s 5ms/step - loss: 0.0012 - accuracy: 1.0000 - val_loss: 0.1231 - val_accuracy: 0.9720\n",
            "Epoch 59/100\n",
            "43/43 [==============================] - 0s 4ms/step - loss: 0.0011 - accuracy: 1.0000 - val_loss: 0.1240 - val_accuracy: 0.9720\n",
            "Epoch 60/100\n",
            "43/43 [==============================] - 0s 5ms/step - loss: 0.0011 - accuracy: 1.0000 - val_loss: 0.1256 - val_accuracy: 0.9720\n",
            "Epoch 61/100\n",
            "43/43 [==============================] - 0s 5ms/step - loss: 0.0010 - accuracy: 1.0000 - val_loss: 0.1253 - val_accuracy: 0.9720\n",
            "Epoch 62/100\n",
            "43/43 [==============================] - 0s 4ms/step - loss: 9.6531e-04 - accuracy: 1.0000 - val_loss: 0.1288 - val_accuracy: 0.9720\n",
            "Epoch 63/100\n",
            "43/43 [==============================] - 0s 4ms/step - loss: 9.2037e-04 - accuracy: 1.0000 - val_loss: 0.1296 - val_accuracy: 0.9720\n",
            "Epoch 64/100\n",
            "43/43 [==============================] - 0s 4ms/step - loss: 9.2670e-04 - accuracy: 1.0000 - val_loss: 0.1287 - val_accuracy: 0.9720\n",
            "Epoch 65/100\n",
            "43/43 [==============================] - 0s 4ms/step - loss: 8.2838e-04 - accuracy: 1.0000 - val_loss: 0.1307 - val_accuracy: 0.9720\n",
            "Epoch 66/100\n",
            "43/43 [==============================] - 0s 5ms/step - loss: 7.6249e-04 - accuracy: 1.0000 - val_loss: 0.1322 - val_accuracy: 0.9720\n",
            "Epoch 67/100\n",
            "43/43 [==============================] - 0s 5ms/step - loss: 7.6332e-04 - accuracy: 1.0000 - val_loss: 0.1327 - val_accuracy: 0.9720\n",
            "Epoch 68/100\n",
            "43/43 [==============================] - 0s 5ms/step - loss: 7.1969e-04 - accuracy: 1.0000 - val_loss: 0.1346 - val_accuracy: 0.9720\n",
            "Epoch 69/100\n",
            "43/43 [==============================] - 0s 4ms/step - loss: 6.7758e-04 - accuracy: 1.0000 - val_loss: 0.1350 - val_accuracy: 0.9720\n",
            "Epoch 70/100\n",
            "43/43 [==============================] - 0s 4ms/step - loss: 6.4502e-04 - accuracy: 1.0000 - val_loss: 0.1347 - val_accuracy: 0.9720\n",
            "Epoch 71/100\n",
            "43/43 [==============================] - 0s 5ms/step - loss: 6.4940e-04 - accuracy: 1.0000 - val_loss: 0.1366 - val_accuracy: 0.9720\n",
            "Epoch 72/100\n",
            "43/43 [==============================] - 0s 4ms/step - loss: 5.9936e-04 - accuracy: 1.0000 - val_loss: 0.1374 - val_accuracy: 0.9720\n",
            "Epoch 73/100\n",
            "43/43 [==============================] - 0s 5ms/step - loss: 5.8750e-04 - accuracy: 1.0000 - val_loss: 0.1397 - val_accuracy: 0.9720\n",
            "Epoch 74/100\n",
            "43/43 [==============================] - 0s 4ms/step - loss: 5.3331e-04 - accuracy: 1.0000 - val_loss: 0.1388 - val_accuracy: 0.9720\n",
            "Epoch 75/100\n",
            "43/43 [==============================] - 0s 4ms/step - loss: 4.9557e-04 - accuracy: 1.0000 - val_loss: 0.1405 - val_accuracy: 0.9720\n",
            "Epoch 76/100\n",
            "43/43 [==============================] - 0s 4ms/step - loss: 4.9433e-04 - accuracy: 1.0000 - val_loss: 0.1424 - val_accuracy: 0.9720\n",
            "Epoch 77/100\n",
            "43/43 [==============================] - 0s 4ms/step - loss: 4.6611e-04 - accuracy: 1.0000 - val_loss: 0.1421 - val_accuracy: 0.9720\n",
            "Epoch 78/100\n",
            "43/43 [==============================] - 0s 4ms/step - loss: 4.4148e-04 - accuracy: 1.0000 - val_loss: 0.1446 - val_accuracy: 0.9650\n",
            "Epoch 79/100\n",
            "43/43 [==============================] - 0s 4ms/step - loss: 3.9992e-04 - accuracy: 1.0000 - val_loss: 0.1438 - val_accuracy: 0.9720\n",
            "Epoch 80/100\n",
            "43/43 [==============================] - 0s 5ms/step - loss: 4.1046e-04 - accuracy: 1.0000 - val_loss: 0.1455 - val_accuracy: 0.9720\n",
            "Epoch 81/100\n",
            "43/43 [==============================] - 0s 5ms/step - loss: 4.3915e-04 - accuracy: 1.0000 - val_loss: 0.1446 - val_accuracy: 0.9720\n",
            "Epoch 82/100\n",
            "43/43 [==============================] - 0s 4ms/step - loss: 3.9895e-04 - accuracy: 1.0000 - val_loss: 0.1480 - val_accuracy: 0.9650\n",
            "Epoch 83/100\n",
            "43/43 [==============================] - 0s 5ms/step - loss: 3.4551e-04 - accuracy: 1.0000 - val_loss: 0.1491 - val_accuracy: 0.9650\n",
            "Epoch 84/100\n",
            "43/43 [==============================] - 0s 4ms/step - loss: 3.2841e-04 - accuracy: 1.0000 - val_loss: 0.1499 - val_accuracy: 0.9650\n",
            "Epoch 85/100\n",
            "43/43 [==============================] - 0s 4ms/step - loss: 3.1405e-04 - accuracy: 1.0000 - val_loss: 0.1495 - val_accuracy: 0.9650\n",
            "Epoch 86/100\n",
            "43/43 [==============================] - 0s 5ms/step - loss: 3.0416e-04 - accuracy: 1.0000 - val_loss: 0.1511 - val_accuracy: 0.9650\n",
            "Epoch 87/100\n",
            "43/43 [==============================] - 0s 4ms/step - loss: 2.8446e-04 - accuracy: 1.0000 - val_loss: 0.1530 - val_accuracy: 0.9650\n",
            "Epoch 88/100\n",
            "43/43 [==============================] - 0s 4ms/step - loss: 2.6571e-04 - accuracy: 1.0000 - val_loss: 0.1524 - val_accuracy: 0.9650\n",
            "Epoch 89/100\n",
            "43/43 [==============================] - 0s 4ms/step - loss: 2.5096e-04 - accuracy: 1.0000 - val_loss: 0.1538 - val_accuracy: 0.9650\n",
            "Epoch 90/100\n",
            "43/43 [==============================] - 0s 4ms/step - loss: 2.4244e-04 - accuracy: 1.0000 - val_loss: 0.1553 - val_accuracy: 0.9650\n",
            "Epoch 91/100\n",
            "43/43 [==============================] - 0s 5ms/step - loss: 2.4785e-04 - accuracy: 1.0000 - val_loss: 0.1586 - val_accuracy: 0.9650\n",
            "Epoch 92/100\n",
            "43/43 [==============================] - 0s 4ms/step - loss: 2.3611e-04 - accuracy: 1.0000 - val_loss: 0.1582 - val_accuracy: 0.9650\n",
            "Epoch 93/100\n",
            "43/43 [==============================] - 0s 4ms/step - loss: 2.1742e-04 - accuracy: 1.0000 - val_loss: 0.1595 - val_accuracy: 0.9650\n",
            "Epoch 94/100\n",
            "43/43 [==============================] - 0s 5ms/step - loss: 1.9797e-04 - accuracy: 1.0000 - val_loss: 0.1592 - val_accuracy: 0.9650\n",
            "Epoch 95/100\n",
            "43/43 [==============================] - 0s 5ms/step - loss: 1.8494e-04 - accuracy: 1.0000 - val_loss: 0.1604 - val_accuracy: 0.9650\n",
            "Epoch 96/100\n",
            "43/43 [==============================] - 0s 5ms/step - loss: 1.8209e-04 - accuracy: 1.0000 - val_loss: 0.1624 - val_accuracy: 0.9650\n",
            "Epoch 97/100\n",
            "43/43 [==============================] - 0s 4ms/step - loss: 1.7520e-04 - accuracy: 1.0000 - val_loss: 0.1626 - val_accuracy: 0.9650\n",
            "Epoch 98/100\n",
            "43/43 [==============================] - 0s 5ms/step - loss: 1.6043e-04 - accuracy: 1.0000 - val_loss: 0.1633 - val_accuracy: 0.9650\n",
            "Epoch 99/100\n",
            "43/43 [==============================] - 0s 4ms/step - loss: 1.5405e-04 - accuracy: 1.0000 - val_loss: 0.1645 - val_accuracy: 0.9650\n",
            "Epoch 100/100\n",
            "43/43 [==============================] - 0s 4ms/step - loss: 1.5207e-04 - accuracy: 1.0000 - val_loss: 0.1653 - val_accuracy: 0.9650\n"
          ]
        }
      ]
    },
    {
      "cell_type": "code",
      "source": [
        "import matplotlib.pyplot as plt\n",
        "plt.plot(history.history['loss'])\n",
        "plt.plot(history.history['val_loss'], '')\n",
        "plt.xlabel(\"Épocas\")\n",
        "plt.ylabel('Erro/loss')\n",
        "plt.title('Função erro/loss')\n",
        "plt.legend(['loss', 'val_loss'])\n",
        "plt.show()"
      ],
      "metadata": {
        "colab": {
          "base_uri": "https://localhost:8080/",
          "height": 297
        },
        "id": "ySG1iL_Nk6KB",
        "outputId": "21b913b6-7e13-4a16-d67b-2ba9497b187c"
      },
      "execution_count": null,
      "outputs": [
        {
          "output_type": "display_data",
          "data": {
            "text/plain": [
              "<Figure size 432x288 with 1 Axes>"
            ],
            "image/png": "[encoded data removed]"
          },
          "metadata": {
            "needs_background": "light"
          }
        }
      ]
    },
    {
      "cell_type": "code",
      "source": [
        "plt.plot(history.history['accuracy'])\n",
        "plt.plot(history.history['val_accuracy'], '')\n",
        "plt.xlabel(\"Épocas\")\n",
        "plt.ylabel('Acurácia')\n",
        "plt.title('Acurácia')\n",
        "plt.legend(['acurácia', 'val_acurácia'])\n",
        "plt.show()"
      ],
      "metadata": {
        "colab": {
          "base_uri": "https://localhost:8080/",
          "height": 297
        },
        "id": "e8IVaPZ-lfVZ",
        "outputId": "16a484d3-f6a1-470d-e1b2-8a6f1beef9c2"
      },
      "execution_count": null,
      "outputs": [
        {
          "output_type": "display_data",
          "data": {
            "text/plain": [
              "<Figure size 432x288 with 1 Axes>"
            ],
            "image/png": "[encoded data removed]"
          },
          "metadata": {
            "needs_background": "light"
          }
        }
      ]
    },
    {
      "cell_type": "code",
      "source": [
        "y_pred = model.predict(x_test)\n",
        "y_pred = (y_pred > 0.5)"
      ],
      "metadata": {
        "id": "446tDyndllDZ"
      },
      "execution_count": null,
      "outputs": []
    },
    {
      "cell_type": "code",
      "source": [
        "from sklearn.metrics import confusion_matrix\n",
        "cm = confusion_matrix(y_test, y_pred)\n",
        "print(cm)"
      ],
      "metadata": {
        "colab": {
          "base_uri": "https://localhost:8080/"
        },
        "id": "0tueOP70mHp5",
        "outputId": "3e5a4782-a9ed-4c0d-f40d-9da2c5b555b1"
      },
      "execution_count": null,
      "outputs": [
        {
          "output_type": "stream",
          "name": "stdout",
          "text": [
            "[[52  2]\n",
            " [ 3 86]]\n"
          ]
        }
      ]
    },
    {
      "cell_type": "code",
      "source": [
        "sns.heatmap(cm, annot=True, fmt=\"d\")"
      ],
      "metadata": {
        "colab": {
          "base_uri": "https://localhost:8080/",
          "height": 283
        },
        "id": "6K0_eyiImJMK",
        "outputId": "e8914226-003f-4f5a-c447-1ce028ee1fe3"
      },
      "execution_count": null,
      "outputs": [
        {
          "output_type": "execute_result",
          "data": {
            "text/plain": [
              "<matplotlib.axes._subplots.AxesSubplot at 0x7f1c0a062210>"
            ]
          },
          "metadata": {},
          "execution_count": 74
        },
        {
          "output_type": "display_data",
          "data": {
            "text/plain": [
              "<Figure size 432x288 with 2 Axes>"
            ],
            "image/png": "[encoded data removed]"
          },
          "metadata": {
            "needs_background": "light"
          }
        }
      ]
    },
    {
      "cell_type": "markdown",
      "source": [
        "#3) Construir um notebook para realizar a classicação do conjunto de dados Fashion-MNIST utilizando uma rede neural convolucional (CNN - Convolutional Neural Network):"
      ],
      "metadata": {
        "id": "L3d9quLmmRe6"
      }
    },
    {
      "cell_type": "code",
      "source": [
        "from keras.datasets import fashion_mnist\n",
        "(trainX, trainY), (testX, testY) = fashion_mnist.load_data()\n"
      ],
      "metadata": {
        "colab": {
          "base_uri": "https://localhost:8080/"
        },
        "id": "9dBDL1NgmVvR",
        "outputId": "5712fe05-64c0-4022-9777-51434deb7ffa"
      },
      "execution_count": null,
      "outputs": [
        {
          "output_type": "stream",
          "name": "stdout",
          "text": [
            "Downloading data from https://storage.googleapis.com/tensorflow/tf-keras-datasets/train-labels-idx1-ubyte.gz\n",
            "32768/29515 [=================================] - 0s 0us/step\n",
            "40960/29515 [=========================================] - 0s 0us/step\n",
            "Downloading data from https://storage.googleapis.com/tensorflow/tf-keras-datasets/train-images-idx3-ubyte.gz\n",
            "26427392/26421880 [==============================] - 0s 0us/step\n",
            "26435584/26421880 [==============================] - 0s 0us/step\n",
            "Downloading data from https://storage.googleapis.com/tensorflow/tf-keras-datasets/t10k-labels-idx1-ubyte.gz\n",
            "16384/5148 [===============================================================================================] - 0s 0us/step\n",
            "Downloading data from https://storage.googleapis.com/tensorflow/tf-keras-datasets/t10k-images-idx3-ubyte.gz\n",
            "4423680/4422102 [==============================] - 0s 0us/step\n",
            "4431872/4422102 [==============================] - 0s 0us/step\n"
          ]
        }
      ]
    },
    {
      "cell_type": "code",
      "source": [
        "from keras.utils import np_utils\n",
        "trainX = trainX.astype('float32')\n",
        "testX = testX.astype('float32')\n",
        "\n",
        "trainX = trainX / 255\n",
        "testX = testX / 255 \n",
        "trainY = np_utils.to_categorical(trainY)\n",
        "testY= np_utils.to_categorical(testY)\n",
        "\n",
        "print(trainX.shape)\n",
        "print(trainY.shape)\n",
        "print(testX.shape)\n",
        "print(testY.shape)"
      ],
      "metadata": {
        "colab": {
          "base_uri": "https://localhost:8080/"
        },
        "id": "jhF8yqZImZ-8",
        "outputId": "04c6e7c0-0ec6-4859-c1a4-a7481d25d60e"
      },
      "execution_count": null,
      "outputs": [
        {
          "output_type": "stream",
          "name": "stdout",
          "text": [
            "(60000, 28, 28)\n",
            "(60000, 10)\n",
            "(10000, 28, 28)\n",
            "(10000, 10)\n"
          ]
        }
      ]
    },
    {
      "cell_type": "code",
      "source": [
        "from keras.layers import Dropout, BatchNormalization\n",
        "from keras import layers\n",
        "from tensorflow import keras\n",
        "import tensorflow as tf"
      ],
      "metadata": {
        "id": "6WW-H8W1m1YS"
      },
      "execution_count": null,
      "outputs": []
    },
    {
      "cell_type": "code",
      "source": [
        "model = Sequential()\n",
        "model.add(layers.Conv2D(28, (3,3), padding='same', activation='relu', input_shape=(28,28,1)))\n",
        "model.add(layers.BatchNormalization())\n",
        "model.add(layers.Conv2D(28, (3,3), padding='same', activation='relu'))\n",
        "model.add(layers.BatchNormalization())\n",
        "model.add(layers.MaxPooling2D(pool_size=(2,2)))\n",
        "model.add(layers.Dropout(0.3))\n",
        "\n",
        "model.add(layers.Conv2D(56, (3,3), padding='same', activation='relu'))\n",
        "model.add(layers.BatchNormalization())\n",
        "model.add(layers.Conv2D(56, (3,3), padding='same', activation='relu'))\n",
        "model.add(layers.BatchNormalization())\n",
        "model.add(layers.MaxPooling2D(pool_size=(2,2)))\n",
        "model.add(layers.Dropout(0.5))\n",
        "\n",
        "model.add(layers.Conv2D(112, (3,3), padding='same', activation='relu'))\n",
        "model.add(layers.BatchNormalization())\n",
        "model.add(layers.Conv2D(112, (3,3), padding='same', activation='relu'))\n",
        "model.add(layers.BatchNormalization())\n",
        "model.add(layers.MaxPooling2D(pool_size=(2,2)))\n",
        "model.add(layers.Dropout(0.5))\n",
        "\n",
        "model.add(layers.Flatten())\n",
        "model.add(layers.Dense(112, activation='relu'))\n",
        "model.add(layers.BatchNormalization())\n",
        "model.add(layers.Dropout(0.5))\n",
        "model.add(layers.Dense(10, activation='softmax'))\n",
        "\n",
        "model.summary()"
      ],
      "metadata": {
        "colab": {
          "base_uri": "https://localhost:8080/"
        },
        "id": "2VVDWECfnAM6",
        "outputId": "5e75a4f3-5505-4acb-9150-418db2d76359"
      },
      "execution_count": null,
      "outputs": [
        {
          "output_type": "stream",
          "name": "stdout",
          "text": [
            "Model: \"sequential\"\n",
            "_________________________________________________________________\n",
            " Layer (type)                Output Shape              Param #   \n",
            "=================================================================\n",
            " conv2d (Conv2D)             (None, 28, 28, 28)        280       \n",
            "                                                                 \n",
            " batch_normalization (BatchN  (None, 28, 28, 28)       112       \n",
            " ormalization)                                                   \n",
            "                                                                 \n",
            " conv2d_1 (Conv2D)           (None, 28, 28, 28)        7084      \n",
            "                                                                 \n",
            " batch_normalization_1 (Batc  (None, 28, 28, 28)       112       \n",
            " hNormalization)                                                 \n",
            "                                                                 \n",
            " max_pooling2d (MaxPooling2D  (None, 14, 14, 28)       0         \n",
            " )                                                               \n",
            "                                                                 \n",
            " dropout (Dropout)           (None, 14, 14, 28)        0         \n",
            "                                                                 \n",
            " conv2d_2 (Conv2D)           (None, 14, 14, 56)        14168     \n",
            "                                                                 \n",
            " batch_normalization_2 (Batc  (None, 14, 14, 56)       224       \n",
            " hNormalization)                                                 \n",
            "                                                                 \n",
            " conv2d_3 (Conv2D)           (None, 14, 14, 56)        28280     \n",
            "                                                                 \n",
            " batch_normalization_3 (Batc  (None, 14, 14, 56)       224       \n",
            " hNormalization)                                                 \n",
            "                                                                 \n",
            " max_pooling2d_1 (MaxPooling  (None, 7, 7, 56)         0         \n",
            " 2D)                                                             \n",
            "                                                                 \n",
            " dropout_1 (Dropout)         (None, 7, 7, 56)          0         \n",
            "                                                                 \n",
            " conv2d_4 (Conv2D)           (None, 7, 7, 112)         56560     \n",
            "                                                                 \n",
            " batch_normalization_4 (Batc  (None, 7, 7, 112)        448       \n",
            " hNormalization)                                                 \n",
            "                                                                 \n",
            " conv2d_5 (Conv2D)           (None, 7, 7, 112)         113008    \n",
            "                                                                 \n",
            " batch_normalization_5 (Batc  (None, 7, 7, 112)        448       \n",
            " hNormalization)                                                 \n",
            "                                                                 \n",
            " max_pooling2d_2 (MaxPooling  (None, 3, 3, 112)        0         \n",
            " 2D)                                                             \n",
            "                                                                 \n",
            " dropout_2 (Dropout)         (None, 3, 3, 112)         0         \n",
            "                                                                 \n",
            " flatten (Flatten)           (None, 1008)              0         \n",
            "                                                                 \n",
            " dense (Dense)               (None, 112)               113008    \n",
            "                                                                 \n",
            " batch_normalization_6 (Batc  (None, 112)              448       \n",
            " hNormalization)                                                 \n",
            "                                                                 \n",
            " dropout_3 (Dropout)         (None, 112)               0         \n",
            "                                                                 \n",
            " dense_1 (Dense)             (None, 10)                1130      \n",
            "                                                                 \n",
            "=================================================================\n",
            "Total params: 335,534\n",
            "Trainable params: 334,526\n",
            "Non-trainable params: 1,008\n",
            "_________________________________________________________________\n"
          ]
        }
      ]
    },
    {
      "cell_type": "code",
      "source": [
        "model.compile(optimizer='adam', loss=keras.losses.categorical_crossentropy, metrics=['accuracy'])"
      ],
      "metadata": {
        "id": "umC_w--MoLWa"
      },
      "execution_count": null,
      "outputs": []
    },
    {
      "cell_type": "code",
      "source": [
        "history = model.fit(trainX, trainY, epochs=100, batch_size = 64, validation_data=(testX, testY))"
      ],
      "metadata": {
        "colab": {
          "base_uri": "https://localhost:8080/"
        },
        "id": "R1XRichtocai",
        "outputId": "aa66fe3d-b12e-44f3-dc8c-17a57f0a0f9f"
      },
      "execution_count": null,
      "outputs": [
        {
          "output_type": "stream",
          "name": "stdout",
          "text": [
            "Epoch 1/100\n",
            "938/938 [==============================] - 22s 10ms/step - loss: 0.6956 - accuracy: 0.7564 - val_loss: 0.3936 - val_accuracy: 0.8568\n",
            "Epoch 2/100\n",
            "938/938 [==============================] - 10s 10ms/step - loss: 0.4018 - accuracy: 0.8559 - val_loss: 0.3224 - val_accuracy: 0.8824\n",
            "Epoch 3/100\n",
            "938/938 [==============================] - 8s 9ms/step - loss: 0.3409 - accuracy: 0.8793 - val_loss: 0.3095 - val_accuracy: 0.8892\n",
            "Epoch 4/100\n",
            "938/938 [==============================] - 8s 9ms/step - loss: 0.3102 - accuracy: 0.8895 - val_loss: 0.2544 - val_accuracy: 0.9082\n",
            "Epoch 5/100\n",
            "938/938 [==============================] - 8s 9ms/step - loss: 0.2843 - accuracy: 0.8979 - val_loss: 0.2455 - val_accuracy: 0.9126\n",
            "Epoch 6/100\n",
            "938/938 [==============================] - 8s 9ms/step - loss: 0.2709 - accuracy: 0.9038 - val_loss: 0.2426 - val_accuracy: 0.9142\n",
            "Epoch 7/100\n",
            "938/938 [==============================] - 8s 9ms/step - loss: 0.2609 - accuracy: 0.9076 - val_loss: 0.2321 - val_accuracy: 0.9164\n",
            "Epoch 8/100\n",
            "938/938 [==============================] - 8s 9ms/step - loss: 0.2513 - accuracy: 0.9107 - val_loss: 0.2438 - val_accuracy: 0.9094\n",
            "Epoch 9/100\n",
            "938/938 [==============================] - 8s 9ms/step - loss: 0.2399 - accuracy: 0.9147 - val_loss: 0.2297 - val_accuracy: 0.9173\n",
            "Epoch 10/100\n",
            "938/938 [==============================] - 8s 9ms/step - loss: 0.2327 - accuracy: 0.9142 - val_loss: 0.2476 - val_accuracy: 0.9131\n",
            "Epoch 11/100\n",
            "938/938 [==============================] - 8s 9ms/step - loss: 0.2254 - accuracy: 0.9191 - val_loss: 0.2194 - val_accuracy: 0.9195\n",
            "Epoch 12/100\n",
            "938/938 [==============================] - 8s 9ms/step - loss: 0.2202 - accuracy: 0.9215 - val_loss: 0.2035 - val_accuracy: 0.9276\n",
            "Epoch 13/100\n",
            "938/938 [==============================] - 8s 9ms/step - loss: 0.2173 - accuracy: 0.9222 - val_loss: 0.2121 - val_accuracy: 0.9245\n",
            "Epoch 14/100\n",
            "938/938 [==============================] - 8s 9ms/step - loss: 0.2093 - accuracy: 0.9248 - val_loss: 0.2043 - val_accuracy: 0.9286\n",
            "Epoch 15/100\n",
            "938/938 [==============================] - 8s 9ms/step - loss: 0.2019 - accuracy: 0.9277 - val_loss: 0.1992 - val_accuracy: 0.9295\n",
            "Epoch 16/100\n",
            "938/938 [==============================] - 9s 9ms/step - loss: 0.1965 - accuracy: 0.9298 - val_loss: 0.1984 - val_accuracy: 0.9303\n",
            "Epoch 17/100\n",
            "938/938 [==============================] - 8s 9ms/step - loss: 0.1946 - accuracy: 0.9306 - val_loss: 0.1939 - val_accuracy: 0.9322\n",
            "Epoch 18/100\n",
            "938/938 [==============================] - 8s 9ms/step - loss: 0.1908 - accuracy: 0.9312 - val_loss: 0.2023 - val_accuracy: 0.9295\n",
            "Epoch 19/100\n",
            "938/938 [==============================] - 8s 9ms/step - loss: 0.1881 - accuracy: 0.9324 - val_loss: 0.1903 - val_accuracy: 0.9350\n",
            "Epoch 20/100\n",
            "938/938 [==============================] - 8s 9ms/step - loss: 0.1855 - accuracy: 0.9327 - val_loss: 0.1927 - val_accuracy: 0.9344\n",
            "Epoch 21/100\n",
            "938/938 [==============================] - 8s 9ms/step - loss: 0.1819 - accuracy: 0.9356 - val_loss: 0.1892 - val_accuracy: 0.9330\n",
            "Epoch 22/100\n",
            "938/938 [==============================] - 8s 9ms/step - loss: 0.1810 - accuracy: 0.9365 - val_loss: 0.1881 - val_accuracy: 0.9360\n",
            "Epoch 23/100\n",
            "938/938 [==============================] - 8s 9ms/step - loss: 0.1762 - accuracy: 0.9366 - val_loss: 0.1914 - val_accuracy: 0.9314\n",
            "Epoch 24/100\n",
            "938/938 [==============================] - 8s 9ms/step - loss: 0.1715 - accuracy: 0.9390 - val_loss: 0.1948 - val_accuracy: 0.9319\n",
            "Epoch 25/100\n",
            "938/938 [==============================] - 8s 9ms/step - loss: 0.1705 - accuracy: 0.9384 - val_loss: 0.1833 - val_accuracy: 0.9361\n",
            "Epoch 26/100\n",
            "938/938 [==============================] - 8s 9ms/step - loss: 0.1666 - accuracy: 0.9394 - val_loss: 0.1943 - val_accuracy: 0.9329\n",
            "Epoch 27/100\n",
            "938/938 [==============================] - 8s 9ms/step - loss: 0.1676 - accuracy: 0.9404 - val_loss: 0.1919 - val_accuracy: 0.9346\n",
            "Epoch 28/100\n",
            "938/938 [==============================] - 8s 9ms/step - loss: 0.1668 - accuracy: 0.9403 - val_loss: 0.1934 - val_accuracy: 0.9343\n",
            "Epoch 29/100\n",
            "938/938 [==============================] - 8s 9ms/step - loss: 0.1639 - accuracy: 0.9411 - val_loss: 0.1898 - val_accuracy: 0.9332\n",
            "Epoch 30/100\n",
            "938/938 [==============================] - 8s 9ms/step - loss: 0.1602 - accuracy: 0.9420 - val_loss: 0.1811 - val_accuracy: 0.9378\n",
            "Epoch 31/100\n",
            "938/938 [==============================] - 8s 9ms/step - loss: 0.1594 - accuracy: 0.9424 - val_loss: 0.1910 - val_accuracy: 0.9330\n",
            "Epoch 32/100\n",
            "938/938 [==============================] - 8s 9ms/step - loss: 0.1589 - accuracy: 0.9435 - val_loss: 0.1787 - val_accuracy: 0.9373\n",
            "Epoch 33/100\n",
            "938/938 [==============================] - 8s 9ms/step - loss: 0.1543 - accuracy: 0.9439 - val_loss: 0.1975 - val_accuracy: 0.9359\n",
            "Epoch 34/100\n",
            "938/938 [==============================] - 8s 9ms/step - loss: 0.1531 - accuracy: 0.9449 - val_loss: 0.1832 - val_accuracy: 0.9390\n",
            "Epoch 35/100\n",
            "938/938 [==============================] - 8s 9ms/step - loss: 0.1505 - accuracy: 0.9457 - val_loss: 0.1841 - val_accuracy: 0.9371\n",
            "Epoch 36/100\n",
            "938/938 [==============================] - 8s 9ms/step - loss: 0.1513 - accuracy: 0.9444 - val_loss: 0.1948 - val_accuracy: 0.9343\n",
            "Epoch 37/100\n",
            "938/938 [==============================] - 8s 9ms/step - loss: 0.1524 - accuracy: 0.9444 - val_loss: 0.1852 - val_accuracy: 0.9374\n",
            "Epoch 38/100\n",
            "938/938 [==============================] - 8s 9ms/step - loss: 0.1496 - accuracy: 0.9461 - val_loss: 0.1855 - val_accuracy: 0.9366\n",
            "Epoch 39/100\n",
            "938/938 [==============================] - 8s 9ms/step - loss: 0.1451 - accuracy: 0.9478 - val_loss: 0.1858 - val_accuracy: 0.9356\n",
            "Epoch 40/100\n",
            "938/938 [==============================] - 8s 9ms/step - loss: 0.1455 - accuracy: 0.9478 - val_loss: 0.1786 - val_accuracy: 0.9387\n",
            "Epoch 41/100\n",
            "938/938 [==============================] - 8s 9ms/step - loss: 0.1448 - accuracy: 0.9481 - val_loss: 0.1798 - val_accuracy: 0.9396\n",
            "Epoch 42/100\n",
            "938/938 [==============================] - 8s 9ms/step - loss: 0.1417 - accuracy: 0.9488 - val_loss: 0.1892 - val_accuracy: 0.9399\n",
            "Epoch 43/100\n",
            "938/938 [==============================] - 8s 9ms/step - loss: 0.1385 - accuracy: 0.9506 - val_loss: 0.1790 - val_accuracy: 0.9408\n",
            "Epoch 44/100\n",
            "938/938 [==============================] - 8s 9ms/step - loss: 0.1390 - accuracy: 0.9498 - val_loss: 0.1858 - val_accuracy: 0.9374\n",
            "Epoch 45/100\n",
            "938/938 [==============================] - 8s 9ms/step - loss: 0.1378 - accuracy: 0.9496 - val_loss: 0.1793 - val_accuracy: 0.9410\n",
            "Epoch 46/100\n",
            "938/938 [==============================] - 8s 9ms/step - loss: 0.1396 - accuracy: 0.9501 - val_loss: 0.1763 - val_accuracy: 0.9406\n",
            "Epoch 47/100\n",
            "938/938 [==============================] - 8s 9ms/step - loss: 0.1347 - accuracy: 0.9505 - val_loss: 0.1958 - val_accuracy: 0.9375\n",
            "Epoch 48/100\n",
            "938/938 [==============================] - 8s 9ms/step - loss: 0.1369 - accuracy: 0.9505 - val_loss: 0.1759 - val_accuracy: 0.9409\n",
            "Epoch 49/100\n",
            "938/938 [==============================] - 8s 9ms/step - loss: 0.1334 - accuracy: 0.9521 - val_loss: 0.1880 - val_accuracy: 0.9384\n",
            "Epoch 50/100\n",
            "938/938 [==============================] - 8s 9ms/step - loss: 0.1334 - accuracy: 0.9527 - val_loss: 0.1821 - val_accuracy: 0.9391\n",
            "Epoch 51/100\n",
            "938/938 [==============================] - 8s 9ms/step - loss: 0.1344 - accuracy: 0.9509 - val_loss: 0.1805 - val_accuracy: 0.9408\n",
            "Epoch 52/100\n",
            "938/938 [==============================] - 8s 9ms/step - loss: 0.1320 - accuracy: 0.9517 - val_loss: 0.1843 - val_accuracy: 0.9392\n",
            "Epoch 53/100\n",
            "938/938 [==============================] - 8s 9ms/step - loss: 0.1290 - accuracy: 0.9540 - val_loss: 0.1833 - val_accuracy: 0.9395\n",
            "Epoch 54/100\n",
            "938/938 [==============================] - 8s 9ms/step - loss: 0.1331 - accuracy: 0.9514 - val_loss: 0.1855 - val_accuracy: 0.9381\n",
            "Epoch 55/100\n",
            "938/938 [==============================] - 8s 9ms/step - loss: 0.1291 - accuracy: 0.9532 - val_loss: 0.1867 - val_accuracy: 0.9397\n",
            "Epoch 56/100\n",
            "938/938 [==============================] - 8s 9ms/step - loss: 0.1256 - accuracy: 0.9549 - val_loss: 0.1839 - val_accuracy: 0.9416\n",
            "Epoch 57/100\n",
            "938/938 [==============================] - 8s 9ms/step - loss: 0.1272 - accuracy: 0.9536 - val_loss: 0.1851 - val_accuracy: 0.9415\n",
            "Epoch 58/100\n",
            "938/938 [==============================] - 8s 9ms/step - loss: 0.1259 - accuracy: 0.9531 - val_loss: 0.1880 - val_accuracy: 0.9406\n",
            "Epoch 59/100\n",
            "938/938 [==============================] - 8s 9ms/step - loss: 0.1273 - accuracy: 0.9535 - val_loss: 0.1920 - val_accuracy: 0.9399\n",
            "Epoch 60/100\n",
            "938/938 [==============================] - 8s 9ms/step - loss: 0.1267 - accuracy: 0.9546 - val_loss: 0.1808 - val_accuracy: 0.9420\n",
            "Epoch 61/100\n",
            "938/938 [==============================] - 8s 9ms/step - loss: 0.1239 - accuracy: 0.9553 - val_loss: 0.1777 - val_accuracy: 0.9427\n",
            "Epoch 62/100\n",
            "938/938 [==============================] - 8s 9ms/step - loss: 0.1213 - accuracy: 0.9562 - val_loss: 0.1854 - val_accuracy: 0.9408\n",
            "Epoch 63/100\n",
            "938/938 [==============================] - 8s 9ms/step - loss: 0.1248 - accuracy: 0.9547 - val_loss: 0.1920 - val_accuracy: 0.9401\n",
            "Epoch 64/100\n",
            "938/938 [==============================] - 8s 9ms/step - loss: 0.1223 - accuracy: 0.9556 - val_loss: 0.1741 - val_accuracy: 0.9431\n",
            "Epoch 65/100\n",
            "938/938 [==============================] - 8s 9ms/step - loss: 0.1204 - accuracy: 0.9559 - val_loss: 0.1806 - val_accuracy: 0.9427\n",
            "Epoch 66/100\n",
            "938/938 [==============================] - 8s 9ms/step - loss: 0.1190 - accuracy: 0.9571 - val_loss: 0.1847 - val_accuracy: 0.9430\n",
            "Epoch 67/100\n",
            "938/938 [==============================] - 8s 9ms/step - loss: 0.1197 - accuracy: 0.9565 - val_loss: 0.1799 - val_accuracy: 0.9437\n",
            "Epoch 68/100\n",
            "938/938 [==============================] - 8s 9ms/step - loss: 0.1169 - accuracy: 0.9579 - val_loss: 0.1945 - val_accuracy: 0.9395\n",
            "Epoch 69/100\n",
            "938/938 [==============================] - 8s 9ms/step - loss: 0.1158 - accuracy: 0.9585 - val_loss: 0.1893 - val_accuracy: 0.9400\n",
            "Epoch 70/100\n",
            "938/938 [==============================] - 8s 9ms/step - loss: 0.1191 - accuracy: 0.9567 - val_loss: 0.1872 - val_accuracy: 0.9423\n",
            "Epoch 71/100\n",
            "938/938 [==============================] - 8s 9ms/step - loss: 0.1133 - accuracy: 0.9592 - val_loss: 0.1843 - val_accuracy: 0.9441\n",
            "Epoch 72/100\n",
            "938/938 [==============================] - 8s 9ms/step - loss: 0.1186 - accuracy: 0.9563 - val_loss: 0.1853 - val_accuracy: 0.9406\n",
            "Epoch 73/100\n",
            "938/938 [==============================] - 8s 9ms/step - loss: 0.1163 - accuracy: 0.9570 - val_loss: 0.1819 - val_accuracy: 0.9438\n",
            "Epoch 74/100\n",
            "938/938 [==============================] - 8s 9ms/step - loss: 0.1137 - accuracy: 0.9587 - val_loss: 0.1813 - val_accuracy: 0.9435\n",
            "Epoch 75/100\n",
            "938/938 [==============================] - 8s 9ms/step - loss: 0.1141 - accuracy: 0.9591 - val_loss: 0.1920 - val_accuracy: 0.9409\n",
            "Epoch 76/100\n",
            "938/938 [==============================] - 9s 9ms/step - loss: 0.1109 - accuracy: 0.9602 - val_loss: 0.1881 - val_accuracy: 0.9409\n",
            "Epoch 77/100\n",
            "938/938 [==============================] - 8s 9ms/step - loss: 0.1128 - accuracy: 0.9587 - val_loss: 0.1856 - val_accuracy: 0.9437\n",
            "Epoch 78/100\n",
            "938/938 [==============================] - 8s 9ms/step - loss: 0.1129 - accuracy: 0.9589 - val_loss: 0.1789 - val_accuracy: 0.9428\n",
            "Epoch 79/100\n",
            "938/938 [==============================] - 8s 9ms/step - loss: 0.1106 - accuracy: 0.9603 - val_loss: 0.1857 - val_accuracy: 0.9418\n",
            "Epoch 80/100\n",
            "938/938 [==============================] - 8s 9ms/step - loss: 0.1095 - accuracy: 0.9603 - val_loss: 0.1838 - val_accuracy: 0.9455\n",
            "Epoch 81/100\n",
            "938/938 [==============================] - 8s 9ms/step - loss: 0.1105 - accuracy: 0.9604 - val_loss: 0.1918 - val_accuracy: 0.9403\n",
            "Epoch 82/100\n",
            "938/938 [==============================] - 8s 9ms/step - loss: 0.1088 - accuracy: 0.9604 - val_loss: 0.1851 - val_accuracy: 0.9402\n",
            "Epoch 83/100\n",
            "938/938 [==============================] - 8s 9ms/step - loss: 0.1110 - accuracy: 0.9594 - val_loss: 0.1770 - val_accuracy: 0.9451\n",
            "Epoch 84/100\n",
            "938/938 [==============================] - 8s 9ms/step - loss: 0.1093 - accuracy: 0.9613 - val_loss: 0.1910 - val_accuracy: 0.9419\n",
            "Epoch 85/100\n",
            "938/938 [==============================] - 8s 9ms/step - loss: 0.1074 - accuracy: 0.9614 - val_loss: 0.1794 - val_accuracy: 0.9451\n",
            "Epoch 86/100\n",
            "938/938 [==============================] - 8s 9ms/step - loss: 0.1085 - accuracy: 0.9611 - val_loss: 0.1835 - val_accuracy: 0.9434\n",
            "Epoch 87/100\n",
            "938/938 [==============================] - 8s 9ms/step - loss: 0.1085 - accuracy: 0.9612 - val_loss: 0.1874 - val_accuracy: 0.9443\n",
            "Epoch 88/100\n",
            "938/938 [==============================] - 8s 9ms/step - loss: 0.1056 - accuracy: 0.9614 - val_loss: 0.1924 - val_accuracy: 0.9407\n",
            "Epoch 89/100\n",
            "938/938 [==============================] - 8s 9ms/step - loss: 0.1049 - accuracy: 0.9625 - val_loss: 0.1825 - val_accuracy: 0.9446\n",
            "Epoch 90/100\n",
            "938/938 [==============================] - 8s 9ms/step - loss: 0.1055 - accuracy: 0.9623 - val_loss: 0.1891 - val_accuracy: 0.9418\n",
            "Epoch 91/100\n",
            "938/938 [==============================] - 8s 9ms/step - loss: 0.1061 - accuracy: 0.9616 - val_loss: 0.1875 - val_accuracy: 0.9440\n",
            "Epoch 92/100\n",
            "938/938 [==============================] - 8s 9ms/step - loss: 0.1022 - accuracy: 0.9626 - val_loss: 0.1884 - val_accuracy: 0.9422\n",
            "Epoch 93/100\n",
            "938/938 [==============================] - 8s 9ms/step - loss: 0.1056 - accuracy: 0.9615 - val_loss: 0.1887 - val_accuracy: 0.9444\n",
            "Epoch 94/100\n",
            "938/938 [==============================] - 8s 9ms/step - loss: 0.1029 - accuracy: 0.9621 - val_loss: 0.1928 - val_accuracy: 0.9400\n",
            "Epoch 95/100\n",
            "938/938 [==============================] - 8s 9ms/step - loss: 0.1036 - accuracy: 0.9620 - val_loss: 0.1927 - val_accuracy: 0.9416\n",
            "Epoch 96/100\n",
            "938/938 [==============================] - 8s 9ms/step - loss: 0.1025 - accuracy: 0.9628 - val_loss: 0.1915 - val_accuracy: 0.9438\n",
            "Epoch 97/100\n",
            "938/938 [==============================] - 8s 9ms/step - loss: 0.1040 - accuracy: 0.9626 - val_loss: 0.1925 - val_accuracy: 0.9456\n",
            "Epoch 98/100\n",
            "938/938 [==============================] - 8s 9ms/step - loss: 0.1013 - accuracy: 0.9635 - val_loss: 0.1953 - val_accuracy: 0.9425\n",
            "Epoch 99/100\n",
            "938/938 [==============================] - 8s 9ms/step - loss: 0.1001 - accuracy: 0.9627 - val_loss: 0.1894 - val_accuracy: 0.9441\n",
            "Epoch 100/100\n",
            "938/938 [==============================] - 8s 9ms/step - loss: 0.1023 - accuracy: 0.9633 - val_loss: 0.1916 - val_accuracy: 0.9456\n"
          ]
        }
      ]
    },
    {
      "cell_type": "code",
      "source": [
        "plt.plot(history.history['loss'])\n",
        "plt.plot(history.history['val_loss'], '')\n",
        "plt.xlabel(\"Épocas\")\n",
        "plt.ylabel('Erro/loss')\n",
        "plt.title('Função erro/loss')\n",
        "plt.legend(['loss', 'val_loss'])\n",
        "plt.show()"
      ],
      "metadata": {
        "colab": {
          "base_uri": "https://localhost:8080/",
          "height": 297
        },
        "id": "Z5tQE8Avw_I7",
        "outputId": "a38200eb-bc30-41c8-8f7b-be3e149768b5"
      },
      "execution_count": null,
      "outputs": [
        {
          "output_type": "display_data",
          "data": {
            "text/plain": [
              "<Figure size 432x288 with 1 Axes>"
            ],
            "image/png": "[encoded data removed]"
          },
          "metadata": {
            "needs_background": "light"
          }
        }
      ]
    },
    {
      "cell_type": "code",
      "source": [
        "plt.plot(history.history['accuracy'])\n",
        "plt.plot(history.history['val_accuracy'], '')\n",
        "plt.xlabel(\"Épocas\")\n",
        "plt.ylabel('Acurácia')\n",
        "plt.title('Acurácia')\n",
        "plt.legend(['acurácia', 'val_acurácia'])\n",
        "plt.show()"
      ],
      "metadata": {
        "colab": {
          "base_uri": "https://localhost:8080/",
          "height": 297
        },
        "id": "NOCFl07MxGk8",
        "outputId": "8325087a-6fc7-4e61-dd6b-991312ac5c41"
      },
      "execution_count": null,
      "outputs": [
        {
          "output_type": "display_data",
          "data": {
            "text/plain": [
              "<Figure size 432x288 with 1 Axes>"
            ],
            "image/png": "[encoded data removed]"
          },
          "metadata": {
            "needs_background": "light"
          }
        }
      ]
    }
  ]
}