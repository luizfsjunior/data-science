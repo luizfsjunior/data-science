{
  "nbformat": 4,
  "nbformat_minor": 0,
  "metadata": {
    "colab": {
      "name": " Projeto: predição Churn - Churn_Modelling.ipynb",
      "provenance": [],
      "collapsed_sections": [],
      "authorship_tag": "ABX9TyPUa3bDg2jH8SPtDvtm++zB",
      "include_colab_link": true
    },
    "kernelspec": {
      "name": "python3",
      "display_name": "Python 3"
    },
    "language_info": {
      "name": "python"
    },
    "accelerator": "GPU",
    "gpuClass": "standard"
  },
  "cells": [
    {
      "cell_type": "markdown",
      "metadata": {
        "id": "view-in-github",
        "colab_type": "text"
      },
      "source": [
        "<a href=\"https://colab.research.google.com/github/luizfsjunior/data-science/blob/main/Projeto_predi%C3%A7%C3%A3o_Churn_Churn_Modelling.ipynb\" target=\"_parent\"><img src=\"https://colab.research.google.com/assets/colab-badge.svg\" alt=\"Open In Colab\"/></a>"
      ]
    },
    {
      "cell_type": "markdown",
      "source": [
        "#Pré-processamento de um conjunto de dados:"
      ],
      "metadata": {
        "id": "3kZ7MrDMuAB1"
      }
    },
    {
      "cell_type": "markdown",
      "source": [
        "##1. Faça a leitura do arquivo \"Churn_Modelling_2.csv\" disponível na pasta \"Churn\" no repositório GitHub da disciplina e armazene numa variável como um dataframe:"
      ],
      "metadata": {
        "id": "PJlP79Qggq2w"
      }
    },
    {
      "cell_type": "code",
      "execution_count": 2,
      "metadata": {
        "colab": {
          "base_uri": "https://localhost:8080/"
        },
        "id": "h3vredPIgh5C",
        "outputId": "2ae9d955-08b7-4ff9-fe4d-fabcfe3cbd96"
      },
      "outputs": [
        {
          "output_type": "stream",
          "name": "stdout",
          "text": [
            "fatal: destination path 'DSBD' already exists and is not an empty directory.\n"
          ]
        }
      ],
      "source": [
        "!git clone \"https://github.com/malegopc/DSBD\""
      ]
    },
    {
      "cell_type": "code",
      "source": [
        "import pandas as pd\n",
        "import numpy as np\n",
        "from sklearn.impute import SimpleImputer\n",
        "from sklearn.preprocessing import LabelEncoder, StandardScaler, OneHotEncoder\n",
        "from sklearn.compose import make_column_transformer\n",
        "from sklearn.model_selection import train_test_split"
      ],
      "metadata": {
        "id": "R5mU34JyhbkX"
      },
      "execution_count": 3,
      "outputs": []
    },
    {
      "cell_type": "code",
      "source": [
        "churn = pd.read_csv('DSBD/Datasets/Churn/Churn_Modelling_2.csv', na_values=['?'])\n",
        "if churn.isnull().values.any()== True:\n",
        "  print(\"Há dados vazios\")\n",
        "else:\n",
        "  print(\"Não há dados vazios\")\n",
        "churn\n"
      ],
      "metadata": {
        "colab": {
          "base_uri": "https://localhost:8080/",
          "height": 441
        },
        "id": "Im7wRzaLhAig",
        "outputId": "90f85ded-2da5-41df-a279-17a90c338cf6"
      },
      "execution_count": 4,
      "outputs": [
        {
          "output_type": "stream",
          "name": "stdout",
          "text": [
            "Há dados vazios\n"
          ]
        },
        {
          "output_type": "execute_result",
          "data": {
            "text/plain": [
              "      RowNumber  CustomerId    Surname  CreditScore Geography  Gender  Age  \\\n",
              "0             1    15634602   Hargrave          619    France  Female   42   \n",
              "1             2    15647311       Hill          608     Spain  Female   41   \n",
              "2             3    15619304       Onio          502    France  Female   42   \n",
              "3             4    15701354       Boni          699    France  Female   39   \n",
              "4             5    15737888   Mitchell          850     Spain  Female   43   \n",
              "...         ...         ...        ...          ...       ...     ...  ...   \n",
              "9995       9996    15606229   Obijiaku          771    France    Male   39   \n",
              "9996       9997    15569892  Johnstone          516    France    Male   35   \n",
              "9997       9998    15584532        Liu          709    France  Female   36   \n",
              "9998       9999    15682355  Sabbatini          772   Germany    Male   42   \n",
              "9999      10000    15628319     Walker          792    France  Female   28   \n",
              "\n",
              "      Tenure    Balance  NumOfProducts  HasCrCard  IsActiveMember  \\\n",
              "0          2       0.00            1.0          1             1.0   \n",
              "1          1   83807.86            1.0          0             1.0   \n",
              "2          8  159660.80            3.0          1             0.0   \n",
              "3          1       0.00            2.0          0             0.0   \n",
              "4          2  125510.82            1.0          1             1.0   \n",
              "...      ...        ...            ...        ...             ...   \n",
              "9995       5       0.00            2.0          1             0.0   \n",
              "9996      10   57369.61            1.0          1             1.0   \n",
              "9997       7       0.00            1.0          0             1.0   \n",
              "9998       3   75075.31            2.0          1             0.0   \n",
              "9999       4  130142.79            1.0          1             0.0   \n",
              "\n",
              "      EstimatedSalary  Exited  \n",
              "0           101348.88       1  \n",
              "1           112542.58       0  \n",
              "2           113931.57       1  \n",
              "3            93826.63       0  \n",
              "4            79084.10       0  \n",
              "...               ...     ...  \n",
              "9995         96270.64       0  \n",
              "9996        101699.77       0  \n",
              "9997         42085.58       1  \n",
              "9998         92888.52       1  \n",
              "9999         38190.78       0  \n",
              "\n",
              "[10000 rows x 14 columns]"
            ],
            "text/html": [
              "\n",
              "  <div id=\"df-a91579b9-0ad5-4e5b-9d3c-516283a1e035\">\n",
              "    <div class=\"colab-df-container\">\n",
              "      <div>\n",
              "<style scoped>\n",
              "    .dataframe tbody tr th:only-of-type {\n",
              "        vertical-align: middle;\n",
              "    }\n",
              "\n",
              "    .dataframe tbody tr th {\n",
              "        vertical-align: top;\n",
              "    }\n",
              "\n",
              "    .dataframe thead th {\n",
              "        text-align: right;\n",
              "    }\n",
              "</style>\n",
              "<table border=\"1\" class=\"dataframe\">\n",
              "  <thead>\n",
              "    <tr style=\"text-align: right;\">\n",
              "      <th></th>\n",
              "      <th>RowNumber</th>\n",
              "      <th>CustomerId</th>\n",
              "      <th>Surname</th>\n",
              "      <th>CreditScore</th>\n",
              "      <th>Geography</th>\n",
              "      <th>Gender</th>\n",
              "      <th>Age</th>\n",
              "      <th>Tenure</th>\n",
              "      <th>Balance</th>\n",
              "      <th>NumOfProducts</th>\n",
              "      <th>HasCrCard</th>\n",
              "      <th>IsActiveMember</th>\n",
              "      <th>EstimatedSalary</th>\n",
              "      <th>Exited</th>\n",
              "    </tr>\n",
              "  </thead>\n",
              "  <tbody>\n",
              "    <tr>\n",
              "      <th>0</th>\n",
              "      <td>1</td>\n",
              "      <td>15634602</td>\n",
              "      <td>Hargrave</td>\n",
              "      <td>619</td>\n",
              "      <td>France</td>\n",
              "      <td>Female</td>\n",
              "      <td>42</td>\n",
              "      <td>2</td>\n",
              "      <td>0.00</td>\n",
              "      <td>1.0</td>\n",
              "      <td>1</td>\n",
              "      <td>1.0</td>\n",
              "      <td>101348.88</td>\n",
              "      <td>1</td>\n",
              "    </tr>\n",
              "    <tr>\n",
              "      <th>1</th>\n",
              "      <td>2</td>\n",
              "      <td>15647311</td>\n",
              "      <td>Hill</td>\n",
              "      <td>608</td>\n",
              "      <td>Spain</td>\n",
              "      <td>Female</td>\n",
              "      <td>41</td>\n",
              "      <td>1</td>\n",
              "      <td>83807.86</td>\n",
              "      <td>1.0</td>\n",
              "      <td>0</td>\n",
              "      <td>1.0</td>\n",
              "      <td>112542.58</td>\n",
              "      <td>0</td>\n",
              "    </tr>\n",
              "    <tr>\n",
              "      <th>2</th>\n",
              "      <td>3</td>\n",
              "      <td>15619304</td>\n",
              "      <td>Onio</td>\n",
              "      <td>502</td>\n",
              "      <td>France</td>\n",
              "      <td>Female</td>\n",
              "      <td>42</td>\n",
              "      <td>8</td>\n",
              "      <td>159660.80</td>\n",
              "      <td>3.0</td>\n",
              "      <td>1</td>\n",
              "      <td>0.0</td>\n",
              "      <td>113931.57</td>\n",
              "      <td>1</td>\n",
              "    </tr>\n",
              "    <tr>\n",
              "      <th>3</th>\n",
              "      <td>4</td>\n",
              "      <td>15701354</td>\n",
              "      <td>Boni</td>\n",
              "      <td>699</td>\n",
              "      <td>France</td>\n",
              "      <td>Female</td>\n",
              "      <td>39</td>\n",
              "      <td>1</td>\n",
              "      <td>0.00</td>\n",
              "      <td>2.0</td>\n",
              "      <td>0</td>\n",
              "      <td>0.0</td>\n",
              "      <td>93826.63</td>\n",
              "      <td>0</td>\n",
              "    </tr>\n",
              "    <tr>\n",
              "      <th>4</th>\n",
              "      <td>5</td>\n",
              "      <td>15737888</td>\n",
              "      <td>Mitchell</td>\n",
              "      <td>850</td>\n",
              "      <td>Spain</td>\n",
              "      <td>Female</td>\n",
              "      <td>43</td>\n",
              "      <td>2</td>\n",
              "      <td>125510.82</td>\n",
              "      <td>1.0</td>\n",
              "      <td>1</td>\n",
              "      <td>1.0</td>\n",
              "      <td>79084.10</td>\n",
              "      <td>0</td>\n",
              "    </tr>\n",
              "    <tr>\n",
              "      <th>...</th>\n",
              "      <td>...</td>\n",
              "      <td>...</td>\n",
              "      <td>...</td>\n",
              "      <td>...</td>\n",
              "      <td>...</td>\n",
              "      <td>...</td>\n",
              "      <td>...</td>\n",
              "      <td>...</td>\n",
              "      <td>...</td>\n",
              "      <td>...</td>\n",
              "      <td>...</td>\n",
              "      <td>...</td>\n",
              "      <td>...</td>\n",
              "      <td>...</td>\n",
              "    </tr>\n",
              "    <tr>\n",
              "      <th>9995</th>\n",
              "      <td>9996</td>\n",
              "      <td>15606229</td>\n",
              "      <td>Obijiaku</td>\n",
              "      <td>771</td>\n",
              "      <td>France</td>\n",
              "      <td>Male</td>\n",
              "      <td>39</td>\n",
              "      <td>5</td>\n",
              "      <td>0.00</td>\n",
              "      <td>2.0</td>\n",
              "      <td>1</td>\n",
              "      <td>0.0</td>\n",
              "      <td>96270.64</td>\n",
              "      <td>0</td>\n",
              "    </tr>\n",
              "    <tr>\n",
              "      <th>9996</th>\n",
              "      <td>9997</td>\n",
              "      <td>15569892</td>\n",
              "      <td>Johnstone</td>\n",
              "      <td>516</td>\n",
              "      <td>France</td>\n",
              "      <td>Male</td>\n",
              "      <td>35</td>\n",
              "      <td>10</td>\n",
              "      <td>57369.61</td>\n",
              "      <td>1.0</td>\n",
              "      <td>1</td>\n",
              "      <td>1.0</td>\n",
              "      <td>101699.77</td>\n",
              "      <td>0</td>\n",
              "    </tr>\n",
              "    <tr>\n",
              "      <th>9997</th>\n",
              "      <td>9998</td>\n",
              "      <td>15584532</td>\n",
              "      <td>Liu</td>\n",
              "      <td>709</td>\n",
              "      <td>France</td>\n",
              "      <td>Female</td>\n",
              "      <td>36</td>\n",
              "      <td>7</td>\n",
              "      <td>0.00</td>\n",
              "      <td>1.0</td>\n",
              "      <td>0</td>\n",
              "      <td>1.0</td>\n",
              "      <td>42085.58</td>\n",
              "      <td>1</td>\n",
              "    </tr>\n",
              "    <tr>\n",
              "      <th>9998</th>\n",
              "      <td>9999</td>\n",
              "      <td>15682355</td>\n",
              "      <td>Sabbatini</td>\n",
              "      <td>772</td>\n",
              "      <td>Germany</td>\n",
              "      <td>Male</td>\n",
              "      <td>42</td>\n",
              "      <td>3</td>\n",
              "      <td>75075.31</td>\n",
              "      <td>2.0</td>\n",
              "      <td>1</td>\n",
              "      <td>0.0</td>\n",
              "      <td>92888.52</td>\n",
              "      <td>1</td>\n",
              "    </tr>\n",
              "    <tr>\n",
              "      <th>9999</th>\n",
              "      <td>10000</td>\n",
              "      <td>15628319</td>\n",
              "      <td>Walker</td>\n",
              "      <td>792</td>\n",
              "      <td>France</td>\n",
              "      <td>Female</td>\n",
              "      <td>28</td>\n",
              "      <td>4</td>\n",
              "      <td>130142.79</td>\n",
              "      <td>1.0</td>\n",
              "      <td>1</td>\n",
              "      <td>0.0</td>\n",
              "      <td>38190.78</td>\n",
              "      <td>0</td>\n",
              "    </tr>\n",
              "  </tbody>\n",
              "</table>\n",
              "<p>10000 rows × 14 columns</p>\n",
              "</div>\n",
              "      <button class=\"colab-df-convert\" onclick=\"convertToInteractive('df-a91579b9-0ad5-4e5b-9d3c-516283a1e035')\"\n",
              "              title=\"Convert this dataframe to an interactive table.\"\n",
              "              style=\"display:none;\">\n",
              "        \n",
              "  <svg xmlns=\"http://www.w3.org/2000/svg\" height=\"24px\"viewBox=\"0 0 24 24\"\n",
              "       width=\"24px\">\n",
              "    <path d=\"M0 0h24v24H0V0z\" fill=\"none\"/>\n",
              "    <path d=\"M18.56 5.44l.94 2.06.94-2.06 2.06-.94-2.06-.94-.94-2.06-.94 2.06-2.06.94zm-11 1L8.5 8.5l.94-2.06 2.06-.94-2.06-.94L8.5 2.5l-.94 2.06-2.06.94zm10 10l.94 2.06.94-2.06 2.06-.94-2.06-.94-.94-2.06-.94 2.06-2.06.94z\"/><path d=\"M17.41 7.96l-1.37-1.37c-.4-.4-.92-.59-1.43-.59-.52 0-1.04.2-1.43.59L10.3 9.45l-7.72 7.72c-.78.78-.78 2.05 0 2.83L4 21.41c.39.39.9.59 1.41.59.51 0 1.02-.2 1.41-.59l7.78-7.78 2.81-2.81c.8-.78.8-2.07 0-2.86zM5.41 20L4 18.59l7.72-7.72 1.47 1.35L5.41 20z\"/>\n",
              "  </svg>\n",
              "      </button>\n",
              "      \n",
              "  <style>\n",
              "    .colab-df-container {\n",
              "      display:flex;\n",
              "      flex-wrap:wrap;\n",
              "      gap: 12px;\n",
              "    }\n",
              "\n",
              "    .colab-df-convert {\n",
              "      background-color: #E8F0FE;\n",
              "      border: none;\n",
              "      border-radius: 50%;\n",
              "      cursor: pointer;\n",
              "      display: none;\n",
              "      fill: #1967D2;\n",
              "      height: 32px;\n",
              "      padding: 0 0 0 0;\n",
              "      width: 32px;\n",
              "    }\n",
              "\n",
              "    .colab-df-convert:hover {\n",
              "      background-color: #E2EBFA;\n",
              "      box-shadow: 0px 1px 2px rgba(60, 64, 67, 0.3), 0px 1px 3px 1px rgba(60, 64, 67, 0.15);\n",
              "      fill: #174EA6;\n",
              "    }\n",
              "\n",
              "    [theme=dark] .colab-df-convert {\n",
              "      background-color: #3B4455;\n",
              "      fill: #D2E3FC;\n",
              "    }\n",
              "\n",
              "    [theme=dark] .colab-df-convert:hover {\n",
              "      background-color: #434B5C;\n",
              "      box-shadow: 0px 1px 3px 1px rgba(0, 0, 0, 0.15);\n",
              "      filter: drop-shadow(0px 1px 2px rgba(0, 0, 0, 0.3));\n",
              "      fill: #FFFFFF;\n",
              "    }\n",
              "  </style>\n",
              "\n",
              "      <script>\n",
              "        const buttonEl =\n",
              "          document.querySelector('#df-a91579b9-0ad5-4e5b-9d3c-516283a1e035 button.colab-df-convert');\n",
              "        buttonEl.style.display =\n",
              "          google.colab.kernel.accessAllowed ? 'block' : 'none';\n",
              "\n",
              "        async function convertToInteractive(key) {\n",
              "          const element = document.querySelector('#df-a91579b9-0ad5-4e5b-9d3c-516283a1e035');\n",
              "          const dataTable =\n",
              "            await google.colab.kernel.invokeFunction('convertToInteractive',\n",
              "                                                     [key], {});\n",
              "          if (!dataTable) return;\n",
              "\n",
              "          const docLinkHtml = 'Like what you see? Visit the ' +\n",
              "            '<a target=\"_blank\" href=https://colab.research.google.com/notebooks/data_table.ipynb>data table notebook</a>'\n",
              "            + ' to learn more about interactive tables.';\n",
              "          element.innerHTML = '';\n",
              "          dataTable['output_type'] = 'display_data';\n",
              "          await google.colab.output.renderOutput(dataTable, element);\n",
              "          const docLink = document.createElement('div');\n",
              "          docLink.innerHTML = docLinkHtml;\n",
              "          element.appendChild(docLink);\n",
              "        }\n",
              "      </script>\n",
              "    </div>\n",
              "  </div>\n",
              "  "
            ]
          },
          "metadata": {},
          "execution_count": 4
        }
      ]
    },
    {
      "cell_type": "markdown",
      "source": [
        "##2. Elimine instâncias (linhas) com dados ausentes para a variável \"IsActiveMember\":"
      ],
      "metadata": {
        "id": "B1ZcAR0Uh-aA"
      }
    },
    {
      "cell_type": "code",
      "source": [
        "# Mostra o número de dados non-null (não ausentes) e o tipo de cada atributo\n",
        "print('Informações sobre os dados:\\n')\n",
        "churn.info()\n",
        "# Soma o número de dados null (ausentes)\n",
        "print('\\n\\nSoma de dados null (vazios):\\n')\n",
        "churn.isnull().sum()"
      ],
      "metadata": {
        "colab": {
          "base_uri": "https://localhost:8080/"
        },
        "id": "fD4WDrcFh-AQ",
        "outputId": "3dd187a8-4c58-4858-cd5d-52d70f227b76"
      },
      "execution_count": 5,
      "outputs": [
        {
          "output_type": "stream",
          "name": "stdout",
          "text": [
            "Informações sobre os dados:\n",
            "\n",
            "<class 'pandas.core.frame.DataFrame'>\n",
            "RangeIndex: 10000 entries, 0 to 9999\n",
            "Data columns (total 14 columns):\n",
            " #   Column           Non-Null Count  Dtype  \n",
            "---  ------           --------------  -----  \n",
            " 0   RowNumber        10000 non-null  int64  \n",
            " 1   CustomerId       10000 non-null  int64  \n",
            " 2   Surname          10000 non-null  object \n",
            " 3   CreditScore      10000 non-null  int64  \n",
            " 4   Geography        10000 non-null  object \n",
            " 5   Gender           10000 non-null  object \n",
            " 6   Age              10000 non-null  int64  \n",
            " 7   Tenure           10000 non-null  int64  \n",
            " 8   Balance          10000 non-null  float64\n",
            " 9   NumOfProducts    9990 non-null   float64\n",
            " 10  HasCrCard        10000 non-null  int64  \n",
            " 11  IsActiveMember   9986 non-null   float64\n",
            " 12  EstimatedSalary  10000 non-null  float64\n",
            " 13  Exited           10000 non-null  int64  \n",
            "dtypes: float64(4), int64(7), object(3)\n",
            "memory usage: 1.1+ MB\n",
            "\n",
            "\n",
            "Soma de dados null (vazios):\n",
            "\n"
          ]
        },
        {
          "output_type": "execute_result",
          "data": {
            "text/plain": [
              "RowNumber           0\n",
              "CustomerId          0\n",
              "Surname             0\n",
              "CreditScore         0\n",
              "Geography           0\n",
              "Gender              0\n",
              "Age                 0\n",
              "Tenure              0\n",
              "Balance             0\n",
              "NumOfProducts      10\n",
              "HasCrCard           0\n",
              "IsActiveMember     14\n",
              "EstimatedSalary     0\n",
              "Exited              0\n",
              "dtype: int64"
            ]
          },
          "metadata": {},
          "execution_count": 5
        }
      ]
    },
    {
      "cell_type": "code",
      "source": [
        "churn = churn.dropna(inplace = False, subset = ['IsActiveMember'])\n"
      ],
      "metadata": {
        "id": "yXQ8BVppkPUQ"
      },
      "execution_count": 6,
      "outputs": []
    },
    {
      "cell_type": "markdown",
      "source": [
        "##3. Faça a imputação dos dados ausentes para a variável \"NumOfProducts\" utilizando a média da variável:"
      ],
      "metadata": {
        "id": "-hM31jBlmcAH"
      }
    },
    {
      "cell_type": "code",
      "source": [
        "churn2 = churn.copy()\n",
        "imputer = SimpleImputer(missing_values = np.nan, strategy ='mean')\n",
        "churn2[['NumOfProducts']] = imputer.fit_transform(churn2[['NumOfProducts']].values)\n",
        "\n",
        "\n",
        "print('\\n\\nSoma de dados null (vazios):\\n')\n",
        "churn2.isnull().sum()"
      ],
      "metadata": {
        "colab": {
          "base_uri": "https://localhost:8080/"
        },
        "id": "s4DtrTm4mbHh",
        "outputId": "c3e03595-be7c-4e5a-96ac-fb8914f2a093"
      },
      "execution_count": 7,
      "outputs": [
        {
          "output_type": "stream",
          "name": "stdout",
          "text": [
            "\n",
            "\n",
            "Soma de dados null (vazios):\n",
            "\n"
          ]
        },
        {
          "output_type": "execute_result",
          "data": {
            "text/plain": [
              "RowNumber          0\n",
              "CustomerId         0\n",
              "Surname            0\n",
              "CreditScore        0\n",
              "Geography          0\n",
              "Gender             0\n",
              "Age                0\n",
              "Tenure             0\n",
              "Balance            0\n",
              "NumOfProducts      0\n",
              "HasCrCard          0\n",
              "IsActiveMember     0\n",
              "EstimatedSalary    0\n",
              "Exited             0\n",
              "dtype: int64"
            ]
          },
          "metadata": {},
          "execution_count": 7
        }
      ]
    },
    {
      "cell_type": "markdown",
      "source": [
        "##4. Crie uma variável (array) X que contenha os valores apenas dos atributos/colunas de \"CreditScore\" a \"EstimatedSalary\" utilizando a função \"iloc\" do Pandas. Em outras palavras, crie uma variável X que receba o dataframe inteiro exceto as 3 primeiras colunas e a última. Observe que as 3 primeiras colunas \"RowNumber\", \"CustomerId\" e \"Surname\" não são importantes e devem ser descartadas. E a última coluna (\"Exited\") será a variável destino (\"target\" ou saída) que será criada no próximo passo:"
      ],
      "metadata": {
        "id": "GcjroPXqm2z4"
      }
    },
    {
      "cell_type": "code",
      "source": [
        "x = churn2.iloc[:, 3:13].values\n",
        "print(x)"
      ],
      "metadata": {
        "id": "eudCrs0en61Y",
        "colab": {
          "base_uri": "https://localhost:8080/"
        },
        "outputId": "186a3fbd-a6c7-47ae-e038-f5f2e32057bc"
      },
      "execution_count": 8,
      "outputs": [
        {
          "output_type": "stream",
          "name": "stdout",
          "text": [
            "[[619 'France' 'Female' ... 1 1.0 101348.88]\n",
            " [608 'Spain' 'Female' ... 0 1.0 112542.58]\n",
            " [502 'France' 'Female' ... 1 0.0 113931.57]\n",
            " ...\n",
            " [709 'France' 'Female' ... 0 1.0 42085.58]\n",
            " [772 'Germany' 'Male' ... 1 0.0 92888.52]\n",
            " [792 'France' 'Female' ... 1 0.0 38190.78]]\n"
          ]
        }
      ]
    },
    {
      "cell_type": "markdown",
      "source": [
        "##5. Crie uma variável (array) y que contenha apenas a última coluna  (\"Exited\"). Esta é a variável destino (\"target\" ou saída):"
      ],
      "metadata": {
        "id": "kBihFpYFpq0E"
      }
    },
    {
      "cell_type": "code",
      "source": [
        "y = churn2['Exited']"
      ],
      "metadata": {
        "id": "6e9-WUFJpt2b"
      },
      "execution_count": 9,
      "outputs": []
    },
    {
      "cell_type": "markdown",
      "source": [
        "##6. Codifique a coluna/variável categórica \"Geography\" como numérica utilizando a classe LabelEncoder da biblioteca scikit-learn;"
      ],
      "metadata": {
        "id": "AKUu1lS_p_IT"
      }
    },
    {
      "cell_type": "markdown",
      "source": [
        "##7. Codifique a coluna/variável categórica \"Gender\" como numérica utilizando a classe LabelEncoder da biblioteca scikit-learn;"
      ],
      "metadata": {
        "id": "04QPcbanqv_U"
      }
    },
    {
      "cell_type": "markdown",
      "source": [
        "##8. Após executar o passo 6, transforme os dados da variável \"Geography\" para a forma binária utilizando a classe OneHotEncoder da biblioteca scikit-learn eliminando redundância, ou seja, aplicando a codificação de variáveis dummy. Observe que há apenas 3 países (categorias) diferentes. Atenção: esse talvez seja o passo mais difícil da tarefa. Você deve transformar o resultado da variável/coluna \"Geography\" obtido no passo 4 para o formato binário (one-hot) de modo que fique representado por apenas duas colunas (de 0s e 1s). Além disso, essas duas novas colunas devem permanecer na mesma variável X. Dica: verifique a utilização da função make_column_transformer da biblioteca scikit-learn:\n"
      ],
      "metadata": {
        "id": "04Oj5gFkrHeb"
      }
    },
    {
      "cell_type": "code",
      "source": [
        "enc_geo = OneHotEncoder(drop = 'first', sparse = False)\n",
        "enc_gen = OneHotEncoder(sparse = False)\n",
        "ct = make_column_transformer(\n",
        "      (enc_geo,[1]), (enc_gen,[2]), remainder = 'passthrough')\n",
        "x = ct.fit_transform(x)\n",
        "print(x)"
      ],
      "metadata": {
        "colab": {
          "base_uri": "https://localhost:8080/"
        },
        "id": "zLmobDiTrK1D",
        "outputId": "880c7220-85a7-49e9-db6c-d1c4490eeca3"
      },
      "execution_count": 10,
      "outputs": [
        {
          "output_type": "stream",
          "name": "stdout",
          "text": [
            "[[0.0 0.0 1.0 ... 1 1.0 101348.88]\n",
            " [0.0 1.0 1.0 ... 0 1.0 112542.58]\n",
            " [0.0 0.0 1.0 ... 1 0.0 113931.57]\n",
            " ...\n",
            " [0.0 0.0 1.0 ... 0 1.0 42085.58]\n",
            " [1.0 0.0 0.0 ... 1 0.0 92888.52]\n",
            " [0.0 0.0 1.0 ... 1 0.0 38190.78]]\n"
          ]
        }
      ]
    },
    {
      "cell_type": "markdown",
      "source": [
        "##9. Divida as variáveis X e y em dados de treino e de teste utilizando o método \"train_test_split\", gerando as variáveis X_train, X_test, y_train e y_test. Você define a proporção de dados de treino e de teste:"
      ],
      "metadata": {
        "id": "ZRbDWCVQwCZG"
      }
    },
    {
      "cell_type": "code",
      "source": [
        "x_train, x_test, y_train, y_test = train_test_split(x,y,test_size=0.25,random_state=42)\n",
        "print(x_train.shape)\n",
        "print(x_test.shape)"
      ],
      "metadata": {
        "colab": {
          "base_uri": "https://localhost:8080/"
        },
        "id": "9JKBx8owwEUO",
        "outputId": "41a0fc28-339e-453f-c600-fdd6523a1501"
      },
      "execution_count": 11,
      "outputs": [
        {
          "output_type": "stream",
          "name": "stdout",
          "text": [
            "(7489, 12)\n",
            "(2497, 12)\n"
          ]
        }
      ]
    },
    {
      "cell_type": "markdown",
      "source": [
        "##10. Faça a padronização (escalonamento) dos dados das variáveis X_train e X_test utilizando a classe StandardScaler do scikit-learn:"
      ],
      "metadata": {
        "id": "isR8SXDjwrHU"
      }
    },
    {
      "cell_type": "code",
      "source": [
        "sc = StandardScaler()\n",
        "x_train= sc.fit_transform(x_train)\n",
        "x_test = sc.transform(x_test)\n",
        "\n",
        "x_train = np.asarray(x_train).astype(np.float32)\n",
        "y_train = np.asarray(y_train).astype(np.float32)"
      ],
      "metadata": {
        "id": "7JhrQuvawt7U"
      },
      "execution_count": 12,
      "outputs": []
    },
    {
      "cell_type": "code",
      "source": [
        "from keras.layers import Dense\n",
        "from keras.models import Sequential\n",
        "from sklearn.model_selection import cross_val_score\n",
        "\n",
        "model = Sequential()\n",
        "model.add(Dense(24, input_dim=12, kernel_initializer = 'he_uniform', activation='relu'))\n",
        "model.add(Dense(12, kernel_initializer = 'he_uniform', activation='relu'))\n",
        "model.add(Dense(6, kernel_initializer = 'he_uniform', activation='relu'))\n",
        "model.add(Dense(1, activation='sigmoid'))\n",
        "\n",
        "model.summary()"
      ],
      "metadata": {
        "colab": {
          "base_uri": "https://localhost:8080/"
        },
        "id": "NC9Gqj2JSRWt",
        "outputId": "82acb6b5-965f-4d38-a1e3-2f2b6d623ee9"
      },
      "execution_count": 13,
      "outputs": [
        {
          "output_type": "stream",
          "name": "stdout",
          "text": [
            "Model: \"sequential\"\n",
            "_________________________________________________________________\n",
            " Layer (type)                Output Shape              Param #   \n",
            "=================================================================\n",
            " dense (Dense)               (None, 24)                312       \n",
            "                                                                 \n",
            " dense_1 (Dense)             (None, 12)                300       \n",
            "                                                                 \n",
            " dense_2 (Dense)             (None, 6)                 78        \n",
            "                                                                 \n",
            " dense_3 (Dense)             (None, 1)                 7         \n",
            "                                                                 \n",
            "=================================================================\n",
            "Total params: 697\n",
            "Trainable params: 697\n",
            "Non-trainable params: 0\n",
            "_________________________________________________________________\n"
          ]
        }
      ]
    },
    {
      "cell_type": "code",
      "source": [
        "model.compile(optimizer='adam', loss='binary_crossentropy', metrics=['accuracy'])"
      ],
      "metadata": {
        "id": "zukFmcQSS39i"
      },
      "execution_count": 14,
      "outputs": []
    },
    {
      "cell_type": "code",
      "source": [
        "history = model.fit(x_train, y_train, epochs=100, batch_size = 5, validation_data=(x_test, y_test))"
      ],
      "metadata": {
        "colab": {
          "base_uri": "https://localhost:8080/"
        },
        "id": "IN8U0yujS9ea",
        "outputId": "046111b9-d9fe-489b-b6f1-295d16fd4e57"
      },
      "execution_count": 15,
      "outputs": [
        {
          "output_type": "stream",
          "name": "stdout",
          "text": [
            "Epoch 1/100\n",
            "1498/1498 [==============================] - 6s 3ms/step - loss: 0.4652 - accuracy: 0.8001 - val_loss: 0.4217 - val_accuracy: 0.8202\n",
            "Epoch 2/100\n",
            "1498/1498 [==============================] - 5s 3ms/step - loss: 0.3924 - accuracy: 0.8380 - val_loss: 0.3818 - val_accuracy: 0.8486\n",
            "Epoch 3/100\n",
            "1498/1498 [==============================] - 5s 4ms/step - loss: 0.3574 - accuracy: 0.8581 - val_loss: 0.3593 - val_accuracy: 0.8562\n",
            "Epoch 4/100\n",
            "1498/1498 [==============================] - 5s 3ms/step - loss: 0.3429 - accuracy: 0.8598 - val_loss: 0.3531 - val_accuracy: 0.8578\n",
            "Epoch 5/100\n",
            "1498/1498 [==============================] - 5s 3ms/step - loss: 0.3388 - accuracy: 0.8610 - val_loss: 0.3503 - val_accuracy: 0.8582\n",
            "Epoch 6/100\n",
            "1498/1498 [==============================] - 5s 3ms/step - loss: 0.3343 - accuracy: 0.8629 - val_loss: 0.3560 - val_accuracy: 0.8554\n",
            "Epoch 7/100\n",
            "1498/1498 [==============================] - 5s 3ms/step - loss: 0.3323 - accuracy: 0.8631 - val_loss: 0.3532 - val_accuracy: 0.8562\n",
            "Epoch 8/100\n",
            "1498/1498 [==============================] - 5s 3ms/step - loss: 0.3304 - accuracy: 0.8637 - val_loss: 0.3481 - val_accuracy: 0.8566\n",
            "Epoch 9/100\n",
            "1498/1498 [==============================] - 5s 4ms/step - loss: 0.3274 - accuracy: 0.8662 - val_loss: 0.3645 - val_accuracy: 0.8506\n",
            "Epoch 10/100\n",
            "1498/1498 [==============================] - 5s 3ms/step - loss: 0.3279 - accuracy: 0.8650 - val_loss: 0.3586 - val_accuracy: 0.8542\n",
            "Epoch 11/100\n",
            "1498/1498 [==============================] - 5s 3ms/step - loss: 0.3262 - accuracy: 0.8673 - val_loss: 0.3500 - val_accuracy: 0.8558\n",
            "Epoch 12/100\n",
            "1498/1498 [==============================] - 5s 4ms/step - loss: 0.3247 - accuracy: 0.8681 - val_loss: 0.3484 - val_accuracy: 0.8546\n",
            "Epoch 13/100\n",
            "1498/1498 [==============================] - 5s 4ms/step - loss: 0.3233 - accuracy: 0.8683 - val_loss: 0.3587 - val_accuracy: 0.8570\n",
            "Epoch 14/100\n",
            "1498/1498 [==============================] - 6s 4ms/step - loss: 0.3207 - accuracy: 0.8689 - val_loss: 0.3516 - val_accuracy: 0.8570\n",
            "Epoch 15/100\n",
            "1498/1498 [==============================] - 5s 3ms/step - loss: 0.3211 - accuracy: 0.8698 - val_loss: 0.3557 - val_accuracy: 0.8558\n",
            "Epoch 16/100\n",
            "1498/1498 [==============================] - 5s 4ms/step - loss: 0.3185 - accuracy: 0.8685 - val_loss: 0.3505 - val_accuracy: 0.8582\n",
            "Epoch 17/100\n",
            "1498/1498 [==============================] - 5s 3ms/step - loss: 0.3176 - accuracy: 0.8701 - val_loss: 0.3558 - val_accuracy: 0.8586\n",
            "Epoch 18/100\n",
            "1498/1498 [==============================] - 5s 3ms/step - loss: 0.3179 - accuracy: 0.8683 - val_loss: 0.3542 - val_accuracy: 0.8562\n",
            "Epoch 19/100\n",
            "1498/1498 [==============================] - 5s 3ms/step - loss: 0.3154 - accuracy: 0.8711 - val_loss: 0.3589 - val_accuracy: 0.8554\n",
            "Epoch 20/100\n",
            "1498/1498 [==============================] - 5s 4ms/step - loss: 0.3148 - accuracy: 0.8713 - val_loss: 0.3541 - val_accuracy: 0.8558\n",
            "Epoch 21/100\n",
            "1498/1498 [==============================] - 5s 3ms/step - loss: 0.3134 - accuracy: 0.8702 - val_loss: 0.3641 - val_accuracy: 0.8554\n",
            "Epoch 22/100\n",
            "1498/1498 [==============================] - 5s 4ms/step - loss: 0.3136 - accuracy: 0.8699 - val_loss: 0.3577 - val_accuracy: 0.8514\n",
            "Epoch 23/100\n",
            "1498/1498 [==============================] - 5s 3ms/step - loss: 0.3123 - accuracy: 0.8709 - val_loss: 0.3646 - val_accuracy: 0.8546\n",
            "Epoch 24/100\n",
            "1498/1498 [==============================] - 5s 3ms/step - loss: 0.3119 - accuracy: 0.8706 - val_loss: 0.3664 - val_accuracy: 0.8494\n",
            "Epoch 25/100\n",
            "1498/1498 [==============================] - 5s 4ms/step - loss: 0.3114 - accuracy: 0.8756 - val_loss: 0.3658 - val_accuracy: 0.8514\n",
            "Epoch 26/100\n",
            "1498/1498 [==============================] - 5s 3ms/step - loss: 0.3110 - accuracy: 0.8726 - val_loss: 0.3584 - val_accuracy: 0.8534\n",
            "Epoch 27/100\n",
            "1498/1498 [==============================] - 5s 4ms/step - loss: 0.3099 - accuracy: 0.8734 - val_loss: 0.3644 - val_accuracy: 0.8498\n",
            "Epoch 28/100\n",
            "1498/1498 [==============================] - 5s 4ms/step - loss: 0.3099 - accuracy: 0.8713 - val_loss: 0.3689 - val_accuracy: 0.8490\n",
            "Epoch 29/100\n",
            "1498/1498 [==============================] - 5s 3ms/step - loss: 0.3081 - accuracy: 0.8749 - val_loss: 0.3692 - val_accuracy: 0.8514\n",
            "Epoch 30/100\n",
            "1498/1498 [==============================] - 5s 4ms/step - loss: 0.3082 - accuracy: 0.8721 - val_loss: 0.3666 - val_accuracy: 0.8514\n",
            "Epoch 31/100\n",
            "1498/1498 [==============================] - 5s 3ms/step - loss: 0.3075 - accuracy: 0.8745 - val_loss: 0.3695 - val_accuracy: 0.8534\n",
            "Epoch 32/100\n",
            "1498/1498 [==============================] - 5s 3ms/step - loss: 0.3072 - accuracy: 0.8727 - val_loss: 0.3659 - val_accuracy: 0.8502\n",
            "Epoch 33/100\n",
            "1498/1498 [==============================] - 5s 3ms/step - loss: 0.3061 - accuracy: 0.8729 - val_loss: 0.3686 - val_accuracy: 0.8546\n",
            "Epoch 34/100\n",
            "1498/1498 [==============================] - 5s 3ms/step - loss: 0.3055 - accuracy: 0.8738 - val_loss: 0.3643 - val_accuracy: 0.8502\n",
            "Epoch 35/100\n",
            "1498/1498 [==============================] - 5s 4ms/step - loss: 0.3051 - accuracy: 0.8733 - val_loss: 0.3684 - val_accuracy: 0.8514\n",
            "Epoch 36/100\n",
            "1498/1498 [==============================] - 5s 3ms/step - loss: 0.3034 - accuracy: 0.8746 - val_loss: 0.3641 - val_accuracy: 0.8582\n",
            "Epoch 37/100\n",
            "1498/1498 [==============================] - 5s 3ms/step - loss: 0.3028 - accuracy: 0.8743 - val_loss: 0.3653 - val_accuracy: 0.8494\n",
            "Epoch 38/100\n",
            "1498/1498 [==============================] - 5s 3ms/step - loss: 0.3023 - accuracy: 0.8752 - val_loss: 0.3690 - val_accuracy: 0.8546\n",
            "Epoch 39/100\n",
            "1498/1498 [==============================] - 5s 3ms/step - loss: 0.3035 - accuracy: 0.8756 - val_loss: 0.3734 - val_accuracy: 0.8558\n",
            "Epoch 40/100\n",
            "1498/1498 [==============================] - 5s 3ms/step - loss: 0.3011 - accuracy: 0.8770 - val_loss: 0.3723 - val_accuracy: 0.8534\n",
            "Epoch 41/100\n",
            "1498/1498 [==============================] - 5s 4ms/step - loss: 0.3009 - accuracy: 0.8776 - val_loss: 0.3761 - val_accuracy: 0.8522\n",
            "Epoch 42/100\n",
            "1498/1498 [==============================] - 5s 3ms/step - loss: 0.3003 - accuracy: 0.8780 - val_loss: 0.3734 - val_accuracy: 0.8514\n",
            "Epoch 43/100\n",
            "1498/1498 [==============================] - 5s 4ms/step - loss: 0.3003 - accuracy: 0.8757 - val_loss: 0.3759 - val_accuracy: 0.8470\n",
            "Epoch 44/100\n",
            "1498/1498 [==============================] - 5s 3ms/step - loss: 0.2979 - accuracy: 0.8778 - val_loss: 0.3707 - val_accuracy: 0.8522\n",
            "Epoch 45/100\n",
            "1498/1498 [==============================] - 5s 4ms/step - loss: 0.2997 - accuracy: 0.8782 - val_loss: 0.3762 - val_accuracy: 0.8510\n",
            "Epoch 46/100\n",
            "1498/1498 [==============================] - 6s 4ms/step - loss: 0.2976 - accuracy: 0.8782 - val_loss: 0.3731 - val_accuracy: 0.8534\n",
            "Epoch 47/100\n",
            "1498/1498 [==============================] - 5s 3ms/step - loss: 0.2981 - accuracy: 0.8780 - val_loss: 0.3769 - val_accuracy: 0.8506\n",
            "Epoch 48/100\n",
            "1498/1498 [==============================] - 5s 3ms/step - loss: 0.2958 - accuracy: 0.8758 - val_loss: 0.3701 - val_accuracy: 0.8522\n",
            "Epoch 49/100\n",
            "1498/1498 [==============================] - 5s 4ms/step - loss: 0.2967 - accuracy: 0.8792 - val_loss: 0.3745 - val_accuracy: 0.8510\n",
            "Epoch 50/100\n",
            "1498/1498 [==============================] - 5s 4ms/step - loss: 0.2957 - accuracy: 0.8804 - val_loss: 0.3750 - val_accuracy: 0.8538\n",
            "Epoch 51/100\n",
            "1498/1498 [==============================] - 5s 3ms/step - loss: 0.2946 - accuracy: 0.8808 - val_loss: 0.3768 - val_accuracy: 0.8506\n",
            "Epoch 52/100\n",
            "1498/1498 [==============================] - 5s 4ms/step - loss: 0.2948 - accuracy: 0.8789 - val_loss: 0.3772 - val_accuracy: 0.8522\n",
            "Epoch 53/100\n",
            "1498/1498 [==============================] - 5s 3ms/step - loss: 0.2935 - accuracy: 0.8796 - val_loss: 0.3759 - val_accuracy: 0.8510\n",
            "Epoch 54/100\n",
            "1498/1498 [==============================] - 5s 4ms/step - loss: 0.2941 - accuracy: 0.8792 - val_loss: 0.3777 - val_accuracy: 0.8542\n",
            "Epoch 55/100\n",
            "1498/1498 [==============================] - 5s 3ms/step - loss: 0.2944 - accuracy: 0.8765 - val_loss: 0.3765 - val_accuracy: 0.8518\n",
            "Epoch 56/100\n",
            "1498/1498 [==============================] - 5s 4ms/step - loss: 0.2920 - accuracy: 0.8806 - val_loss: 0.3793 - val_accuracy: 0.8510\n",
            "Epoch 57/100\n",
            "1498/1498 [==============================] - 5s 3ms/step - loss: 0.2921 - accuracy: 0.8804 - val_loss: 0.3843 - val_accuracy: 0.8546\n",
            "Epoch 58/100\n",
            "1498/1498 [==============================] - 5s 3ms/step - loss: 0.2936 - accuracy: 0.8800 - val_loss: 0.3861 - val_accuracy: 0.8482\n",
            "Epoch 59/100\n",
            "1498/1498 [==============================] - 5s 3ms/step - loss: 0.2924 - accuracy: 0.8826 - val_loss: 0.3778 - val_accuracy: 0.8514\n",
            "Epoch 60/100\n",
            "1498/1498 [==============================] - 5s 3ms/step - loss: 0.2919 - accuracy: 0.8796 - val_loss: 0.3758 - val_accuracy: 0.8470\n",
            "Epoch 61/100\n",
            "1498/1498 [==============================] - 5s 4ms/step - loss: 0.2904 - accuracy: 0.8813 - val_loss: 0.3832 - val_accuracy: 0.8482\n",
            "Epoch 62/100\n",
            "1498/1498 [==============================] - 5s 4ms/step - loss: 0.2896 - accuracy: 0.8836 - val_loss: 0.3835 - val_accuracy: 0.8522\n",
            "Epoch 63/100\n",
            "1498/1498 [==============================] - 5s 4ms/step - loss: 0.2910 - accuracy: 0.8808 - val_loss: 0.3886 - val_accuracy: 0.8510\n",
            "Epoch 64/100\n",
            "1498/1498 [==============================] - 5s 3ms/step - loss: 0.2896 - accuracy: 0.8826 - val_loss: 0.3861 - val_accuracy: 0.8506\n",
            "Epoch 65/100\n",
            "1498/1498 [==============================] - 5s 3ms/step - loss: 0.2914 - accuracy: 0.8816 - val_loss: 0.3851 - val_accuracy: 0.8498\n",
            "Epoch 66/100\n",
            "1498/1498 [==============================] - 5s 3ms/step - loss: 0.2899 - accuracy: 0.8813 - val_loss: 0.3882 - val_accuracy: 0.8506\n",
            "Epoch 67/100\n",
            "1498/1498 [==============================] - 5s 3ms/step - loss: 0.2896 - accuracy: 0.8816 - val_loss: 0.3882 - val_accuracy: 0.8502\n",
            "Epoch 68/100\n",
            "1498/1498 [==============================] - 5s 4ms/step - loss: 0.2893 - accuracy: 0.8822 - val_loss: 0.3908 - val_accuracy: 0.8486\n",
            "Epoch 69/100\n",
            "1498/1498 [==============================] - 5s 4ms/step - loss: 0.2880 - accuracy: 0.8826 - val_loss: 0.3968 - val_accuracy: 0.8466\n",
            "Epoch 70/100\n",
            "1498/1498 [==============================] - 5s 3ms/step - loss: 0.2887 - accuracy: 0.8817 - val_loss: 0.3905 - val_accuracy: 0.8466\n",
            "Epoch 71/100\n",
            "1498/1498 [==============================] - 5s 4ms/step - loss: 0.2874 - accuracy: 0.8836 - val_loss: 0.4049 - val_accuracy: 0.8422\n",
            "Epoch 72/100\n",
            "1498/1498 [==============================] - 5s 4ms/step - loss: 0.2877 - accuracy: 0.8824 - val_loss: 0.3968 - val_accuracy: 0.8494\n",
            "Epoch 73/100\n",
            "1498/1498 [==============================] - 5s 4ms/step - loss: 0.2876 - accuracy: 0.8818 - val_loss: 0.3996 - val_accuracy: 0.8478\n",
            "Epoch 74/100\n",
            "1498/1498 [==============================] - 5s 3ms/step - loss: 0.2862 - accuracy: 0.8821 - val_loss: 0.4045 - val_accuracy: 0.8462\n",
            "Epoch 75/100\n",
            "1498/1498 [==============================] - 5s 3ms/step - loss: 0.2865 - accuracy: 0.8814 - val_loss: 0.3950 - val_accuracy: 0.8490\n",
            "Epoch 76/100\n",
            "1498/1498 [==============================] - 5s 3ms/step - loss: 0.2867 - accuracy: 0.8825 - val_loss: 0.3966 - val_accuracy: 0.8514\n",
            "Epoch 77/100\n",
            "1498/1498 [==============================] - 5s 4ms/step - loss: 0.2858 - accuracy: 0.8826 - val_loss: 0.3950 - val_accuracy: 0.8466\n",
            "Epoch 78/100\n",
            "1498/1498 [==============================] - 5s 3ms/step - loss: 0.2864 - accuracy: 0.8817 - val_loss: 0.3953 - val_accuracy: 0.8506\n",
            "Epoch 79/100\n",
            "1498/1498 [==============================] - 5s 3ms/step - loss: 0.2848 - accuracy: 0.8844 - val_loss: 0.3963 - val_accuracy: 0.8458\n",
            "Epoch 80/100\n",
            "1498/1498 [==============================] - 5s 3ms/step - loss: 0.2855 - accuracy: 0.8841 - val_loss: 0.4053 - val_accuracy: 0.8446\n",
            "Epoch 81/100\n",
            "1498/1498 [==============================] - 5s 4ms/step - loss: 0.2846 - accuracy: 0.8829 - val_loss: 0.4035 - val_accuracy: 0.8482\n",
            "Epoch 82/100\n",
            "1498/1498 [==============================] - 6s 4ms/step - loss: 0.2845 - accuracy: 0.8853 - val_loss: 0.3958 - val_accuracy: 0.8522\n",
            "Epoch 83/100\n",
            "1498/1498 [==============================] - 5s 3ms/step - loss: 0.2857 - accuracy: 0.8793 - val_loss: 0.4070 - val_accuracy: 0.8478\n",
            "Epoch 84/100\n",
            "1498/1498 [==============================] - 5s 3ms/step - loss: 0.2837 - accuracy: 0.8854 - val_loss: 0.4098 - val_accuracy: 0.8462\n",
            "Epoch 85/100\n",
            "1498/1498 [==============================] - 5s 3ms/step - loss: 0.2852 - accuracy: 0.8853 - val_loss: 0.4017 - val_accuracy: 0.8458\n",
            "Epoch 86/100\n",
            "1498/1498 [==============================] - 5s 4ms/step - loss: 0.2836 - accuracy: 0.8834 - val_loss: 0.4084 - val_accuracy: 0.8506\n",
            "Epoch 87/100\n",
            "1498/1498 [==============================] - 5s 4ms/step - loss: 0.2826 - accuracy: 0.8848 - val_loss: 0.4219 - val_accuracy: 0.8430\n",
            "Epoch 88/100\n",
            "1498/1498 [==============================] - 5s 3ms/step - loss: 0.2828 - accuracy: 0.8833 - val_loss: 0.4005 - val_accuracy: 0.8442\n",
            "Epoch 89/100\n",
            "1498/1498 [==============================] - 5s 3ms/step - loss: 0.2811 - accuracy: 0.8841 - val_loss: 0.4083 - val_accuracy: 0.8462\n",
            "Epoch 90/100\n",
            "1498/1498 [==============================] - 5s 3ms/step - loss: 0.2812 - accuracy: 0.8830 - val_loss: 0.3999 - val_accuracy: 0.8490\n",
            "Epoch 91/100\n",
            "1498/1498 [==============================] - 5s 3ms/step - loss: 0.2833 - accuracy: 0.8853 - val_loss: 0.4048 - val_accuracy: 0.8490\n",
            "Epoch 92/100\n",
            "1498/1498 [==============================] - 5s 3ms/step - loss: 0.2825 - accuracy: 0.8844 - val_loss: 0.4087 - val_accuracy: 0.8482\n",
            "Epoch 93/100\n",
            "1498/1498 [==============================] - 5s 3ms/step - loss: 0.2817 - accuracy: 0.8860 - val_loss: 0.4135 - val_accuracy: 0.8454\n",
            "Epoch 94/100\n",
            "1498/1498 [==============================] - 5s 4ms/step - loss: 0.2795 - accuracy: 0.8825 - val_loss: 0.4135 - val_accuracy: 0.8462\n",
            "Epoch 95/100\n",
            "1498/1498 [==============================] - 5s 4ms/step - loss: 0.2816 - accuracy: 0.8844 - val_loss: 0.4218 - val_accuracy: 0.8402\n",
            "Epoch 96/100\n",
            "1498/1498 [==============================] - 5s 4ms/step - loss: 0.2807 - accuracy: 0.8845 - val_loss: 0.4052 - val_accuracy: 0.8478\n",
            "Epoch 97/100\n",
            "1498/1498 [==============================] - 5s 4ms/step - loss: 0.2817 - accuracy: 0.8829 - val_loss: 0.4051 - val_accuracy: 0.8538\n",
            "Epoch 98/100\n",
            "1498/1498 [==============================] - 5s 4ms/step - loss: 0.2800 - accuracy: 0.8869 - val_loss: 0.4058 - val_accuracy: 0.8434\n",
            "Epoch 99/100\n",
            "1498/1498 [==============================] - 5s 3ms/step - loss: 0.2791 - accuracy: 0.8861 - val_loss: 0.4047 - val_accuracy: 0.8466\n",
            "Epoch 100/100\n",
            "1498/1498 [==============================] - 5s 3ms/step - loss: 0.2788 - accuracy: 0.8852 - val_loss: 0.4182 - val_accuracy: 0.8470\n"
          ]
        }
      ]
    },
    {
      "cell_type": "code",
      "source": [
        "import matplotlib.pyplot as plt\n",
        "plt.plot(history.history['loss'])\n",
        "plt.plot(history.history['val_loss'], '')\n",
        "plt.xlabel(\"Épocas\")\n",
        "plt.ylabel('Erro/loss')\n",
        "plt.title('Função erro/loss')\n",
        "plt.legend(['loss', 'val_loss'])\n",
        "plt.show()"
      ],
      "metadata": {
        "colab": {
          "base_uri": "https://localhost:8080/",
          "height": 297
        },
        "id": "J4EC4RUcZt-u",
        "outputId": "2f58227a-5234-43bb-88e4-6d6e229b9ec9"
      },
      "execution_count": 16,
      "outputs": [
        {
          "output_type": "display_data",
          "data": {
            "text/plain": [
              "<Figure size 432x288 with 1 Axes>"
            ],
            "image/png": "[encoded data removed]"
          },
          "metadata": {
            "needs_background": "light"
          }
        }
      ]
    },
    {
      "cell_type": "code",
      "source": [
        "plt.plot(history.history['accuracy'])\n",
        "plt.plot(history.history['val_accuracy'], '')\n",
        "plt.xlabel(\"Épocas\")\n",
        "plt.ylabel('Acurácia')\n",
        "plt.title('Acurácia')\n",
        "plt.legend(['acurácia', 'val_acurácia'])\n",
        "plt.show()"
      ],
      "metadata": {
        "colab": {
          "base_uri": "https://localhost:8080/",
          "height": 297
        },
        "id": "ewqmjmHOZ6Ue",
        "outputId": "1e81bbec-63a9-410b-c1a3-f4d08407c687"
      },
      "execution_count": 17,
      "outputs": [
        {
          "output_type": "display_data",
          "data": {
            "text/plain": [
              "<Figure size 432x288 with 1 Axes>"
            ],
            "image/png": "[encoded data removed]"
          },
          "metadata": {
            "needs_background": "light"
          }
        }
      ]
    },
    {
      "cell_type": "code",
      "source": [
        "y_pred = model.predict(x_test)\n",
        "y_pred = (y_pred > 0.5)"
      ],
      "metadata": {
        "id": "80v_Ry4YZ_Pm"
      },
      "execution_count": 18,
      "outputs": []
    },
    {
      "cell_type": "code",
      "source": [
        "from sklearn.metrics import confusion_matrix\n",
        "cm = confusion_matrix(y_test, y_pred)\n",
        "print(cm)"
      ],
      "metadata": {
        "colab": {
          "base_uri": "https://localhost:8080/"
        },
        "id": "QJ3kdGkNagdG",
        "outputId": "4bfe50b0-21a5-4b42-c3c4-e0c9c0bcc8b3"
      },
      "execution_count": 19,
      "outputs": [
        {
          "output_type": "stream",
          "name": "stdout",
          "text": [
            "[[1845  143]\n",
            " [ 239  270]]\n"
          ]
        }
      ]
    },
    {
      "cell_type": "code",
      "source": [
        "import seaborn as sns\n",
        "sns.heatmap(cm, annot=True, fmt=\"d\")"
      ],
      "metadata": {
        "colab": {
          "base_uri": "https://localhost:8080/",
          "height": 282
        },
        "id": "8DTbq864bI89",
        "outputId": "90cbe816-fd22-4425-dae8-a739f4a375da"
      },
      "execution_count": 20,
      "outputs": [
        {
          "output_type": "execute_result",
          "data": {
            "text/plain": [
              "<matplotlib.axes._subplots.AxesSubplot at 0x7fb750336590>"
            ]
          },
          "metadata": {},
          "execution_count": 20
        },
        {
          "output_type": "display_data",
          "data": {
            "text/plain": [
              "<Figure size 432x288 with 2 Axes>"
            ],
            "image/png": "[encoded data removed]"
          },
          "metadata": {
            "needs_background": "light"
          }
        }
      ]
    }
  ]
}