{
  "nbformat": 4,
  "nbformat_minor": 0,
  "metadata": {
    "colab": {
      "name": "Analise tabela Salario por hora",
      "provenance": [],
      "collapsed_sections": [],
      "include_colab_link": true
    },
    "kernelspec": {
      "name": "python3",
      "display_name": "Python 3"
    }
  },
  "cells": [
    {
      "cell_type": "markdown",
      "metadata": {
        "id": "view-in-github",
        "colab_type": "text"
      },
      "source": [
        "<a href=\"https://colab.research.google.com/github/luizfsjunior/data-science/blob/main/Analise_tabela_Salario_por_hora.ipynb\" target=\"_parent\"><img src=\"https://colab.research.google.com/assets/colab-badge.svg\" alt=\"Open In Colab\"/></a>"
      ]
    },
    {
      "cell_type": "markdown",
      "metadata": {
        "id": "jZM3XREkvOba"
      },
      "source": [
        "---\n",
        "\n",
        "---\n",
        "## Tarefa 3.3 - Análise Exploratória e Estatística Descritiva\n",
        "\n",
        "Esta tarefa consiste em praticar a manipulação de um *dataframe* por meio da biblioteca Pandas e explorar por meio de métodos de descrição paramétrica (medidas estatísticas) o conjunto de dados *Hourly Wages*.\n",
        "\n",
        "Você deve implementar em Python os itens solicitados abaixo utilizando a biblioteca Pandas e outras que forem necessárias. \n",
        "\n",
        "---\n",
        "\n",
        "\n",
        "\n",
        "---\n",
        "\n"
      ]
    },
    {
      "cell_type": "markdown",
      "metadata": {
        "id": "IPxitpXn5GFN"
      },
      "source": [
        "## Conjunto de dados *Hourly Wages*\n",
        "\n",
        "Esse conjunto de dados é popularmente empregado para a tarefa de regressão em Machine Learning. Constrói-se e ajusta-se um modelo de aprendizado de máquina para predizer/estimar o salário de um funcionário em função de suas características (anos de estudos, experiência de trabalho, filiação sindical, região, ocupação e sexo). \n",
        "\n",
        "- Número de Instâncias: 534\n",
        "\n",
        "- Número de Atributos: 9 atributos numéricos e o target (*wage_per_hour*)\n",
        "\n",
        "- Informações dos Atributos:\n",
        "  - union (filiação sindical)\n",
        "  - education_yrs (anos de instrução)\n",
        "  - experience_yrs (anos de experiência)\n",
        "  - age (idade)\n",
        "  - female (sexo)\n",
        "  - marr (estado civil - casado)\n",
        "  - south (região)\n",
        "  - manufacturing (indústria)\n",
        "  - construction (construção)\n",
        "\n",
        "  \n",
        "- Variável de destino (target): wage_per_hour \n",
        "\n"
      ]
    },
    {
      "cell_type": "markdown",
      "source": [
        "## Implementar os itens abaixo:"
      ],
      "metadata": {
        "id": "4B33fWHi7rrc"
      }
    },
    {
      "cell_type": "markdown",
      "metadata": {
        "id": "nufGipDieZbc"
      },
      "source": [
        "#### a-) Clonar o repositório de dados da disciplina (DSBD) hospedado no GitHUb.\n"
      ]
    },
    {
      "cell_type": "code",
      "metadata": {
        "id": "ZaJpoCYtejnr",
        "outputId": "17ddc135-0819-4138-e654-b4d7b8f1f036",
        "colab": {
          "base_uri": "https://localhost:8080/"
        }
      },
      "source": [
        "!git clone \"https://github.com/malegopc/DSBD\""
      ],
      "execution_count": null,
      "outputs": [
        {
          "output_type": "stream",
          "name": "stdout",
          "text": [
            "fatal: destination path 'DSBD' already exists and is not an empty directory.\n"
          ]
        }
      ]
    },
    {
      "cell_type": "markdown",
      "metadata": {
        "id": "4G6UZT6QC_us"
      },
      "source": [
        "#### b-) Ler o dataset \"*Hourly_wages/hourly_wages.csv*\" como dataframe utilizando a biblioteca Pandas e mostrar as 5 primeiras e as 5 últimas linhas do dataset. "
      ]
    },
    {
      "cell_type": "code",
      "metadata": {
        "id": "jGSqUwVE7QvS",
        "outputId": "b1a64210-7163-4a41-91d2-1299acfbf0c0",
        "colab": {
          "base_uri": "https://localhost:8080/",
          "height": 424
        }
      },
      "source": [
        "import pandas as pd\n",
        "import numpy as np\n",
        "import statistics\n",
        "# lê arquivo de dados, atribue NaN para dados faltantes\n",
        "salarioHora = pd.read_csv('DSBD/Datasets/Hourly_wages/hourly_wages.csv', na_values=['?'])\n",
        "salarioHora"
      ],
      "execution_count": null,
      "outputs": [
        {
          "output_type": "execute_result",
          "data": {
            "text/plain": [
              "     wage_per_hour  union  education_yrs  experience_yrs  age  female  marr  \\\n",
              "0             5.10      0              8              21   35       1     1   \n",
              "1             4.95      0              9              42   57       1     1   \n",
              "2             6.67      0             12               1   19       0     0   \n",
              "3             4.00      0             12               4   22       0     0   \n",
              "4             7.50      0             12              17   35       0     1   \n",
              "..             ...    ...            ...             ...  ...     ...   ...   \n",
              "529          11.36      0             18               5   29       0     0   \n",
              "530           6.10      0             12              33   51       1     1   \n",
              "531          23.25      1             17              25   48       1     1   \n",
              "532          19.88      1             12              13   31       0     1   \n",
              "533          15.38      0             16              33   55       0     1   \n",
              "\n",
              "     south  manufacturing  construction  \n",
              "0        0              1             0  \n",
              "1        0              1             0  \n",
              "2        0              1             0  \n",
              "3        0              0             0  \n",
              "4        0              0             0  \n",
              "..     ...            ...           ...  \n",
              "529      0              0             0  \n",
              "530      0              0             0  \n",
              "531      0              0             0  \n",
              "532      1              0             0  \n",
              "533      0              1             0  \n",
              "\n",
              "[534 rows x 10 columns]"
            ],
            "text/html": [
              "\n",
              "  <div id=\"df-a101554c-cc99-4d0b-a183-a87cd0dec388\">\n",
              "    <div class=\"colab-df-container\">\n",
              "      <div>\n",
              "<style scoped>\n",
              "    .dataframe tbody tr th:only-of-type {\n",
              "        vertical-align: middle;\n",
              "    }\n",
              "\n",
              "    .dataframe tbody tr th {\n",
              "        vertical-align: top;\n",
              "    }\n",
              "\n",
              "    .dataframe thead th {\n",
              "        text-align: right;\n",
              "    }\n",
              "</style>\n",
              "<table border=\"1\" class=\"dataframe\">\n",
              "  <thead>\n",
              "    <tr style=\"text-align: right;\">\n",
              "      <th></th>\n",
              "      <th>wage_per_hour</th>\n",
              "      <th>union</th>\n",
              "      <th>education_yrs</th>\n",
              "      <th>experience_yrs</th>\n",
              "      <th>age</th>\n",
              "      <th>female</th>\n",
              "      <th>marr</th>\n",
              "      <th>south</th>\n",
              "      <th>manufacturing</th>\n",
              "      <th>construction</th>\n",
              "    </tr>\n",
              "  </thead>\n",
              "  <tbody>\n",
              "    <tr>\n",
              "      <th>0</th>\n",
              "      <td>5.10</td>\n",
              "      <td>0</td>\n",
              "      <td>8</td>\n",
              "      <td>21</td>\n",
              "      <td>35</td>\n",
              "      <td>1</td>\n",
              "      <td>1</td>\n",
              "      <td>0</td>\n",
              "      <td>1</td>\n",
              "      <td>0</td>\n",
              "    </tr>\n",
              "    <tr>\n",
              "      <th>1</th>\n",
              "      <td>4.95</td>\n",
              "      <td>0</td>\n",
              "      <td>9</td>\n",
              "      <td>42</td>\n",
              "      <td>57</td>\n",
              "      <td>1</td>\n",
              "      <td>1</td>\n",
              "      <td>0</td>\n",
              "      <td>1</td>\n",
              "      <td>0</td>\n",
              "    </tr>\n",
              "    <tr>\n",
              "      <th>2</th>\n",
              "      <td>6.67</td>\n",
              "      <td>0</td>\n",
              "      <td>12</td>\n",
              "      <td>1</td>\n",
              "      <td>19</td>\n",
              "      <td>0</td>\n",
              "      <td>0</td>\n",
              "      <td>0</td>\n",
              "      <td>1</td>\n",
              "      <td>0</td>\n",
              "    </tr>\n",
              "    <tr>\n",
              "      <th>3</th>\n",
              "      <td>4.00</td>\n",
              "      <td>0</td>\n",
              "      <td>12</td>\n",
              "      <td>4</td>\n",
              "      <td>22</td>\n",
              "      <td>0</td>\n",
              "      <td>0</td>\n",
              "      <td>0</td>\n",
              "      <td>0</td>\n",
              "      <td>0</td>\n",
              "    </tr>\n",
              "    <tr>\n",
              "      <th>4</th>\n",
              "      <td>7.50</td>\n",
              "      <td>0</td>\n",
              "      <td>12</td>\n",
              "      <td>17</td>\n",
              "      <td>35</td>\n",
              "      <td>0</td>\n",
              "      <td>1</td>\n",
              "      <td>0</td>\n",
              "      <td>0</td>\n",
              "      <td>0</td>\n",
              "    </tr>\n",
              "    <tr>\n",
              "      <th>...</th>\n",
              "      <td>...</td>\n",
              "      <td>...</td>\n",
              "      <td>...</td>\n",
              "      <td>...</td>\n",
              "      <td>...</td>\n",
              "      <td>...</td>\n",
              "      <td>...</td>\n",
              "      <td>...</td>\n",
              "      <td>...</td>\n",
              "      <td>...</td>\n",
              "    </tr>\n",
              "    <tr>\n",
              "      <th>529</th>\n",
              "      <td>11.36</td>\n",
              "      <td>0</td>\n",
              "      <td>18</td>\n",
              "      <td>5</td>\n",
              "      <td>29</td>\n",
              "      <td>0</td>\n",
              "      <td>0</td>\n",
              "      <td>0</td>\n",
              "      <td>0</td>\n",
              "      <td>0</td>\n",
              "    </tr>\n",
              "    <tr>\n",
              "      <th>530</th>\n",
              "      <td>6.10</td>\n",
              "      <td>0</td>\n",
              "      <td>12</td>\n",
              "      <td>33</td>\n",
              "      <td>51</td>\n",
              "      <td>1</td>\n",
              "      <td>1</td>\n",
              "      <td>0</td>\n",
              "      <td>0</td>\n",
              "      <td>0</td>\n",
              "    </tr>\n",
              "    <tr>\n",
              "      <th>531</th>\n",
              "      <td>23.25</td>\n",
              "      <td>1</td>\n",
              "      <td>17</td>\n",
              "      <td>25</td>\n",
              "      <td>48</td>\n",
              "      <td>1</td>\n",
              "      <td>1</td>\n",
              "      <td>0</td>\n",
              "      <td>0</td>\n",
              "      <td>0</td>\n",
              "    </tr>\n",
              "    <tr>\n",
              "      <th>532</th>\n",
              "      <td>19.88</td>\n",
              "      <td>1</td>\n",
              "      <td>12</td>\n",
              "      <td>13</td>\n",
              "      <td>31</td>\n",
              "      <td>0</td>\n",
              "      <td>1</td>\n",
              "      <td>1</td>\n",
              "      <td>0</td>\n",
              "      <td>0</td>\n",
              "    </tr>\n",
              "    <tr>\n",
              "      <th>533</th>\n",
              "      <td>15.38</td>\n",
              "      <td>0</td>\n",
              "      <td>16</td>\n",
              "      <td>33</td>\n",
              "      <td>55</td>\n",
              "      <td>0</td>\n",
              "      <td>1</td>\n",
              "      <td>0</td>\n",
              "      <td>1</td>\n",
              "      <td>0</td>\n",
              "    </tr>\n",
              "  </tbody>\n",
              "</table>\n",
              "<p>534 rows × 10 columns</p>\n",
              "</div>\n",
              "      <button class=\"colab-df-convert\" onclick=\"convertToInteractive('df-a101554c-cc99-4d0b-a183-a87cd0dec388')\"\n",
              "              title=\"Convert this dataframe to an interactive table.\"\n",
              "              style=\"display:none;\">\n",
              "        \n",
              "  <svg xmlns=\"http://www.w3.org/2000/svg\" height=\"24px\"viewBox=\"0 0 24 24\"\n",
              "       width=\"24px\">\n",
              "    <path d=\"M0 0h24v24H0V0z\" fill=\"none\"/>\n",
              "    <path d=\"M18.56 5.44l.94 2.06.94-2.06 2.06-.94-2.06-.94-.94-2.06-.94 2.06-2.06.94zm-11 1L8.5 8.5l.94-2.06 2.06-.94-2.06-.94L8.5 2.5l-.94 2.06-2.06.94zm10 10l.94 2.06.94-2.06 2.06-.94-2.06-.94-.94-2.06-.94 2.06-2.06.94z\"/><path d=\"M17.41 7.96l-1.37-1.37c-.4-.4-.92-.59-1.43-.59-.52 0-1.04.2-1.43.59L10.3 9.45l-7.72 7.72c-.78.78-.78 2.05 0 2.83L4 21.41c.39.39.9.59 1.41.59.51 0 1.02-.2 1.41-.59l7.78-7.78 2.81-2.81c.8-.78.8-2.07 0-2.86zM5.41 20L4 18.59l7.72-7.72 1.47 1.35L5.41 20z\"/>\n",
              "  </svg>\n",
              "      </button>\n",
              "      \n",
              "  <style>\n",
              "    .colab-df-container {\n",
              "      display:flex;\n",
              "      flex-wrap:wrap;\n",
              "      gap: 12px;\n",
              "    }\n",
              "\n",
              "    .colab-df-convert {\n",
              "      background-color: #E8F0FE;\n",
              "      border: none;\n",
              "      border-radius: 50%;\n",
              "      cursor: pointer;\n",
              "      display: none;\n",
              "      fill: #1967D2;\n",
              "      height: 32px;\n",
              "      padding: 0 0 0 0;\n",
              "      width: 32px;\n",
              "    }\n",
              "\n",
              "    .colab-df-convert:hover {\n",
              "      background-color: #E2EBFA;\n",
              "      box-shadow: 0px 1px 2px rgba(60, 64, 67, 0.3), 0px 1px 3px 1px rgba(60, 64, 67, 0.15);\n",
              "      fill: #174EA6;\n",
              "    }\n",
              "\n",
              "    [theme=dark] .colab-df-convert {\n",
              "      background-color: #3B4455;\n",
              "      fill: #D2E3FC;\n",
              "    }\n",
              "\n",
              "    [theme=dark] .colab-df-convert:hover {\n",
              "      background-color: #434B5C;\n",
              "      box-shadow: 0px 1px 3px 1px rgba(0, 0, 0, 0.15);\n",
              "      filter: drop-shadow(0px 1px 2px rgba(0, 0, 0, 0.3));\n",
              "      fill: #FFFFFF;\n",
              "    }\n",
              "  </style>\n",
              "\n",
              "      <script>\n",
              "        const buttonEl =\n",
              "          document.querySelector('#df-a101554c-cc99-4d0b-a183-a87cd0dec388 button.colab-df-convert');\n",
              "        buttonEl.style.display =\n",
              "          google.colab.kernel.accessAllowed ? 'block' : 'none';\n",
              "\n",
              "        async function convertToInteractive(key) {\n",
              "          const element = document.querySelector('#df-a101554c-cc99-4d0b-a183-a87cd0dec388');\n",
              "          const dataTable =\n",
              "            await google.colab.kernel.invokeFunction('convertToInteractive',\n",
              "                                                     [key], {});\n",
              "          if (!dataTable) return;\n",
              "\n",
              "          const docLinkHtml = 'Like what you see? Visit the ' +\n",
              "            '<a target=\"_blank\" href=https://colab.research.google.com/notebooks/data_table.ipynb>data table notebook</a>'\n",
              "            + ' to learn more about interactive tables.';\n",
              "          element.innerHTML = '';\n",
              "          dataTable['output_type'] = 'display_data';\n",
              "          await google.colab.output.renderOutput(dataTable, element);\n",
              "          const docLink = document.createElement('div');\n",
              "          docLink.innerHTML = docLinkHtml;\n",
              "          element.appendChild(docLink);\n",
              "        }\n",
              "      </script>\n",
              "    </div>\n",
              "  </div>\n",
              "  "
            ]
          },
          "metadata": {},
          "execution_count": 62
        }
      ]
    },
    {
      "cell_type": "markdown",
      "metadata": {
        "id": "8Sao1JGYEP2R"
      },
      "source": [
        "#### c-) Verificar se há dados vazios (null) e imprimir o tipo de cada variável/atributo."
      ]
    },
    {
      "cell_type": "code",
      "metadata": {
        "id": "rRbFDx1iDCLq",
        "outputId": "91b33c37-876f-449d-95e8-783a8e325dbd",
        "colab": {
          "base_uri": "https://localhost:8080/"
        }
      },
      "source": [
        "if salarioHora.isnull().values.any()== True:\n",
        "  print(\"Há dados vazios\")\n",
        "else:\n",
        "  print(\"Não há dados vazios\")\n",
        "\n"
      ],
      "execution_count": null,
      "outputs": [
        {
          "output_type": "stream",
          "name": "stdout",
          "text": [
            "Não há dados vazios\n"
          ]
        }
      ]
    },
    {
      "cell_type": "markdown",
      "metadata": {
        "id": "VccXvtXmOJy7"
      },
      "source": [
        "#### d-) Obter um resumo da estatística descritiva dos dados utilizando um único comando (função)."
      ]
    },
    {
      "cell_type": "code",
      "metadata": {
        "id": "WHpUgIoROTpq",
        "outputId": "17a84247-3adb-4455-e408-81e693ca4de9",
        "colab": {
          "base_uri": "https://localhost:8080/",
          "height": 300
        }
      },
      "source": [
        "salarioHora.describe()"
      ],
      "execution_count": null,
      "outputs": [
        {
          "output_type": "execute_result",
          "data": {
            "text/plain": [
              "       wage_per_hour       union  education_yrs  experience_yrs         age  \\\n",
              "count     534.000000  534.000000     534.000000      534.000000  534.000000   \n",
              "mean        9.024064    0.179775      13.018727       17.822097   36.833333   \n",
              "std         5.139097    0.384360       2.615373       12.379710   11.726573   \n",
              "min         1.000000    0.000000       2.000000        0.000000   18.000000   \n",
              "25%         5.250000    0.000000      12.000000        8.000000   28.000000   \n",
              "50%         7.780000    0.000000      12.000000       15.000000   35.000000   \n",
              "75%        11.250000    0.000000      15.000000       26.000000   44.000000   \n",
              "max        44.500000    1.000000      18.000000       55.000000   64.000000   \n",
              "\n",
              "           female        marr       south  manufacturing  construction  \n",
              "count  534.000000  534.000000  534.000000     534.000000    534.000000  \n",
              "mean     0.458801    0.655431    0.292135       0.185393      0.044944  \n",
              "std      0.498767    0.475673    0.455170       0.388981      0.207375  \n",
              "min      0.000000    0.000000    0.000000       0.000000      0.000000  \n",
              "25%      0.000000    0.000000    0.000000       0.000000      0.000000  \n",
              "50%      0.000000    1.000000    0.000000       0.000000      0.000000  \n",
              "75%      1.000000    1.000000    1.000000       0.000000      0.000000  \n",
              "max      1.000000    1.000000    1.000000       1.000000      1.000000  "
            ],
            "text/html": [
              "\n",
              "  <div id=\"df-fff9e6f7-ceff-4e2d-9630-a4fe406790ae\">\n",
              "    <div class=\"colab-df-container\">\n",
              "      <div>\n",
              "<style scoped>\n",
              "    .dataframe tbody tr th:only-of-type {\n",
              "        vertical-align: middle;\n",
              "    }\n",
              "\n",
              "    .dataframe tbody tr th {\n",
              "        vertical-align: top;\n",
              "    }\n",
              "\n",
              "    .dataframe thead th {\n",
              "        text-align: right;\n",
              "    }\n",
              "</style>\n",
              "<table border=\"1\" class=\"dataframe\">\n",
              "  <thead>\n",
              "    <tr style=\"text-align: right;\">\n",
              "      <th></th>\n",
              "      <th>wage_per_hour</th>\n",
              "      <th>union</th>\n",
              "      <th>education_yrs</th>\n",
              "      <th>experience_yrs</th>\n",
              "      <th>age</th>\n",
              "      <th>female</th>\n",
              "      <th>marr</th>\n",
              "      <th>south</th>\n",
              "      <th>manufacturing</th>\n",
              "      <th>construction</th>\n",
              "    </tr>\n",
              "  </thead>\n",
              "  <tbody>\n",
              "    <tr>\n",
              "      <th>count</th>\n",
              "      <td>534.000000</td>\n",
              "      <td>534.000000</td>\n",
              "      <td>534.000000</td>\n",
              "      <td>534.000000</td>\n",
              "      <td>534.000000</td>\n",
              "      <td>534.000000</td>\n",
              "      <td>534.000000</td>\n",
              "      <td>534.000000</td>\n",
              "      <td>534.000000</td>\n",
              "      <td>534.000000</td>\n",
              "    </tr>\n",
              "    <tr>\n",
              "      <th>mean</th>\n",
              "      <td>9.024064</td>\n",
              "      <td>0.179775</td>\n",
              "      <td>13.018727</td>\n",
              "      <td>17.822097</td>\n",
              "      <td>36.833333</td>\n",
              "      <td>0.458801</td>\n",
              "      <td>0.655431</td>\n",
              "      <td>0.292135</td>\n",
              "      <td>0.185393</td>\n",
              "      <td>0.044944</td>\n",
              "    </tr>\n",
              "    <tr>\n",
              "      <th>std</th>\n",
              "      <td>5.139097</td>\n",
              "      <td>0.384360</td>\n",
              "      <td>2.615373</td>\n",
              "      <td>12.379710</td>\n",
              "      <td>11.726573</td>\n",
              "      <td>0.498767</td>\n",
              "      <td>0.475673</td>\n",
              "      <td>0.455170</td>\n",
              "      <td>0.388981</td>\n",
              "      <td>0.207375</td>\n",
              "    </tr>\n",
              "    <tr>\n",
              "      <th>min</th>\n",
              "      <td>1.000000</td>\n",
              "      <td>0.000000</td>\n",
              "      <td>2.000000</td>\n",
              "      <td>0.000000</td>\n",
              "      <td>18.000000</td>\n",
              "      <td>0.000000</td>\n",
              "      <td>0.000000</td>\n",
              "      <td>0.000000</td>\n",
              "      <td>0.000000</td>\n",
              "      <td>0.000000</td>\n",
              "    </tr>\n",
              "    <tr>\n",
              "      <th>25%</th>\n",
              "      <td>5.250000</td>\n",
              "      <td>0.000000</td>\n",
              "      <td>12.000000</td>\n",
              "      <td>8.000000</td>\n",
              "      <td>28.000000</td>\n",
              "      <td>0.000000</td>\n",
              "      <td>0.000000</td>\n",
              "      <td>0.000000</td>\n",
              "      <td>0.000000</td>\n",
              "      <td>0.000000</td>\n",
              "    </tr>\n",
              "    <tr>\n",
              "      <th>50%</th>\n",
              "      <td>7.780000</td>\n",
              "      <td>0.000000</td>\n",
              "      <td>12.000000</td>\n",
              "      <td>15.000000</td>\n",
              "      <td>35.000000</td>\n",
              "      <td>0.000000</td>\n",
              "      <td>1.000000</td>\n",
              "      <td>0.000000</td>\n",
              "      <td>0.000000</td>\n",
              "      <td>0.000000</td>\n",
              "    </tr>\n",
              "    <tr>\n",
              "      <th>75%</th>\n",
              "      <td>11.250000</td>\n",
              "      <td>0.000000</td>\n",
              "      <td>15.000000</td>\n",
              "      <td>26.000000</td>\n",
              "      <td>44.000000</td>\n",
              "      <td>1.000000</td>\n",
              "      <td>1.000000</td>\n",
              "      <td>1.000000</td>\n",
              "      <td>0.000000</td>\n",
              "      <td>0.000000</td>\n",
              "    </tr>\n",
              "    <tr>\n",
              "      <th>max</th>\n",
              "      <td>44.500000</td>\n",
              "      <td>1.000000</td>\n",
              "      <td>18.000000</td>\n",
              "      <td>55.000000</td>\n",
              "      <td>64.000000</td>\n",
              "      <td>1.000000</td>\n",
              "      <td>1.000000</td>\n",
              "      <td>1.000000</td>\n",
              "      <td>1.000000</td>\n",
              "      <td>1.000000</td>\n",
              "    </tr>\n",
              "  </tbody>\n",
              "</table>\n",
              "</div>\n",
              "      <button class=\"colab-df-convert\" onclick=\"convertToInteractive('df-fff9e6f7-ceff-4e2d-9630-a4fe406790ae')\"\n",
              "              title=\"Convert this dataframe to an interactive table.\"\n",
              "              style=\"display:none;\">\n",
              "        \n",
              "  <svg xmlns=\"http://www.w3.org/2000/svg\" height=\"24px\"viewBox=\"0 0 24 24\"\n",
              "       width=\"24px\">\n",
              "    <path d=\"M0 0h24v24H0V0z\" fill=\"none\"/>\n",
              "    <path d=\"M18.56 5.44l.94 2.06.94-2.06 2.06-.94-2.06-.94-.94-2.06-.94 2.06-2.06.94zm-11 1L8.5 8.5l.94-2.06 2.06-.94-2.06-.94L8.5 2.5l-.94 2.06-2.06.94zm10 10l.94 2.06.94-2.06 2.06-.94-2.06-.94-.94-2.06-.94 2.06-2.06.94z\"/><path d=\"M17.41 7.96l-1.37-1.37c-.4-.4-.92-.59-1.43-.59-.52 0-1.04.2-1.43.59L10.3 9.45l-7.72 7.72c-.78.78-.78 2.05 0 2.83L4 21.41c.39.39.9.59 1.41.59.51 0 1.02-.2 1.41-.59l7.78-7.78 2.81-2.81c.8-.78.8-2.07 0-2.86zM5.41 20L4 18.59l7.72-7.72 1.47 1.35L5.41 20z\"/>\n",
              "  </svg>\n",
              "      </button>\n",
              "      \n",
              "  <style>\n",
              "    .colab-df-container {\n",
              "      display:flex;\n",
              "      flex-wrap:wrap;\n",
              "      gap: 12px;\n",
              "    }\n",
              "\n",
              "    .colab-df-convert {\n",
              "      background-color: #E8F0FE;\n",
              "      border: none;\n",
              "      border-radius: 50%;\n",
              "      cursor: pointer;\n",
              "      display: none;\n",
              "      fill: #1967D2;\n",
              "      height: 32px;\n",
              "      padding: 0 0 0 0;\n",
              "      width: 32px;\n",
              "    }\n",
              "\n",
              "    .colab-df-convert:hover {\n",
              "      background-color: #E2EBFA;\n",
              "      box-shadow: 0px 1px 2px rgba(60, 64, 67, 0.3), 0px 1px 3px 1px rgba(60, 64, 67, 0.15);\n",
              "      fill: #174EA6;\n",
              "    }\n",
              "\n",
              "    [theme=dark] .colab-df-convert {\n",
              "      background-color: #3B4455;\n",
              "      fill: #D2E3FC;\n",
              "    }\n",
              "\n",
              "    [theme=dark] .colab-df-convert:hover {\n",
              "      background-color: #434B5C;\n",
              "      box-shadow: 0px 1px 3px 1px rgba(0, 0, 0, 0.15);\n",
              "      filter: drop-shadow(0px 1px 2px rgba(0, 0, 0, 0.3));\n",
              "      fill: #FFFFFF;\n",
              "    }\n",
              "  </style>\n",
              "\n",
              "      <script>\n",
              "        const buttonEl =\n",
              "          document.querySelector('#df-fff9e6f7-ceff-4e2d-9630-a4fe406790ae button.colab-df-convert');\n",
              "        buttonEl.style.display =\n",
              "          google.colab.kernel.accessAllowed ? 'block' : 'none';\n",
              "\n",
              "        async function convertToInteractive(key) {\n",
              "          const element = document.querySelector('#df-fff9e6f7-ceff-4e2d-9630-a4fe406790ae');\n",
              "          const dataTable =\n",
              "            await google.colab.kernel.invokeFunction('convertToInteractive',\n",
              "                                                     [key], {});\n",
              "          if (!dataTable) return;\n",
              "\n",
              "          const docLinkHtml = 'Like what you see? Visit the ' +\n",
              "            '<a target=\"_blank\" href=https://colab.research.google.com/notebooks/data_table.ipynb>data table notebook</a>'\n",
              "            + ' to learn more about interactive tables.';\n",
              "          element.innerHTML = '';\n",
              "          dataTable['output_type'] = 'display_data';\n",
              "          await google.colab.output.renderOutput(dataTable, element);\n",
              "          const docLink = document.createElement('div');\n",
              "          docLink.innerHTML = docLinkHtml;\n",
              "          element.appendChild(docLink);\n",
              "        }\n",
              "      </script>\n",
              "    </div>\n",
              "  </div>\n",
              "  "
            ]
          },
          "metadata": {},
          "execution_count": 64
        }
      ]
    },
    {
      "cell_type": "markdown",
      "source": [
        "#### e-) Calcule a proporção de funcionários de sexo masculino e feminino."
      ],
      "metadata": {
        "id": "6c2QQ18WB5Vb"
      }
    },
    {
      "cell_type": "code",
      "source": [
        "salarioSexo = salarioHora['female']\n",
        "n = len(salarioSexo)\n",
        "salarioSexo = round(salarioSexo.sum()/n,4)\n",
        "print(str(round(salarioSexo*100,2)) + '%  Feminino')\n",
        "print(str((100-round(salarioSexo*100,2))) + '% Masculino')"
      ],
      "metadata": {
        "id": "v2ME0aM2CIq8",
        "outputId": "0b31eec0-2b86-48e9-f4a3-3527c20bc7a7",
        "colab": {
          "base_uri": "https://localhost:8080/"
        }
      },
      "execution_count": null,
      "outputs": [
        {
          "output_type": "stream",
          "name": "stdout",
          "text": [
            "45.88%  Feminino\n",
            "54.12% Masculino\n"
          ]
        }
      ]
    },
    {
      "cell_type": "markdown",
      "source": [
        "#### f-) Calcule a proporção de casados e solteiros."
      ],
      "metadata": {
        "id": "LniJ24RxETKy"
      }
    },
    {
      "cell_type": "code",
      "source": [
        "salarioCasado = salarioHora['marr']\n",
        "n = len(salarioCasado)\n",
        "salarioCasado = round(salarioCasado.sum()/n,4)\n",
        "print(str(round(salarioCasado*100,2)) + '%  Casado')\n",
        "print(str((100-round(salarioCasado*100,2))) + '% Solteiro')"
      ],
      "metadata": {
        "id": "6__WiQEeEhdS",
        "outputId": "2c5faed9-8921-4ad0-b204-e69eecae9b3e",
        "colab": {
          "base_uri": "https://localhost:8080/"
        }
      },
      "execution_count": null,
      "outputs": [
        {
          "output_type": "stream",
          "name": "stdout",
          "text": [
            "65.54%  Casado\n",
            "34.459999999999994% Solteiro\n"
          ]
        }
      ]
    },
    {
      "cell_type": "markdown",
      "source": [
        "#### g-) Calcule a proporção de funcionários filiados ao sindicato (union)."
      ],
      "metadata": {
        "id": "D1Fwp7rgEh-f"
      }
    },
    {
      "cell_type": "code",
      "source": [
        "salarioSidicaro = salarioHora['union']\n",
        "n = len(salarioSidicaro)\n",
        "salarioSidicaro = round(salarioSidicaro.sum()/n,4)\n",
        "print(str(round(salarioSidicaro*100,2)) + '%  Filiado ao sindicato')\n",
        "print(str((100-round(salarioSidicaro*100,2))) + '% Não filiado')"
      ],
      "metadata": {
        "id": "wj_QM5PgEp_7",
        "colab": {
          "base_uri": "https://localhost:8080/"
        },
        "outputId": "d5193d86-ff8a-4b4e-8483-1cc2ea2c8a9a"
      },
      "execution_count": null,
      "outputs": [
        {
          "output_type": "stream",
          "name": "stdout",
          "text": [
            "17.98%  Filiado ao sindicato\n",
            "82.02% Não filiado\n"
          ]
        }
      ]
    },
    {
      "cell_type": "markdown",
      "source": [
        "#### h-) Calcule as medianas de cada uma das variáveis: anos de educação, anos de experiência e idade."
      ],
      "metadata": {
        "id": "quy0rserFE5V"
      }
    },
    {
      "cell_type": "code",
      "source": [
        "anosEdu = salarioHora['education_yrs']\n",
        "anosExp = salarioHora['experience_yrs']\n",
        "anosIda = salarioHora['age']\n",
        "print(\"Mediana anos de educação:\")\n",
        "print(np.median(anosEdu))\n",
        "print(\"Mediana anos de experiência:\")\n",
        "print(np.median(anosExp))\n",
        "print(\"Mediana idade:\")\n",
        "print(np.median(anosIda))"
      ],
      "metadata": {
        "id": "zvMebS_bFcs-",
        "colab": {
          "base_uri": "https://localhost:8080/"
        },
        "outputId": "1f392255-e64e-4814-e59d-420e4b309afd"
      },
      "execution_count": null,
      "outputs": [
        {
          "output_type": "stream",
          "name": "stdout",
          "text": [
            "Mediana anos de educação:\n",
            "12.0\n",
            "Mediana anos de experiência:\n",
            "15.0\n",
            "Mediana idade:\n",
            "35.0\n"
          ]
        }
      ]
    },
    {
      "cell_type": "markdown",
      "source": [
        "####i-) Calcule as modas de cada uma das variáveis: anos de educação, anos de experiência e idade."
      ],
      "metadata": {
        "id": "HmBKD12oLVKC"
      }
    },
    {
      "cell_type": "code",
      "source": [
        "print(\"Moda anos de educação:\")\n",
        "print(statistics.mode(anosEdu))\n",
        "print(\"Moda anos de experiência:\")\n",
        "print(statistics.mode(anosExp))\n",
        "print(\"Moda idade:\")\n",
        "print(statistics.mode(anosIda))"
      ],
      "metadata": {
        "id": "YnitL-oeLblK",
        "colab": {
          "base_uri": "https://localhost:8080/"
        },
        "outputId": "cbe1cb26-195d-41bd-cac6-a73e30020faa"
      },
      "execution_count": null,
      "outputs": [
        {
          "output_type": "stream",
          "name": "stdout",
          "text": [
            "Moda anos de educação:\n",
            "12\n",
            "Moda anos de experiência:\n",
            "14\n",
            "Moda idade:\n",
            "32\n"
          ]
        }
      ]
    },
    {
      "cell_type": "markdown",
      "source": [
        "####j-) Calcule o percentil 90 da variável idade."
      ],
      "metadata": {
        "id": "JDjD9nSwGB3O"
      }
    },
    {
      "cell_type": "code",
      "source": [
        "print(\"Percentil 90 da variável idade:\")\n",
        "np.quantile(anosIda,0.90)"
      ],
      "metadata": {
        "id": "CTEjI25IGfkF",
        "colab": {
          "base_uri": "https://localhost:8080/"
        },
        "outputId": "eee1b614-9534-47de-e3c8-5fd02cc14b2b"
      },
      "execution_count": null,
      "outputs": [
        {
          "output_type": "stream",
          "name": "stdout",
          "text": [
            "Percentil 90 da variável idade:\n"
          ]
        },
        {
          "output_type": "execute_result",
          "data": {
            "text/plain": [
              "55.0"
            ]
          },
          "metadata": {},
          "execution_count": 70
        }
      ]
    },
    {
      "cell_type": "markdown",
      "source": [
        "####k-) Calcule o percentil 10 da variável anos de experiência."
      ],
      "metadata": {
        "id": "GQ8baHEpIbYA"
      }
    },
    {
      "cell_type": "code",
      "source": [
        "print(\"Percentil 10 da anos de experiência.:\")\n",
        "np.quantile(anosExp,0.10)"
      ],
      "metadata": {
        "id": "U3XniCMGIpUP",
        "colab": {
          "base_uri": "https://localhost:8080/"
        },
        "outputId": "12c3475c-761c-4c5c-a402-ba03ed7bce46"
      },
      "execution_count": null,
      "outputs": [
        {
          "output_type": "stream",
          "name": "stdout",
          "text": [
            "Percentil 10 da anos de experiência.:\n"
          ]
        },
        {
          "output_type": "execute_result",
          "data": {
            "text/plain": [
              "3.0"
            ]
          },
          "metadata": {},
          "execution_count": 71
        }
      ]
    },
    {
      "cell_type": "markdown",
      "source": [
        "####l-) Determine qual atributo apresenta maior variabilidade dentre os atributos: anos de educação, anos de experiência e idade."
      ],
      "metadata": {
        "id": "OH-IBwUrONIF"
      }
    },
    {
      "cell_type": "code",
      "source": [
        "varEdu = round(statistics.variance(anosEdu),2)\n",
        "varExp = round(statistics.variance(anosEdu),2)\n",
        "varIda = round(statistics.variance(anosIda),2)\n",
        "\n",
        "if (varEdu >= varExp) and (varEdu >= varIda):\n",
        "   maiorRes = varEdu\n",
        "   maior = \"Anos de educação\"\n",
        "elif (varExp >= varExp) and (varExp >= varIda):\n",
        "   maiorRes = varExp\n",
        "   maior = \"Anos de experiência\"\n",
        "else:\n",
        "   maiorRes = varIda\n",
        "   maior = \"Idade\"\n",
        "\n",
        "print(\"O atributo com maior variabilidade é :\", maior, \"\\nCom um total de variabilidade:\", maiorRes)"
      ],
      "metadata": {
        "id": "2oQmNM5EPBBj",
        "colab": {
          "base_uri": "https://localhost:8080/"
        },
        "outputId": "29b35a6f-5620-4891-a11c-1948df1c037d"
      },
      "execution_count": null,
      "outputs": [
        {
          "output_type": "stream",
          "name": "stdout",
          "text": [
            "O atributo com maior variabilidade é : Idade \n",
            "Com um total de variabilidade: 137.51\n"
          ]
        }
      ]
    }
  ]
}