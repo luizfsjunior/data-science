{
  "nbformat": 4,
  "nbformat_minor": 0,
  "metadata": {
    "colab": {
      "name": "Projeto #5 Classificação binária breast cancer - carregar o classificador.ipynb",
      "provenance": [],
      "include_colab_link": true
    },
    "kernelspec": {
      "name": "python3",
      "display_name": "Python 3"
    },
    "accelerator": "GPU"
  },
  "cells": [
    {
      "cell_type": "markdown",
      "metadata": {
        "id": "view-in-github",
        "colab_type": "text"
      },
      "source": [
        "<a href=\"https://colab.research.google.com/github/luizfsjunior/data-science/blob/main/Projeto_5_Classifica%C3%A7%C3%A3o_bin%C3%A1ria_breast_cancer_carregar_o_classificador.ipynb\" target=\"_parent\"><img src=\"https://colab.research.google.com/assets/colab-badge.svg\" alt=\"Open In Colab\"/></a>"
      ]
    },
    {
      "cell_type": "markdown",
      "metadata": {
        "id": "rD_RSER5Lkb5"
      },
      "source": [
        "# Projeto 5: Classificação binária brest cancer - carregar o classificador"
      ]
    },
    {
      "cell_type": "markdown",
      "metadata": {
        "id": "5tP2BcEILoLB"
      },
      "source": [
        "## Etapa 1: Importação das bibliotecas"
      ]
    },
    {
      "cell_type": "code",
      "metadata": {
        "id": "Yf0FpJ35Lf-Z",
        "colab": {
          "base_uri": "https://localhost:8080/",
          "height": 35
        },
        "outputId": "44ece980-90b5-4f72-9f1c-31fe902de880"
      },
      "source": [
        "import pandas as pd\n",
        "import numpy as np\n",
        "import torch\n",
        "import torch.nn as nn\n",
        "import torch.nn.functional as F\n",
        "from sklearn.metrics import accuracy_score\n",
        "torch.__version__"
      ],
      "execution_count": null,
      "outputs": [
        {
          "output_type": "execute_result",
          "data": {
            "text/plain": [
              "'1.11.0+cu113'"
            ],
            "application/vnd.google.colaboratory.intrinsic+json": {
              "type": "string"
            }
          },
          "metadata": {},
          "execution_count": 2
        }
      ]
    },
    {
      "cell_type": "markdown",
      "metadata": {
        "id": "C0SD4dJ4MDMN"
      },
      "source": [
        "## Etapa 2: Carregamento do classificador"
      ]
    },
    {
      "cell_type": "code",
      "metadata": {
        "id": "J9aIu62WMGo8",
        "colab": {
          "base_uri": "https://localhost:8080/"
        },
        "outputId": "5a6d11c9-2fa0-472d-aa65-777911268d82"
      },
      "source": [
        "np.random.seed(123)\n",
        "torch.manual_seed(123)"
      ],
      "execution_count": null,
      "outputs": [
        {
          "output_type": "execute_result",
          "data": {
            "text/plain": [
              "<torch._C.Generator at 0x7ff1e7a834f0>"
            ]
          },
          "metadata": {},
          "execution_count": 3
        }
      ]
    },
    {
      "cell_type": "code",
      "metadata": {
        "id": "u49yuDE9MJs6"
      },
      "source": [
        "class classificador_torch(nn.Module):\n",
        "    def __init__(self):\n",
        "        super().__init__() \n",
        "        self.dense0 = nn.Linear(30, 8)\n",
        "        torch.nn.init.normal_(self.dense0.weight, mean = 0.0, std = 0.05)\n",
        "        self.dense1 = nn.Linear(8, 8)\n",
        "        torch.nn.init.normal_(self.dense1.weight, mean = 0.0, std = 0.05)\n",
        "        self.dense2 = nn.Linear(8, 1)\n",
        "        self.activation = nn.ReLU()\n",
        "        self.dropout = nn.Dropout(0.2)\n",
        "        self.output = nn.Sigmoid()\n",
        "        \n",
        "    def forward(self, X):\n",
        "        X = self.dense0(X)\n",
        "        X = self.activation(X)\n",
        "        X = self.dropout(X)\n",
        "        X = self.dense1(X)\n",
        "        X = self.activation(X)\n",
        "        X = self.dropout(X)\n",
        "        X = self.dense2(X)\n",
        "        X = self.output(X)\n",
        "        return X"
      ],
      "execution_count": null,
      "outputs": []
    },
    {
      "cell_type": "code",
      "metadata": {
        "id": "Grh8JjuDkQbU"
      },
      "source": [
        "classificador = classificador_torch()"
      ],
      "execution_count": null,
      "outputs": []
    },
    {
      "cell_type": "code",
      "metadata": {
        "id": "kVrhZpHUkVRs",
        "colab": {
          "base_uri": "https://localhost:8080/",
          "height": 311
        },
        "outputId": "c29f301c-adb8-4770-c34f-f16b031e1776"
      },
      "source": [
        "state_dict = torch.load('/content/checkpoint.pth')"
      ],
      "execution_count": null,
      "outputs": [
        {
          "output_type": "error",
          "ename": "FileNotFoundError",
          "evalue": "ignored",
          "traceback": [
            "\u001b[0;31m---------------------------------------------------------------------------\u001b[0m",
            "\u001b[0;31mFileNotFoundError\u001b[0m                         Traceback (most recent call last)",
            "\u001b[0;32m<ipython-input-7-76b916dc1e55>\u001b[0m in \u001b[0;36m<module>\u001b[0;34m()\u001b[0m\n\u001b[0;32m----> 1\u001b[0;31m \u001b[0mstate_dict\u001b[0m \u001b[0;34m=\u001b[0m \u001b[0mtorch\u001b[0m\u001b[0;34m.\u001b[0m\u001b[0mload\u001b[0m\u001b[0;34m(\u001b[0m\u001b[0;34m'/content/checkpoint.pth'\u001b[0m\u001b[0;34m)\u001b[0m\u001b[0;34m\u001b[0m\u001b[0;34m\u001b[0m\u001b[0m\n\u001b[0m",
            "\u001b[0;32m/usr/local/lib/python3.7/dist-packages/torch/serialization.py\u001b[0m in \u001b[0;36mload\u001b[0;34m(f, map_location, pickle_module, **pickle_load_args)\u001b[0m\n\u001b[1;32m    697\u001b[0m         \u001b[0mpickle_load_args\u001b[0m\u001b[0;34m[\u001b[0m\u001b[0;34m'encoding'\u001b[0m\u001b[0;34m]\u001b[0m \u001b[0;34m=\u001b[0m \u001b[0;34m'utf-8'\u001b[0m\u001b[0;34m\u001b[0m\u001b[0;34m\u001b[0m\u001b[0m\n\u001b[1;32m    698\u001b[0m \u001b[0;34m\u001b[0m\u001b[0m\n\u001b[0;32m--> 699\u001b[0;31m     \u001b[0;32mwith\u001b[0m \u001b[0m_open_file_like\u001b[0m\u001b[0;34m(\u001b[0m\u001b[0mf\u001b[0m\u001b[0;34m,\u001b[0m \u001b[0;34m'rb'\u001b[0m\u001b[0;34m)\u001b[0m \u001b[0;32mas\u001b[0m \u001b[0mopened_file\u001b[0m\u001b[0;34m:\u001b[0m\u001b[0;34m\u001b[0m\u001b[0;34m\u001b[0m\u001b[0m\n\u001b[0m\u001b[1;32m    700\u001b[0m         \u001b[0;32mif\u001b[0m \u001b[0m_is_zipfile\u001b[0m\u001b[0;34m(\u001b[0m\u001b[0mopened_file\u001b[0m\u001b[0;34m)\u001b[0m\u001b[0;34m:\u001b[0m\u001b[0;34m\u001b[0m\u001b[0;34m\u001b[0m\u001b[0m\n\u001b[1;32m    701\u001b[0m             \u001b[0;31m# The zipfile reader is going to advance the current file position.\u001b[0m\u001b[0;34m\u001b[0m\u001b[0;34m\u001b[0m\u001b[0;34m\u001b[0m\u001b[0m\n",
            "\u001b[0;32m/usr/local/lib/python3.7/dist-packages/torch/serialization.py\u001b[0m in \u001b[0;36m_open_file_like\u001b[0;34m(name_or_buffer, mode)\u001b[0m\n\u001b[1;32m    229\u001b[0m \u001b[0;32mdef\u001b[0m \u001b[0m_open_file_like\u001b[0m\u001b[0;34m(\u001b[0m\u001b[0mname_or_buffer\u001b[0m\u001b[0;34m,\u001b[0m \u001b[0mmode\u001b[0m\u001b[0;34m)\u001b[0m\u001b[0;34m:\u001b[0m\u001b[0;34m\u001b[0m\u001b[0;34m\u001b[0m\u001b[0m\n\u001b[1;32m    230\u001b[0m     \u001b[0;32mif\u001b[0m \u001b[0m_is_path\u001b[0m\u001b[0;34m(\u001b[0m\u001b[0mname_or_buffer\u001b[0m\u001b[0;34m)\u001b[0m\u001b[0;34m:\u001b[0m\u001b[0;34m\u001b[0m\u001b[0;34m\u001b[0m\u001b[0m\n\u001b[0;32m--> 231\u001b[0;31m         \u001b[0;32mreturn\u001b[0m \u001b[0m_open_file\u001b[0m\u001b[0;34m(\u001b[0m\u001b[0mname_or_buffer\u001b[0m\u001b[0;34m,\u001b[0m \u001b[0mmode\u001b[0m\u001b[0;34m)\u001b[0m\u001b[0;34m\u001b[0m\u001b[0;34m\u001b[0m\u001b[0m\n\u001b[0m\u001b[1;32m    232\u001b[0m     \u001b[0;32melse\u001b[0m\u001b[0;34m:\u001b[0m\u001b[0;34m\u001b[0m\u001b[0;34m\u001b[0m\u001b[0m\n\u001b[1;32m    233\u001b[0m         \u001b[0;32mif\u001b[0m \u001b[0;34m'w'\u001b[0m \u001b[0;32min\u001b[0m \u001b[0mmode\u001b[0m\u001b[0;34m:\u001b[0m\u001b[0;34m\u001b[0m\u001b[0;34m\u001b[0m\u001b[0m\n",
            "\u001b[0;32m/usr/local/lib/python3.7/dist-packages/torch/serialization.py\u001b[0m in \u001b[0;36m__init__\u001b[0;34m(self, name, mode)\u001b[0m\n\u001b[1;32m    210\u001b[0m \u001b[0;32mclass\u001b[0m \u001b[0m_open_file\u001b[0m\u001b[0;34m(\u001b[0m\u001b[0m_opener\u001b[0m\u001b[0;34m)\u001b[0m\u001b[0;34m:\u001b[0m\u001b[0;34m\u001b[0m\u001b[0;34m\u001b[0m\u001b[0m\n\u001b[1;32m    211\u001b[0m     \u001b[0;32mdef\u001b[0m \u001b[0m__init__\u001b[0m\u001b[0;34m(\u001b[0m\u001b[0mself\u001b[0m\u001b[0;34m,\u001b[0m \u001b[0mname\u001b[0m\u001b[0;34m,\u001b[0m \u001b[0mmode\u001b[0m\u001b[0;34m)\u001b[0m\u001b[0;34m:\u001b[0m\u001b[0;34m\u001b[0m\u001b[0;34m\u001b[0m\u001b[0m\n\u001b[0;32m--> 212\u001b[0;31m         \u001b[0msuper\u001b[0m\u001b[0;34m(\u001b[0m\u001b[0m_open_file\u001b[0m\u001b[0;34m,\u001b[0m \u001b[0mself\u001b[0m\u001b[0;34m)\u001b[0m\u001b[0;34m.\u001b[0m\u001b[0m__init__\u001b[0m\u001b[0;34m(\u001b[0m\u001b[0mopen\u001b[0m\u001b[0;34m(\u001b[0m\u001b[0mname\u001b[0m\u001b[0;34m,\u001b[0m \u001b[0mmode\u001b[0m\u001b[0;34m)\u001b[0m\u001b[0;34m)\u001b[0m\u001b[0;34m\u001b[0m\u001b[0;34m\u001b[0m\u001b[0m\n\u001b[0m\u001b[1;32m    213\u001b[0m \u001b[0;34m\u001b[0m\u001b[0m\n\u001b[1;32m    214\u001b[0m     \u001b[0;32mdef\u001b[0m \u001b[0m__exit__\u001b[0m\u001b[0;34m(\u001b[0m\u001b[0mself\u001b[0m\u001b[0;34m,\u001b[0m \u001b[0;34m*\u001b[0m\u001b[0margs\u001b[0m\u001b[0;34m)\u001b[0m\u001b[0;34m:\u001b[0m\u001b[0;34m\u001b[0m\u001b[0;34m\u001b[0m\u001b[0m\n",
            "\u001b[0;31mFileNotFoundError\u001b[0m: [Errno 2] No such file or directory: '/content/checkpoint.pth'"
          ]
        }
      ]
    },
    {
      "cell_type": "code",
      "metadata": {
        "id": "7Rssy7cOkhpM",
        "colab": {
          "base_uri": "https://localhost:8080/",
          "height": 165
        },
        "outputId": "2df2eaa6-0703-453e-8a05-757f028436e3"
      },
      "source": [
        "state_dict"
      ],
      "execution_count": null,
      "outputs": [
        {
          "output_type": "error",
          "ename": "NameError",
          "evalue": "ignored",
          "traceback": [
            "\u001b[0;31m---------------------------------------------------------------------------\u001b[0m",
            "\u001b[0;31mNameError\u001b[0m                                 Traceback (most recent call last)",
            "\u001b[0;32m<ipython-input-1-96140518a8ce>\u001b[0m in \u001b[0;36m<module>\u001b[0;34m()\u001b[0m\n\u001b[0;32m----> 1\u001b[0;31m \u001b[0mstate_dict\u001b[0m\u001b[0;34m\u001b[0m\u001b[0;34m\u001b[0m\u001b[0m\n\u001b[0m",
            "\u001b[0;31mNameError\u001b[0m: name 'state_dict' is not defined"
          ]
        }
      ]
    },
    {
      "cell_type": "code",
      "metadata": {
        "id": "LBamkoKxko3W",
        "colab": {
          "base_uri": "https://localhost:8080/",
          "height": 35
        },
        "outputId": "0eba2788-f597-4bab-e879-0f0e7912c670"
      },
      "source": [
        "classificador.load_state_dict(state_dict)"
      ],
      "execution_count": null,
      "outputs": [
        {
          "output_type": "execute_result",
          "data": {
            "text/plain": [
              "<All keys matched successfully>"
            ]
          },
          "metadata": {
            "tags": []
          },
          "execution_count": 12
        }
      ]
    },
    {
      "cell_type": "markdown",
      "metadata": {
        "id": "72uvlxJrOuWd"
      },
      "source": [
        "## Etapa 3: Previsões\n"
      ]
    },
    {
      "cell_type": "code",
      "metadata": {
        "id": "dtRWhopTQh0a"
      },
      "source": [
        "novo = torch.tensor([[15.80, 8.34, 118, 900, 0.10, 0.26, 0.08, 0.134, 0.178,\n",
        "                      0.20, 0.05, 1098, 0.87, 4500, 145.2, 0.005, 0.04, 0.05, 0.015,\n",
        "                      0.03, 0.007, 23.15, 16.64, 178.5, 2018, 0.14, 0.185,\n",
        "                      0.84, 158, 0.363]])"
      ],
      "execution_count": null,
      "outputs": []
    },
    {
      "cell_type": "code",
      "metadata": {
        "id": "I2fgEslCma3P",
        "colab": {
          "base_uri": "https://localhost:8080/",
          "height": 35
        },
        "outputId": "3a7baca4-1e82-4162-e4c4-6133cc73a238"
      },
      "source": [
        "classificador.eval()\n",
        "previsao = classificador(novo)\n",
        "previsao = (previsao.detach().numpy() > 0.5)\n",
        "previsao"
      ],
      "execution_count": null,
      "outputs": [
        {
          "output_type": "execute_result",
          "data": {
            "text/plain": [
              "array([[ True]])"
            ]
          },
          "metadata": {
            "tags": []
          },
          "execution_count": 15
        }
      ]
    },
    {
      "cell_type": "code",
      "metadata": {
        "id": "xESHD9SemsS0"
      },
      "source": [
        "previsores = pd.read_csv('entradas_breast.csv')\n",
        "classe = pd.read_csv('saidas_breast.csv')"
      ],
      "execution_count": null,
      "outputs": []
    },
    {
      "cell_type": "code",
      "metadata": {
        "id": "m6VaCZigm9Vz"
      },
      "source": [
        "previsores = torch.tensor(np.array(previsores), dtype = torch.float)\n",
        "classe = torch.tensor(np.array(classe), dtype = torch.float)"
      ],
      "execution_count": null,
      "outputs": []
    },
    {
      "cell_type": "code",
      "metadata": {
        "id": "_1KARv6TnLgN"
      },
      "source": [
        "previsoes = classificador.forward(previsores).detach()"
      ],
      "execution_count": null,
      "outputs": []
    },
    {
      "cell_type": "code",
      "metadata": {
        "id": "zng6leW2nWsS",
        "colab": {
          "base_uri": "https://localhost:8080/",
          "height": 1000
        },
        "outputId": "e03f1677-22b2-4859-8ab0-9ef384f807ed"
      },
      "source": [
        "previsoes"
      ],
      "execution_count": null,
      "outputs": [
        {
          "output_type": "execute_result",
          "data": {
            "text/plain": [
              "tensor([[3.3619e-09],\n",
              "        [3.0388e-06],\n",
              "        [1.5145e-04],\n",
              "        [3.5191e-06],\n",
              "        [2.2233e-03],\n",
              "        [4.7528e-01],\n",
              "        [1.4093e-06],\n",
              "        [1.3330e-01],\n",
              "        [2.5540e-01],\n",
              "        [1.8320e-03],\n",
              "        [4.2396e-02],\n",
              "        [8.5285e-04],\n",
              "        [9.9829e-02],\n",
              "        [8.8744e-01],\n",
              "        [8.8744e-01],\n",
              "        [3.5808e-01],\n",
              "        [5.0094e-03],\n",
              "        [3.0899e-04],\n",
              "        [4.2117e-11],\n",
              "        [8.9949e-01],\n",
              "        [8.8744e-01],\n",
              "        [1.0000e+00],\n",
              "        [3.0697e-01],\n",
              "        [1.4129e-11],\n",
              "        [1.2917e-11],\n",
              "        [6.7493e-05],\n",
              "        [3.5850e-01],\n",
              "        [5.9922e-03],\n",
              "        [1.7778e-04],\n",
              "        [1.0012e-01],\n",
              "        [1.0845e-04],\n",
              "        [1.5636e-02],\n",
              "        [2.1436e-03],\n",
              "        [1.6318e-06],\n",
              "        [5.0767e-04],\n",
              "        [3.2572e-02],\n",
              "        [8.3584e-01],\n",
              "        [9.9843e-01],\n",
              "        [7.8532e-01],\n",
              "        [5.6025e-01],\n",
              "        [6.6390e-01],\n",
              "        [8.8744e-01],\n",
              "        [4.0306e-06],\n",
              "        [7.4665e-02],\n",
              "        [7.9646e-01],\n",
              "        [1.1158e-04],\n",
              "        [1.0000e+00],\n",
              "        [6.8374e-01],\n",
              "        [8.8744e-01],\n",
              "        [8.8744e-01],\n",
              "        [9.3883e-01],\n",
              "        [8.9966e-01],\n",
              "        [9.3204e-01],\n",
              "        [1.2563e-01],\n",
              "        [8.3557e-02],\n",
              "        [9.9568e-01],\n",
              "        [5.6981e-09],\n",
              "        [2.2989e-02],\n",
              "        [8.8744e-01],\n",
              "        [1.0000e+00],\n",
              "        [8.9001e-01],\n",
              "        [1.0000e+00],\n",
              "        [1.1939e-01],\n",
              "        [1.0000e+00],\n",
              "        [4.7998e-02],\n",
              "        [1.7317e-01],\n",
              "        [1.0000e+00],\n",
              "        [9.6960e-01],\n",
              "        [1.0000e+00],\n",
              "        [9.8702e-01],\n",
              "        [8.3441e-07],\n",
              "        [1.0000e+00],\n",
              "        [4.3729e-06],\n",
              "        [2.5776e-04],\n",
              "        [9.9944e-01],\n",
              "        [1.5148e-02],\n",
              "        [8.8744e-01],\n",
              "        [1.1912e-04],\n",
              "        [2.5434e-03],\n",
              "        [8.8744e-01],\n",
              "        [9.8661e-01],\n",
              "        [8.8744e-01],\n",
              "        [4.6162e-07],\n",
              "        [3.1925e-01],\n",
              "        [8.8744e-01],\n",
              "        [2.8286e-04],\n",
              "        [8.4577e-01],\n",
              "        [3.4826e-04],\n",
              "        [9.9990e-01],\n",
              "        [7.9041e-01],\n",
              "        [8.8744e-01],\n",
              "        [6.8538e-01],\n",
              "        [2.6173e-01],\n",
              "        [8.8365e-01],\n",
              "        [1.1198e-01],\n",
              "        [3.2791e-04],\n",
              "        [8.8744e-01],\n",
              "        [1.0000e+00],\n",
              "        [9.8945e-01],\n",
              "        [8.6874e-01],\n",
              "        [1.0721e-01],\n",
              "        [1.0000e+00],\n",
              "        [9.3878e-01],\n",
              "        [1.0000e+00],\n",
              "        [8.8744e-01],\n",
              "        [7.0119e-02],\n",
              "        [9.2886e-01],\n",
              "        [1.0000e+00],\n",
              "        [5.9201e-13],\n",
              "        [9.1142e-01],\n",
              "        [1.0000e+00],\n",
              "        [9.8479e-01],\n",
              "        [9.3105e-01],\n",
              "        [9.7312e-01],\n",
              "        [1.0000e+00],\n",
              "        [8.6038e-01],\n",
              "        [1.0000e+00],\n",
              "        [1.0905e-03],\n",
              "        [1.6137e-03],\n",
              "        [8.3528e-02],\n",
              "        [9.4630e-01],\n",
              "        [7.9462e-04],\n",
              "        [3.6917e-04],\n",
              "        [8.8744e-01],\n",
              "        [9.1897e-01],\n",
              "        [8.8744e-01],\n",
              "        [3.8590e-04],\n",
              "        [2.8534e-03],\n",
              "        [8.8744e-01],\n",
              "        [5.1103e-03],\n",
              "        [9.9534e-01],\n",
              "        [1.3712e-02],\n",
              "        [1.6886e-02],\n",
              "        [8.1048e-01],\n",
              "        [3.4953e-04],\n",
              "        [8.8126e-01],\n",
              "        [9.8852e-01],\n",
              "        [9.6857e-01],\n",
              "        [3.9212e-02],\n",
              "        [9.0962e-01],\n",
              "        [1.0000e+00],\n",
              "        [6.7404e-03],\n",
              "        [9.7695e-01],\n",
              "        [8.8744e-01],\n",
              "        [8.8744e-01],\n",
              "        [9.4690e-01],\n",
              "        [1.3760e-03],\n",
              "        [8.8039e-01],\n",
              "        [7.1337e-01],\n",
              "        [8.8744e-01],\n",
              "        [9.9995e-01],\n",
              "        [1.0000e+00],\n",
              "        [1.0000e+00],\n",
              "        [9.9861e-01],\n",
              "        [8.5912e-01],\n",
              "        [9.9598e-01],\n",
              "        [2.4312e-03],\n",
              "        [5.8181e-01],\n",
              "        [9.8907e-01],\n",
              "        [9.1777e-01],\n",
              "        [8.8744e-01],\n",
              "        [6.7789e-03],\n",
              "        [7.4297e-10],\n",
              "        [9.2019e-01],\n",
              "        [2.0668e-07],\n",
              "        [8.8744e-01],\n",
              "        [9.9476e-01],\n",
              "        [5.9315e-03],\n",
              "        [3.1973e-10],\n",
              "        [9.9692e-01],\n",
              "        [8.8744e-01],\n",
              "        [1.1771e-02],\n",
              "        [1.0242e-05],\n",
              "        [9.9214e-01],\n",
              "        [9.9359e-01],\n",
              "        [1.0000e+00],\n",
              "        [1.0000e+00],\n",
              "        [8.8458e-01],\n",
              "        [8.8744e-01],\n",
              "        [9.2386e-01],\n",
              "        [3.6509e-13],\n",
              "        [9.6392e-07],\n",
              "        [1.6631e-03],\n",
              "        [8.8744e-01],\n",
              "        [3.8787e-01],\n",
              "        [9.6431e-01],\n",
              "        [1.3779e-02],\n",
              "        [9.3832e-01],\n",
              "        [9.9120e-01],\n",
              "        [9.5189e-01],\n",
              "        [8.3180e-01],\n",
              "        [8.8744e-01],\n",
              "        [1.0000e+00],\n",
              "        [3.0824e-01],\n",
              "        [6.0861e-01],\n",
              "        [9.1199e-01],\n",
              "        [4.8705e-01],\n",
              "        [2.1686e-01],\n",
              "        [3.2834e-04],\n",
              "        [9.1455e-03],\n",
              "        [8.8744e-01],\n",
              "        [3.9498e-02],\n",
              "        [1.7359e-02],\n",
              "        [9.1643e-04],\n",
              "        [8.1798e-01],\n",
              "        [2.5731e-01],\n",
              "        [1.0000e+00],\n",
              "        [5.5277e-02],\n",
              "        [9.8917e-01],\n",
              "        [5.2233e-01],\n",
              "        [1.9762e-04],\n",
              "        [8.8744e-01],\n",
              "        [7.4213e-07],\n",
              "        [8.8744e-01],\n",
              "        [8.2033e-01],\n",
              "        [2.0222e-01],\n",
              "        [8.9941e-01],\n",
              "        [9.8501e-01],\n",
              "        [1.6831e-07],\n",
              "        [1.1852e-11],\n",
              "        [8.8744e-01],\n",
              "        [8.8744e-01],\n",
              "        [9.9999e-01],\n",
              "        [2.1858e-02],\n",
              "        [8.3466e-01],\n",
              "        [3.0894e-01],\n",
              "        [9.5207e-01],\n",
              "        [8.8744e-01],\n",
              "        [8.8744e-01],\n",
              "        [8.4971e-01],\n",
              "        [9.9647e-02],\n",
              "        [1.0000e+00],\n",
              "        [9.7027e-01],\n",
              "        [4.8433e-05],\n",
              "        [1.0000e+00],\n",
              "        [8.8744e-01],\n",
              "        [8.7229e-14],\n",
              "        [6.3160e-04],\n",
              "        [9.4876e-01],\n",
              "        [2.1990e-03],\n",
              "        [8.8744e-01],\n",
              "        [1.0000e+00],\n",
              "        [9.5465e-01],\n",
              "        [8.8744e-01],\n",
              "        [5.9767e-02],\n",
              "        [9.9890e-01],\n",
              "        [8.8744e-01],\n",
              "        [9.0033e-01],\n",
              "        [9.5079e-01],\n",
              "        [8.8744e-01],\n",
              "        [5.6185e-06],\n",
              "        [8.8744e-01],\n",
              "        [3.0959e-05],\n",
              "        [9.9942e-02],\n",
              "        [3.2245e-07],\n",
              "        [5.3504e-01],\n",
              "        [3.3576e-06],\n",
              "        [6.6823e-01],\n",
              "        [1.2855e-04],\n",
              "        [3.2383e-01],\n",
              "        [9.7217e-05],\n",
              "        [1.0477e-01],\n",
              "        [1.9705e-02],\n",
              "        [4.9529e-01],\n",
              "        [8.8441e-04],\n",
              "        [4.0299e-20],\n",
              "        [9.6378e-01],\n",
              "        [8.8744e-01],\n",
              "        [9.9986e-01],\n",
              "        [9.9822e-01],\n",
              "        [8.7586e-01],\n",
              "        [9.3858e-01],\n",
              "        [4.9784e-09],\n",
              "        [1.0000e+00],\n",
              "        [4.6265e-02],\n",
              "        [9.8147e-01],\n",
              "        [9.4323e-01],\n",
              "        [5.1666e-01],\n",
              "        [8.7960e-01],\n",
              "        [9.9958e-01],\n",
              "        [2.0999e-05],\n",
              "        [8.8744e-01],\n",
              "        [4.0805e-04],\n",
              "        [4.3060e-01],\n",
              "        [8.8744e-01],\n",
              "        [9.2535e-01],\n",
              "        [9.3481e-01],\n",
              "        [8.8744e-01],\n",
              "        [9.7165e-01],\n",
              "        [9.8966e-01],\n",
              "        [8.8744e-01],\n",
              "        [8.8744e-01],\n",
              "        [9.8879e-01],\n",
              "        [8.8744e-01],\n",
              "        [9.9575e-01],\n",
              "        [9.2969e-01],\n",
              "        [9.1038e-01],\n",
              "        [8.3145e-01],\n",
              "        [8.1827e-01],\n",
              "        [8.9330e-01],\n",
              "        [7.1848e-09],\n",
              "        [9.6400e-01],\n",
              "        [2.0514e-04],\n",
              "        [9.5264e-01],\n",
              "        [8.8744e-01],\n",
              "        [9.7603e-01],\n",
              "        [8.8744e-01],\n",
              "        [1.0000e+00],\n",
              "        [8.8744e-01],\n",
              "        [8.4691e-01],\n",
              "        [9.4370e-01],\n",
              "        [6.1862e-01],\n",
              "        [8.9483e-01],\n",
              "        [1.0000e+00],\n",
              "        [1.0000e+00],\n",
              "        [9.2775e-01],\n",
              "        [9.3743e-01],\n",
              "        [7.6275e-04],\n",
              "        [1.0000e+00],\n",
              "        [9.5468e-01],\n",
              "        [9.8984e-01],\n",
              "        [2.4022e-03],\n",
              "        [8.8744e-01],\n",
              "        [1.8256e-06],\n",
              "        [8.9629e-01],\n",
              "        [9.1970e-01],\n",
              "        [8.8744e-01],\n",
              "        [9.2795e-01],\n",
              "        [4.5746e-05],\n",
              "        [8.5784e-01],\n",
              "        [2.0862e-01],\n",
              "        [9.0756e-01],\n",
              "        [1.0000e+00],\n",
              "        [9.6480e-01],\n",
              "        [8.8744e-01],\n",
              "        [3.3150e-03],\n",
              "        [9.1989e-01],\n",
              "        [4.1034e-07],\n",
              "        [1.0000e+00],\n",
              "        [9.1606e-12],\n",
              "        [6.2464e-01],\n",
              "        [1.0000e+00],\n",
              "        [9.7336e-01],\n",
              "        [1.4490e-02],\n",
              "        [8.5169e-01],\n",
              "        [9.6514e-01],\n",
              "        [8.8744e-01],\n",
              "        [7.1850e-01],\n",
              "        [9.5804e-01],\n",
              "        [8.8744e-01],\n",
              "        [9.0572e-01],\n",
              "        [7.7391e-04],\n",
              "        [3.2166e-13],\n",
              "        [6.7207e-02],\n",
              "        [9.9967e-01],\n",
              "        [8.8744e-01],\n",
              "        [9.2646e-01],\n",
              "        [8.8744e-01],\n",
              "        [1.0000e+00],\n",
              "        [1.0000e+00],\n",
              "        [9.1437e-01],\n",
              "        [8.8744e-01],\n",
              "        [8.8744e-01],\n",
              "        [8.1872e-01],\n",
              "        [9.6298e-01],\n",
              "        [2.9825e-04],\n",
              "        [1.1369e-03],\n",
              "        [8.8263e-01],\n",
              "        [6.5929e-17],\n",
              "        [2.3368e-07],\n",
              "        [8.2521e-02],\n",
              "        [8.8744e-01],\n",
              "        [1.1605e-01],\n",
              "        [1.3595e-05],\n",
              "        [8.9584e-01],\n",
              "        [9.9580e-01],\n",
              "        [1.0000e+00],\n",
              "        [8.8744e-01],\n",
              "        [9.0441e-01],\n",
              "        [8.8744e-01],\n",
              "        [9.8762e-01],\n",
              "        [8.8744e-01],\n",
              "        [1.0000e+00],\n",
              "        [8.8744e-01],\n",
              "        [9.1232e-01],\n",
              "        [8.8744e-01],\n",
              "        [9.3805e-01],\n",
              "        [8.6422e-01],\n",
              "        [9.9969e-01],\n",
              "        [2.4323e-01],\n",
              "        [9.6585e-01],\n",
              "        [1.0000e+00],\n",
              "        [2.4825e-05],\n",
              "        [4.1192e-07],\n",
              "        [9.1242e-01],\n",
              "        [8.9139e-01],\n",
              "        [8.8744e-01],\n",
              "        [8.8744e-01],\n",
              "        [8.8922e-01],\n",
              "        [8.9854e-01],\n",
              "        [2.0130e-02],\n",
              "        [8.8744e-01],\n",
              "        [8.8744e-01],\n",
              "        [8.8744e-01],\n",
              "        [9.3979e-01],\n",
              "        [9.3631e-01],\n",
              "        [8.8366e-01],\n",
              "        [9.9939e-01],\n",
              "        [1.1680e-02],\n",
              "        [8.8744e-01],\n",
              "        [9.4204e-01],\n",
              "        [9.3555e-01],\n",
              "        [1.0000e+00],\n",
              "        [7.9025e-01],\n",
              "        [5.7866e-01],\n",
              "        [8.9616e-01],\n",
              "        [1.0000e+00],\n",
              "        [6.2309e-09],\n",
              "        [9.1963e-01],\n",
              "        [9.6737e-01],\n",
              "        [9.2103e-01],\n",
              "        [8.0137e-01],\n",
              "        [9.7261e-01],\n",
              "        [8.8744e-01],\n",
              "        [1.0000e+00],\n",
              "        [9.9995e-01],\n",
              "        [8.8744e-01],\n",
              "        [9.7872e-01],\n",
              "        [1.0000e+00],\n",
              "        [9.1908e-01],\n",
              "        [4.6926e-01],\n",
              "        [9.7934e-01],\n",
              "        [1.3193e-01],\n",
              "        [4.7268e-04],\n",
              "        [8.9241e-01],\n",
              "        [1.3941e-01],\n",
              "        [9.0607e-01],\n",
              "        [8.8692e-01],\n",
              "        [8.8744e-01],\n",
              "        [8.9311e-01],\n",
              "        [8.9626e-01],\n",
              "        [2.7270e-02],\n",
              "        [8.8744e-01],\n",
              "        [9.9967e-01],\n",
              "        [2.9198e-02],\n",
              "        [9.9979e-01],\n",
              "        [2.5900e-03],\n",
              "        [8.8744e-01],\n",
              "        [7.6250e-01],\n",
              "        [4.1709e-06],\n",
              "        [8.8744e-01],\n",
              "        [1.3756e-01],\n",
              "        [9.6537e-01],\n",
              "        [8.8744e-01],\n",
              "        [8.8744e-01],\n",
              "        [8.8744e-01],\n",
              "        [9.9837e-01],\n",
              "        [9.0873e-01],\n",
              "        [8.8744e-01],\n",
              "        [1.0000e+00],\n",
              "        [3.0539e-06],\n",
              "        [2.8300e-30],\n",
              "        [9.2387e-01],\n",
              "        [8.8744e-01],\n",
              "        [8.8744e-01],\n",
              "        [5.8215e-01],\n",
              "        [8.7039e-01],\n",
              "        [1.0000e+00],\n",
              "        [1.9750e-03],\n",
              "        [9.6848e-01],\n",
              "        [1.0000e+00],\n",
              "        [9.8079e-01],\n",
              "        [6.1043e-01],\n",
              "        [9.9983e-01],\n",
              "        [1.0000e+00],\n",
              "        [9.4858e-01],\n",
              "        [7.6312e-01],\n",
              "        [8.8744e-01],\n",
              "        [9.4951e-01],\n",
              "        [6.5442e-01],\n",
              "        [9.2287e-01],\n",
              "        [5.4399e-01],\n",
              "        [8.8744e-01],\n",
              "        [8.8744e-01],\n",
              "        [8.8744e-01],\n",
              "        [8.8744e-01],\n",
              "        [8.8744e-01],\n",
              "        [5.9490e-05],\n",
              "        [8.8744e-01],\n",
              "        [2.0682e-01],\n",
              "        [8.8744e-01],\n",
              "        [2.0500e-01],\n",
              "        [1.1067e-03],\n",
              "        [9.0470e-01],\n",
              "        [8.8744e-01],\n",
              "        [8.8744e-01],\n",
              "        [8.8744e-01],\n",
              "        [8.8744e-01],\n",
              "        [1.2887e-04],\n",
              "        [6.4774e-04],\n",
              "        [7.2478e-01],\n",
              "        [8.3535e-01],\n",
              "        [8.8744e-01],\n",
              "        [1.0230e-11],\n",
              "        [1.0000e+00],\n",
              "        [1.0000e+00],\n",
              "        [9.4383e-01],\n",
              "        [9.3330e-01],\n",
              "        [8.8744e-01],\n",
              "        [3.5335e-01],\n",
              "        [9.4973e-01],\n",
              "        [8.8744e-01],\n",
              "        [2.8571e-01],\n",
              "        [6.6045e-01],\n",
              "        [6.2010e-03],\n",
              "        [8.8744e-01],\n",
              "        [1.3198e-03],\n",
              "        [1.9902e-03],\n",
              "        [8.4734e-01],\n",
              "        [9.9934e-01],\n",
              "        [1.0000e+00],\n",
              "        [4.3736e-14],\n",
              "        [1.0000e+00],\n",
              "        [8.2944e-01],\n",
              "        [1.0000e+00],\n",
              "        [1.0000e+00],\n",
              "        [8.6761e-01],\n",
              "        [1.0000e+00],\n",
              "        [9.8049e-01],\n",
              "        [8.8744e-01],\n",
              "        [9.6216e-01],\n",
              "        [9.6507e-01],\n",
              "        [7.8161e-01],\n",
              "        [2.9975e-03],\n",
              "        [9.9641e-01],\n",
              "        [1.9879e-04],\n",
              "        [8.8744e-01],\n",
              "        [9.8443e-01],\n",
              "        [1.0000e+00],\n",
              "        [1.0000e+00],\n",
              "        [9.7032e-01],\n",
              "        [8.8744e-01],\n",
              "        [9.8061e-01],\n",
              "        [8.8744e-01],\n",
              "        [9.8446e-01],\n",
              "        [8.5209e-01],\n",
              "        [8.8744e-01],\n",
              "        [1.0000e+00],\n",
              "        [1.0000e+00],\n",
              "        [9.1720e-01],\n",
              "        [9.1077e-01],\n",
              "        [9.9998e-01],\n",
              "        [8.8744e-01],\n",
              "        [1.0000e+00],\n",
              "        [9.5626e-01],\n",
              "        [9.9955e-01],\n",
              "        [9.7149e-01],\n",
              "        [1.0000e+00],\n",
              "        [8.8744e-01],\n",
              "        [8.8744e-01],\n",
              "        [8.8744e-01],\n",
              "        [1.0000e+00],\n",
              "        [4.4745e-01],\n",
              "        [3.7189e-04],\n",
              "        [8.5842e-07],\n",
              "        [1.4969e-04],\n",
              "        [1.7007e-01],\n",
              "        [9.6421e-09],\n",
              "        [1.0000e+00]])"
            ]
          },
          "metadata": {
            "tags": []
          },
          "execution_count": 20
        }
      ]
    },
    {
      "cell_type": "code",
      "metadata": {
        "id": "fcbyEnPenaQh",
        "colab": {
          "base_uri": "https://localhost:8080/",
          "height": 35
        },
        "outputId": "795c9adb-2efc-4a53-eef3-2186e0d49429"
      },
      "source": [
        "F.binary_cross_entropy(previsoes, classe).numpy()"
      ],
      "execution_count": null,
      "outputs": [
        {
          "output_type": "execute_result",
          "data": {
            "text/plain": [
              "array(0.16732648, dtype=float32)"
            ]
          },
          "metadata": {
            "tags": []
          },
          "execution_count": 21
        }
      ]
    },
    {
      "cell_type": "code",
      "metadata": {
        "id": "5SUUwby-nsW7",
        "colab": {
          "base_uri": "https://localhost:8080/",
          "height": 35
        },
        "outputId": "22b77c11-d9a4-41a0-dfed-87911d78b533"
      },
      "source": [
        "accuracy_score(classe.numpy(), (previsoes > 0.5).numpy())"
      ],
      "execution_count": null,
      "outputs": [
        {
          "output_type": "execute_result",
          "data": {
            "text/plain": [
              "0.9420035149384886"
            ]
          },
          "metadata": {
            "tags": []
          },
          "execution_count": 22
        }
      ]
    }
  ]
}