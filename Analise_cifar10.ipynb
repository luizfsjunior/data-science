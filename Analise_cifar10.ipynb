{
  "cells": [
    {
      "cell_type": "markdown",
      "metadata": {
        "id": "view-in-github",
        "colab_type": "text"
      },
      "source": [
        "<a href=\"https://colab.research.google.com/github/luizfsjunior/data-science/blob/main/Analise_cifar10.ipynb\" target=\"_parent\"><img src=\"https://colab.research.google.com/assets/colab-badge.svg\" alt=\"Open In Colab\"/></a>"
      ]
    },
    {
      "cell_type": "code",
      "execution_count": null,
      "metadata": {
        "id": "7j8kKnw_OZAA"
      },
      "outputs": [],
      "source": [
        "from keras.datasets import cifar10\n",
        "import numpy as np\n",
        "from keras.utils import np_utils"
      ]
    },
    {
      "cell_type": "code",
      "execution_count": null,
      "metadata": {
        "colab": {
          "base_uri": "https://localhost:8080/"
        },
        "id": "AkB2G6DEOk9o",
        "outputId": "c4be6d88-ba20-454b-b06c-678d11aeca1c"
      },
      "outputs": [
        {
          "output_type": "stream",
          "name": "stdout",
          "text": [
            "Downloading data from https://www.cs.toronto.edu/~kriz/cifar-10-python.tar.gz\n",
            "170500096/170498071 [==============================] - 2s 0us/step\n",
            "170508288/170498071 [==============================] - 2s 0us/step\n"
          ]
        }
      ],
      "source": [
        "(trainX, trainY), (testX, testY) = cifar10.load_data()\n"
      ]
    },
    {
      "cell_type": "code",
      "execution_count": null,
      "metadata": {
        "id": "lWN9y1y9P_vA"
      },
      "outputs": [],
      "source": [
        "trainX = trainX.astype('float32')\n",
        "testX = testX.astype('float32')\n",
        "\n",
        "trainX = trainX / 255\n",
        "testX = testX / 255 \n",
        "trainY = np_utils.to_categorical(trainY, 10)\n",
        "testY= np_utils.to_categorical(testY, 10)\n"
      ]
    },
    {
      "cell_type": "code",
      "execution_count": null,
      "metadata": {
        "colab": {
          "base_uri": "https://localhost:8080/"
        },
        "id": "gQWmxgFLU7XB",
        "outputId": "55ed5731-e1b3-43f5-b34f-e8cb017d0641"
      },
      "outputs": [
        {
          "output_type": "stream",
          "name": "stdout",
          "text": [
            "(50000, 32, 32, 3)\n",
            "(50000, 10)\n",
            "(10000, 32, 32, 3)\n",
            "(10000, 10)\n"
          ]
        }
      ],
      "source": [
        "print(trainX.shape)\n",
        "print(trainY.shape)\n",
        "print(testX.shape)\n",
        "print(testY.shape)"
      ]
    },
    {
      "cell_type": "code",
      "execution_count": null,
      "metadata": {
        "colab": {
          "base_uri": "https://localhost:8080/"
        },
        "id": "RnEwn8AdOs3Y",
        "outputId": "5f513126-c257-41f5-9290-007d151ebe02"
      },
      "outputs": [
        {
          "output_type": "stream",
          "name": "stdout",
          "text": [
            "Model: \"sequential\"\n",
            "_________________________________________________________________\n",
            " Layer (type)                Output Shape              Param #   \n",
            "=================================================================\n",
            " conv2d (Conv2D)             (None, 32, 32, 32)        896       \n",
            "                                                                 \n",
            " batch_normalization (BatchN  (None, 32, 32, 32)       128       \n",
            " ormalization)                                                   \n",
            "                                                                 \n",
            " conv2d_1 (Conv2D)           (None, 32, 32, 32)        9248      \n",
            "                                                                 \n",
            " batch_normalization_1 (Batc  (None, 32, 32, 32)       128       \n",
            " hNormalization)                                                 \n",
            "                                                                 \n",
            " max_pooling2d (MaxPooling2D  (None, 16, 16, 32)       0         \n",
            " )                                                               \n",
            "                                                                 \n",
            " dropout (Dropout)           (None, 16, 16, 32)        0         \n",
            "                                                                 \n",
            " conv2d_2 (Conv2D)           (None, 16, 16, 64)        18496     \n",
            "                                                                 \n",
            " batch_normalization_2 (Batc  (None, 16, 16, 64)       256       \n",
            " hNormalization)                                                 \n",
            "                                                                 \n",
            " conv2d_3 (Conv2D)           (None, 16, 16, 64)        36928     \n",
            "                                                                 \n",
            " batch_normalization_3 (Batc  (None, 16, 16, 64)       256       \n",
            " hNormalization)                                                 \n",
            "                                                                 \n",
            " max_pooling2d_1 (MaxPooling  (None, 8, 8, 64)         0         \n",
            " 2D)                                                             \n",
            "                                                                 \n",
            " dropout_1 (Dropout)         (None, 8, 8, 64)          0         \n",
            "                                                                 \n",
            " conv2d_4 (Conv2D)           (None, 8, 8, 128)         73856     \n",
            "                                                                 \n",
            " batch_normalization_4 (Batc  (None, 8, 8, 128)        512       \n",
            " hNormalization)                                                 \n",
            "                                                                 \n",
            " conv2d_5 (Conv2D)           (None, 8, 8, 128)         147584    \n",
            "                                                                 \n",
            " batch_normalization_5 (Batc  (None, 8, 8, 128)        512       \n",
            " hNormalization)                                                 \n",
            "                                                                 \n",
            " max_pooling2d_2 (MaxPooling  (None, 4, 4, 128)        0         \n",
            " 2D)                                                             \n",
            "                                                                 \n",
            " dropout_2 (Dropout)         (None, 4, 4, 128)         0         \n",
            "                                                                 \n",
            " flatten (Flatten)           (None, 2048)              0         \n",
            "                                                                 \n",
            " dense (Dense)               (None, 128)               262272    \n",
            "                                                                 \n",
            " batch_normalization_6 (Batc  (None, 128)              512       \n",
            " hNormalization)                                                 \n",
            "                                                                 \n",
            " dropout_3 (Dropout)         (None, 128)               0         \n",
            "                                                                 \n",
            " dense_1 (Dense)             (None, 10)                1290      \n",
            "                                                                 \n",
            "=================================================================\n",
            "Total params: 552,874\n",
            "Trainable params: 551,722\n",
            "Non-trainable params: 1,152\n",
            "_________________________________________________________________\n"
          ]
        }
      ],
      "source": [
        "from keras.layers import Dense\n",
        "from keras.models import Sequential\n",
        "from sklearn.model_selection import cross_val_score\n",
        "from keras.layers import Dense, Dropout, BatchNormalization\n",
        "from keras import layers\n",
        "\n",
        "model = Sequential()\n",
        "model.add(layers.Conv2D(32, (3,3), padding='same', activation='relu', input_shape=(32,32,3)))\n",
        "model.add(layers.BatchNormalization())\n",
        "model.add(layers.Conv2D(32, (3,3), padding='same', activation='relu'))\n",
        "model.add(layers.BatchNormalization())\n",
        "model.add(layers.MaxPooling2D(pool_size=(2,2)))\n",
        "model.add(layers.Dropout(0.3))\n",
        "\n",
        "model.add(layers.Conv2D(64, (3,3), padding='same', activation='relu'))\n",
        "model.add(layers.BatchNormalization())\n",
        "model.add(layers.Conv2D(64, (3,3), padding='same', activation='relu'))\n",
        "model.add(layers.BatchNormalization())\n",
        "model.add(layers.MaxPooling2D(pool_size=(2,2)))\n",
        "model.add(layers.Dropout(0.5))\n",
        "\n",
        "model.add(layers.Conv2D(128, (3,3), padding='same', activation='relu'))\n",
        "model.add(layers.BatchNormalization())\n",
        "model.add(layers.Conv2D(128, (3,3), padding='same', activation='relu'))\n",
        "model.add(layers.BatchNormalization())\n",
        "model.add(layers.MaxPooling2D(pool_size=(2,2)))\n",
        "model.add(layers.Dropout(0.5))\n",
        "\n",
        "model.add(layers.Flatten())\n",
        "model.add(layers.Dense(128, activation='relu'))\n",
        "model.add(layers.BatchNormalization())\n",
        "model.add(layers.Dropout(0.5))\n",
        "model.add(layers.Dense(10, activation='softmax'))\n",
        "\n",
        "model.summary()"
      ]
    },
    {
      "cell_type": "code",
      "execution_count": null,
      "metadata": {
        "id": "dshmhVmAOva3"
      },
      "outputs": [],
      "source": [
        "model.compile(optimizer='adam', loss='binary_crossentropy', metrics=['accuracy'])"
      ]
    },
    {
      "cell_type": "code",
      "execution_count": null,
      "metadata": {
        "colab": {
          "base_uri": "https://localhost:8080/"
        },
        "id": "tjZW2YR3OvWX",
        "outputId": "7d114cd5-fea5-49b0-c628-b63182020d68"
      },
      "outputs": [
        {
          "output_type": "stream",
          "name": "stdout",
          "text": [
            "Epoch 1/100\n",
            "782/782 [==============================] - 9s 12ms/step - loss: 0.1902 - accuracy: 0.6005 - val_loss: 0.1640 - val_accuracy: 0.6444\n",
            "Epoch 2/100\n",
            "782/782 [==============================] - 8s 10ms/step - loss: 0.1652 - accuracy: 0.6614 - val_loss: 0.1360 - val_accuracy: 0.7108\n",
            "Epoch 3/100\n",
            "782/782 [==============================] - 8s 10ms/step - loss: 0.1493 - accuracy: 0.7014 - val_loss: 0.1266 - val_accuracy: 0.7332\n",
            "Epoch 4/100\n",
            "782/782 [==============================] - 8s 10ms/step - loss: 0.1390 - accuracy: 0.7234 - val_loss: 0.1425 - val_accuracy: 0.7022\n",
            "Epoch 5/100\n",
            "782/782 [==============================] - 8s 10ms/step - loss: 0.1295 - accuracy: 0.7478 - val_loss: 0.1146 - val_accuracy: 0.7644\n",
            "Epoch 6/100\n",
            "782/782 [==============================] - 8s 10ms/step - loss: 0.1231 - accuracy: 0.7594 - val_loss: 0.1063 - val_accuracy: 0.7818\n",
            "Epoch 7/100\n",
            "782/782 [==============================] - 8s 10ms/step - loss: 0.1175 - accuracy: 0.7732 - val_loss: 0.1053 - val_accuracy: 0.7907\n",
            "Epoch 8/100\n",
            "782/782 [==============================] - 8s 10ms/step - loss: 0.1130 - accuracy: 0.7842 - val_loss: 0.1168 - val_accuracy: 0.7602\n",
            "Epoch 9/100\n",
            "782/782 [==============================] - 8s 10ms/step - loss: 0.1084 - accuracy: 0.7925 - val_loss: 0.0935 - val_accuracy: 0.8152\n",
            "Epoch 10/100\n",
            "782/782 [==============================] - 8s 10ms/step - loss: 0.1044 - accuracy: 0.7987 - val_loss: 0.0962 - val_accuracy: 0.8080\n",
            "Epoch 11/100\n",
            "782/782 [==============================] - 8s 10ms/step - loss: 0.1012 - accuracy: 0.8088 - val_loss: 0.0918 - val_accuracy: 0.8119\n",
            "Epoch 12/100\n",
            "782/782 [==============================] - 8s 10ms/step - loss: 0.0985 - accuracy: 0.8133 - val_loss: 0.0919 - val_accuracy: 0.8194\n",
            "Epoch 13/100\n",
            "782/782 [==============================] - 8s 10ms/step - loss: 0.0955 - accuracy: 0.8203 - val_loss: 0.0997 - val_accuracy: 0.8032\n",
            "Epoch 14/100\n",
            "782/782 [==============================] - 8s 10ms/step - loss: 0.0928 - accuracy: 0.8242 - val_loss: 0.0873 - val_accuracy: 0.8321\n",
            "Epoch 15/100\n",
            "782/782 [==============================] - 8s 10ms/step - loss: 0.0905 - accuracy: 0.8296 - val_loss: 0.0870 - val_accuracy: 0.8269\n",
            "Epoch 16/100\n",
            "782/782 [==============================] - 8s 10ms/step - loss: 0.0891 - accuracy: 0.8314 - val_loss: 0.0877 - val_accuracy: 0.8242\n",
            "Epoch 17/100\n",
            "782/782 [==============================] - 8s 10ms/step - loss: 0.0869 - accuracy: 0.8364 - val_loss: 0.0793 - val_accuracy: 0.8466\n",
            "Epoch 18/100\n",
            "782/782 [==============================] - 8s 10ms/step - loss: 0.0852 - accuracy: 0.8423 - val_loss: 0.0822 - val_accuracy: 0.8358\n",
            "Epoch 19/100\n",
            "782/782 [==============================] - 8s 10ms/step - loss: 0.0833 - accuracy: 0.8447 - val_loss: 0.0906 - val_accuracy: 0.8177\n",
            "Epoch 20/100\n",
            "782/782 [==============================] - 8s 10ms/step - loss: 0.0824 - accuracy: 0.8460 - val_loss: 0.0769 - val_accuracy: 0.8506\n",
            "Epoch 21/100\n",
            "782/782 [==============================] - 8s 10ms/step - loss: 0.0805 - accuracy: 0.8499 - val_loss: 0.0808 - val_accuracy: 0.8434\n",
            "Epoch 22/100\n",
            "782/782 [==============================] - 8s 10ms/step - loss: 0.0799 - accuracy: 0.8506 - val_loss: 0.0846 - val_accuracy: 0.8384\n",
            "Epoch 23/100\n",
            "782/782 [==============================] - 8s 10ms/step - loss: 0.0780 - accuracy: 0.8557 - val_loss: 0.0746 - val_accuracy: 0.8559\n",
            "Epoch 24/100\n",
            "782/782 [==============================] - 8s 10ms/step - loss: 0.0767 - accuracy: 0.8578 - val_loss: 0.0755 - val_accuracy: 0.8562\n",
            "Epoch 25/100\n",
            "782/782 [==============================] - 8s 11ms/step - loss: 0.0766 - accuracy: 0.8587 - val_loss: 0.0758 - val_accuracy: 0.8525\n",
            "Epoch 26/100\n",
            "782/782 [==============================] - 8s 10ms/step - loss: 0.0757 - accuracy: 0.8592 - val_loss: 0.0753 - val_accuracy: 0.8548\n",
            "Epoch 27/100\n",
            "782/782 [==============================] - 8s 10ms/step - loss: 0.0742 - accuracy: 0.8621 - val_loss: 0.0741 - val_accuracy: 0.8525\n",
            "Epoch 28/100\n",
            "782/782 [==============================] - 8s 10ms/step - loss: 0.0731 - accuracy: 0.8661 - val_loss: 0.0750 - val_accuracy: 0.8569\n",
            "Epoch 29/100\n",
            "782/782 [==============================] - 8s 10ms/step - loss: 0.0716 - accuracy: 0.8675 - val_loss: 0.0711 - val_accuracy: 0.8592\n",
            "Epoch 30/100\n",
            "782/782 [==============================] - 8s 10ms/step - loss: 0.0710 - accuracy: 0.8681 - val_loss: 0.0748 - val_accuracy: 0.8558\n",
            "Epoch 31/100\n",
            "782/782 [==============================] - 8s 10ms/step - loss: 0.0708 - accuracy: 0.8693 - val_loss: 0.0788 - val_accuracy: 0.8526\n",
            "Epoch 32/100\n",
            "782/782 [==============================] - 8s 10ms/step - loss: 0.0702 - accuracy: 0.8705 - val_loss: 0.0757 - val_accuracy: 0.8557\n",
            "Epoch 33/100\n",
            "782/782 [==============================] - 8s 10ms/step - loss: 0.0686 - accuracy: 0.8735 - val_loss: 0.0726 - val_accuracy: 0.8615\n",
            "Epoch 34/100\n",
            "782/782 [==============================] - 8s 10ms/step - loss: 0.0687 - accuracy: 0.8732 - val_loss: 0.0702 - val_accuracy: 0.8647\n",
            "Epoch 35/100\n",
            "782/782 [==============================] - 8s 10ms/step - loss: 0.0673 - accuracy: 0.8774 - val_loss: 0.0735 - val_accuracy: 0.8594\n",
            "Epoch 36/100\n",
            "782/782 [==============================] - 8s 10ms/step - loss: 0.0674 - accuracy: 0.8764 - val_loss: 0.0754 - val_accuracy: 0.8526\n",
            "Epoch 37/100\n",
            "782/782 [==============================] - 8s 10ms/step - loss: 0.0660 - accuracy: 0.8794 - val_loss: 0.0786 - val_accuracy: 0.8481\n",
            "Epoch 38/100\n",
            "782/782 [==============================] - 8s 10ms/step - loss: 0.0666 - accuracy: 0.8758 - val_loss: 0.0735 - val_accuracy: 0.8589\n",
            "Epoch 39/100\n",
            "782/782 [==============================] - 8s 10ms/step - loss: 0.0654 - accuracy: 0.8802 - val_loss: 0.0717 - val_accuracy: 0.8632\n",
            "Epoch 40/100\n",
            "782/782 [==============================] - 8s 10ms/step - loss: 0.0648 - accuracy: 0.8819 - val_loss: 0.0755 - val_accuracy: 0.8573\n",
            "Epoch 41/100\n",
            "782/782 [==============================] - 8s 10ms/step - loss: 0.0633 - accuracy: 0.8839 - val_loss: 0.0752 - val_accuracy: 0.8618\n",
            "Epoch 42/100\n",
            "782/782 [==============================] - 8s 10ms/step - loss: 0.0636 - accuracy: 0.8828 - val_loss: 0.0711 - val_accuracy: 0.8684\n",
            "Epoch 43/100\n",
            "782/782 [==============================] - 8s 10ms/step - loss: 0.0627 - accuracy: 0.8851 - val_loss: 0.0693 - val_accuracy: 0.8686\n",
            "Epoch 44/100\n",
            "782/782 [==============================] - 8s 10ms/step - loss: 0.0630 - accuracy: 0.8846 - val_loss: 0.0749 - val_accuracy: 0.8592\n",
            "Epoch 45/100\n",
            "782/782 [==============================] - 8s 10ms/step - loss: 0.0617 - accuracy: 0.8888 - val_loss: 0.0721 - val_accuracy: 0.8674\n",
            "Epoch 46/100\n",
            "782/782 [==============================] - 8s 10ms/step - loss: 0.0611 - accuracy: 0.8898 - val_loss: 0.0694 - val_accuracy: 0.8704\n",
            "Epoch 47/100\n",
            "782/782 [==============================] - 8s 10ms/step - loss: 0.0608 - accuracy: 0.8895 - val_loss: 0.0728 - val_accuracy: 0.8621\n",
            "Epoch 48/100\n",
            "782/782 [==============================] - 8s 11ms/step - loss: 0.0597 - accuracy: 0.8898 - val_loss: 0.0687 - val_accuracy: 0.8708\n",
            "Epoch 49/100\n",
            "782/782 [==============================] - 8s 10ms/step - loss: 0.0603 - accuracy: 0.8898 - val_loss: 0.0676 - val_accuracy: 0.8720\n",
            "Epoch 50/100\n",
            "782/782 [==============================] - 8s 10ms/step - loss: 0.0599 - accuracy: 0.8912 - val_loss: 0.0694 - val_accuracy: 0.8674\n",
            "Epoch 51/100\n",
            "782/782 [==============================] - 8s 10ms/step - loss: 0.0591 - accuracy: 0.8928 - val_loss: 0.0669 - val_accuracy: 0.8746\n",
            "Epoch 52/100\n",
            "782/782 [==============================] - 8s 10ms/step - loss: 0.0591 - accuracy: 0.8930 - val_loss: 0.0660 - val_accuracy: 0.8784\n",
            "Epoch 53/100\n",
            "782/782 [==============================] - 8s 10ms/step - loss: 0.0596 - accuracy: 0.8907 - val_loss: 0.0689 - val_accuracy: 0.8738\n",
            "Epoch 54/100\n",
            "782/782 [==============================] - 8s 10ms/step - loss: 0.0577 - accuracy: 0.8950 - val_loss: 0.0694 - val_accuracy: 0.8737\n",
            "Epoch 55/100\n",
            "782/782 [==============================] - 8s 10ms/step - loss: 0.0582 - accuracy: 0.8952 - val_loss: 0.0655 - val_accuracy: 0.8793\n",
            "Epoch 56/100\n",
            "782/782 [==============================] - 8s 10ms/step - loss: 0.0578 - accuracy: 0.8954 - val_loss: 0.0686 - val_accuracy: 0.8748\n",
            "Epoch 57/100\n",
            "782/782 [==============================] - 8s 10ms/step - loss: 0.0573 - accuracy: 0.8973 - val_loss: 0.0726 - val_accuracy: 0.8664\n",
            "Epoch 58/100\n",
            "782/782 [==============================] - 8s 10ms/step - loss: 0.0567 - accuracy: 0.8966 - val_loss: 0.0654 - val_accuracy: 0.8805\n",
            "Epoch 59/100\n",
            "782/782 [==============================] - 8s 10ms/step - loss: 0.0557 - accuracy: 0.8987 - val_loss: 0.0665 - val_accuracy: 0.8781\n",
            "Epoch 60/100\n",
            "782/782 [==============================] - 8s 10ms/step - loss: 0.0565 - accuracy: 0.8973 - val_loss: 0.0726 - val_accuracy: 0.8653\n",
            "Epoch 61/100\n",
            "782/782 [==============================] - 8s 10ms/step - loss: 0.0552 - accuracy: 0.9004 - val_loss: 0.0726 - val_accuracy: 0.8685\n",
            "Epoch 62/100\n",
            "782/782 [==============================] - 8s 10ms/step - loss: 0.0566 - accuracy: 0.8981 - val_loss: 0.0752 - val_accuracy: 0.8601\n",
            "Epoch 63/100\n",
            "782/782 [==============================] - 8s 10ms/step - loss: 0.0550 - accuracy: 0.9003 - val_loss: 0.0768 - val_accuracy: 0.8600\n",
            "Epoch 64/100\n",
            "782/782 [==============================] - 8s 10ms/step - loss: 0.0550 - accuracy: 0.9020 - val_loss: 0.0705 - val_accuracy: 0.8703\n",
            "Epoch 65/100\n",
            "782/782 [==============================] - 8s 10ms/step - loss: 0.0545 - accuracy: 0.9025 - val_loss: 0.0683 - val_accuracy: 0.8758\n",
            "Epoch 66/100\n",
            "782/782 [==============================] - 8s 10ms/step - loss: 0.0550 - accuracy: 0.9006 - val_loss: 0.0679 - val_accuracy: 0.8759\n",
            "Epoch 67/100\n",
            "782/782 [==============================] - 8s 10ms/step - loss: 0.0540 - accuracy: 0.9020 - val_loss: 0.0668 - val_accuracy: 0.8806\n",
            "Epoch 68/100\n",
            "782/782 [==============================] - 8s 10ms/step - loss: 0.0536 - accuracy: 0.9043 - val_loss: 0.0657 - val_accuracy: 0.8794\n",
            "Epoch 69/100\n",
            "782/782 [==============================] - 8s 10ms/step - loss: 0.0528 - accuracy: 0.9044 - val_loss: 0.0652 - val_accuracy: 0.8816\n",
            "Epoch 70/100\n",
            "782/782 [==============================] - 8s 11ms/step - loss: 0.0531 - accuracy: 0.9028 - val_loss: 0.0663 - val_accuracy: 0.8796\n",
            "Epoch 71/100\n",
            "782/782 [==============================] - 8s 10ms/step - loss: 0.0532 - accuracy: 0.9044 - val_loss: 0.0673 - val_accuracy: 0.8778\n",
            "Epoch 72/100\n",
            "782/782 [==============================] - 8s 10ms/step - loss: 0.0527 - accuracy: 0.9054 - val_loss: 0.0693 - val_accuracy: 0.8765\n",
            "Epoch 73/100\n",
            "782/782 [==============================] - 8s 10ms/step - loss: 0.0523 - accuracy: 0.9071 - val_loss: 0.0664 - val_accuracy: 0.8811\n",
            "Epoch 74/100\n",
            "782/782 [==============================] - 8s 10ms/step - loss: 0.0524 - accuracy: 0.9050 - val_loss: 0.0737 - val_accuracy: 0.8687\n",
            "Epoch 75/100\n",
            "782/782 [==============================] - 8s 10ms/step - loss: 0.0522 - accuracy: 0.9078 - val_loss: 0.0661 - val_accuracy: 0.8829\n",
            "Epoch 76/100\n",
            "782/782 [==============================] - 8s 10ms/step - loss: 0.0520 - accuracy: 0.9069 - val_loss: 0.0649 - val_accuracy: 0.8822\n",
            "Epoch 77/100\n",
            "782/782 [==============================] - 8s 10ms/step - loss: 0.0510 - accuracy: 0.9079 - val_loss: 0.0689 - val_accuracy: 0.8767\n",
            "Epoch 78/100\n",
            "782/782 [==============================] - 8s 10ms/step - loss: 0.0509 - accuracy: 0.9081 - val_loss: 0.0668 - val_accuracy: 0.8754\n",
            "Epoch 79/100\n",
            "782/782 [==============================] - 8s 10ms/step - loss: 0.0515 - accuracy: 0.9079 - val_loss: 0.0649 - val_accuracy: 0.8802\n",
            "Epoch 80/100\n",
            "782/782 [==============================] - 8s 10ms/step - loss: 0.0510 - accuracy: 0.9100 - val_loss: 0.0691 - val_accuracy: 0.8735\n",
            "Epoch 81/100\n",
            "782/782 [==============================] - 8s 10ms/step - loss: 0.0497 - accuracy: 0.9104 - val_loss: 0.0638 - val_accuracy: 0.8836\n",
            "Epoch 82/100\n",
            "782/782 [==============================] - 8s 10ms/step - loss: 0.0499 - accuracy: 0.9111 - val_loss: 0.0702 - val_accuracy: 0.8752\n",
            "Epoch 83/100\n",
            "782/782 [==============================] - 8s 10ms/step - loss: 0.0505 - accuracy: 0.9094 - val_loss: 0.0674 - val_accuracy: 0.8797\n",
            "Epoch 84/100\n",
            "782/782 [==============================] - 8s 10ms/step - loss: 0.0495 - accuracy: 0.9105 - val_loss: 0.0695 - val_accuracy: 0.8801\n",
            "Epoch 85/100\n",
            "782/782 [==============================] - 8s 10ms/step - loss: 0.0500 - accuracy: 0.9104 - val_loss: 0.0758 - val_accuracy: 0.8691\n",
            "Epoch 86/100\n",
            "782/782 [==============================] - 8s 10ms/step - loss: 0.0502 - accuracy: 0.9109 - val_loss: 0.0656 - val_accuracy: 0.8836\n",
            "Epoch 87/100\n",
            "782/782 [==============================] - 8s 10ms/step - loss: 0.0489 - accuracy: 0.9122 - val_loss: 0.0702 - val_accuracy: 0.8715\n",
            "Epoch 88/100\n",
            "782/782 [==============================] - 8s 10ms/step - loss: 0.0490 - accuracy: 0.9123 - val_loss: 0.0697 - val_accuracy: 0.8736\n",
            "Epoch 89/100\n",
            "782/782 [==============================] - 8s 10ms/step - loss: 0.0489 - accuracy: 0.9141 - val_loss: 0.0671 - val_accuracy: 0.8798\n",
            "Epoch 90/100\n",
            "782/782 [==============================] - 8s 10ms/step - loss: 0.0486 - accuracy: 0.9148 - val_loss: 0.0686 - val_accuracy: 0.8771\n",
            "Epoch 91/100\n",
            "782/782 [==============================] - 8s 11ms/step - loss: 0.0491 - accuracy: 0.9115 - val_loss: 0.0673 - val_accuracy: 0.8809\n",
            "Epoch 92/100\n",
            "782/782 [==============================] - 8s 10ms/step - loss: 0.0486 - accuracy: 0.9142 - val_loss: 0.0689 - val_accuracy: 0.8758\n",
            "Epoch 93/100\n",
            "782/782 [==============================] - 8s 10ms/step - loss: 0.0478 - accuracy: 0.9164 - val_loss: 0.0668 - val_accuracy: 0.8819\n",
            "Epoch 94/100\n",
            "782/782 [==============================] - 8s 10ms/step - loss: 0.0477 - accuracy: 0.9161 - val_loss: 0.0670 - val_accuracy: 0.8827\n",
            "Epoch 95/100\n",
            "782/782 [==============================] - 8s 10ms/step - loss: 0.0478 - accuracy: 0.9156 - val_loss: 0.0669 - val_accuracy: 0.8776\n",
            "Epoch 96/100\n",
            "782/782 [==============================] - 8s 10ms/step - loss: 0.0474 - accuracy: 0.9161 - val_loss: 0.0668 - val_accuracy: 0.8817\n",
            "Epoch 97/100\n",
            "782/782 [==============================] - 8s 10ms/step - loss: 0.0477 - accuracy: 0.9156 - val_loss: 0.0717 - val_accuracy: 0.8744\n",
            "Epoch 98/100\n",
            "782/782 [==============================] - 8s 10ms/step - loss: 0.0477 - accuracy: 0.9162 - val_loss: 0.0692 - val_accuracy: 0.8766\n",
            "Epoch 99/100\n",
            "782/782 [==============================] - 8s 10ms/step - loss: 0.0473 - accuracy: 0.9161 - val_loss: 0.0646 - val_accuracy: 0.8836\n",
            "Epoch 100/100\n",
            "782/782 [==============================] - 8s 10ms/step - loss: 0.0470 - accuracy: 0.9172 - val_loss: 0.0684 - val_accuracy: 0.8802\n"
          ]
        }
      ],
      "source": [
        "history = model.fit(trainX, trainY, epochs=100, batch_size = 64, validation_data=(testX, testY))"
      ]
    },
    {
      "cell_type": "code",
      "execution_count": null,
      "metadata": {
        "id": "NBGx26z4c-6i",
        "colab": {
          "base_uri": "https://localhost:8080/",
          "height": 313
        },
        "outputId": "5168335d-a75f-4115-bb14-0795f407c45e"
      },
      "outputs": [
        {
          "output_type": "execute_result",
          "data": {
            "text/plain": [
              "Text(0.5, 1.0, 'Loss ')"
            ]
          },
          "metadata": {},
          "execution_count": 9
        },
        {
          "output_type": "display_data",
          "data": {
            "text/plain": [
              "<Figure size 432x288 with 1 Axes>"
            ],
            "image/png": "[encoded data removed]"
          },
          "metadata": {
            "needs_background": "light"
          }
        }
      ],
      "source": [
        "import matplotlib.pyplot as plt\n",
        "\n",
        "plt.figure(figsize=[6,4])\n",
        "plt.plot(history.history['loss'], 'black', linewidth=2.0)\n",
        "plt.plot(history.history['val_loss'], 'green', linewidth=2.0)\n",
        "plt.legend(['Training Loss', 'Validation Loss'], fontsize=14)\n",
        "plt.xlabel('Epochs', fontsize=10)\n",
        "plt.ylabel('Loss', fontsize=10)\n",
        "plt.title('Loss ', fontsize=12)"
      ]
    },
    {
      "cell_type": "code",
      "execution_count": null,
      "metadata": {
        "id": "L_u9GOB6dQIS",
        "colab": {
          "base_uri": "https://localhost:8080/",
          "height": 313
        },
        "outputId": "609045e3-42b4-4023-b27c-2ffa1ebe3eed"
      },
      "outputs": [
        {
          "output_type": "execute_result",
          "data": {
            "text/plain": [
              "Text(0.5, 1.0, 'Accuracy ')"
            ]
          },
          "metadata": {},
          "execution_count": 10
        },
        {
          "output_type": "display_data",
          "data": {
            "text/plain": [
              "<Figure size 432x288 with 1 Axes>"
            ],
            "image/png": "[encoded data removed]"
          },
          "metadata": {
            "needs_background": "light"
          }
        }
      ],
      "source": [
        "plt.figure(figsize=[6,4])\n",
        "plt.plot(history.history['accuracy'], 'black', linewidth=2.0)\n",
        "plt.plot(history.history['val_accuracy'], 'blue', linewidth=2.0)\n",
        "plt.legend(['Training Accuracy', 'Validation Accuracy'], fontsize=14)\n",
        "plt.xlabel('Epochs', fontsize=10)\n",
        "plt.ylabel('Accuracy', fontsize=10)\n",
        "plt.title('Accuracy ', fontsize=12)"
      ]
    }
  ],
  "metadata": {
    "accelerator": "GPU",
    "colab": {
      "collapsed_sections": [],
      "provenance": [],
      "authorship_tag": "ABX9TyPJhXiupL0BcL8w+P49Dyic",
      "include_colab_link": true
    },
    "gpuClass": "standard",
    "kernelspec": {
      "display_name": "Python 3",
      "name": "python3"
    },
    "language_info": {
      "name": "python"
    }
  },
  "nbformat": 4,
  "nbformat_minor": 0
}